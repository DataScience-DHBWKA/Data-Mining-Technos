{
 "cells": [
  {
   "cell_type": "code",
   "execution_count": 198,
   "id": "9c1350ff",
   "metadata": {},
   "outputs": [],
   "source": [
    "import numpy as np # linear algebra\n",
    "import pandas as pd # data processing\n",
    "import seaborn as sns # Plots\n",
    "import matplotlib.pyplot as plt # Plots"
   ]
  },
  {
   "cell_type": "code",
   "execution_count": 199,
   "id": "b1891941",
   "metadata": {},
   "outputs": [],
   "source": [
    "train_data = pd.read_csv('./mymoviedb.csv', engine='python')"
   ]
  },
  {
   "cell_type": "code",
   "execution_count": 200,
   "id": "711f550a",
   "metadata": {},
   "outputs": [
    {
     "name": "stdout",
     "output_type": "stream",
     "text": [
      "<class 'pandas.core.frame.DataFrame'>\n",
      "RangeIndex: 9837 entries, 0 to 9836\n",
      "Data columns (total 9 columns):\n",
      " #   Column             Non-Null Count  Dtype  \n",
      "---  ------             --------------  -----  \n",
      " 0   Release_Date       9837 non-null   object \n",
      " 1   Title              9828 non-null   object \n",
      " 2   Overview           9828 non-null   object \n",
      " 3   Popularity         9827 non-null   float64\n",
      " 4   Vote_Count         9827 non-null   object \n",
      " 5   Vote_Average       9827 non-null   object \n",
      " 6   Original_Language  9827 non-null   object \n",
      " 7   Genre              9826 non-null   object \n",
      " 8   Poster_Url         9826 non-null   object \n",
      "dtypes: float64(1), object(8)\n",
      "memory usage: 691.8+ KB\n"
     ]
    }
   ],
   "source": [
    "train_data.info()"
   ]
  },
  {
   "cell_type": "code",
   "execution_count": 201,
   "id": "b2b71667",
   "metadata": {},
   "outputs": [
    {
     "data": {
      "text/plain": [
       "(9837, 9)"
      ]
     },
     "execution_count": 201,
     "metadata": {},
     "output_type": "execute_result"
    }
   ],
   "source": [
    "train_data.shape"
   ]
  },
  {
   "cell_type": "code",
   "execution_count": 202,
   "id": "8eb025fd",
   "metadata": {},
   "outputs": [],
   "source": [
    "column_types = {'Title':'string', 'Overview':'string', 'Original_Language':'string', 'Genre':'string'}\n",
    "\n",
    "train_data_clean = pd.read_csv('./mymoviedb.csv', engine='python', dtype=column_types)"
   ]
  },
  {
   "cell_type": "code",
   "execution_count": 203,
   "id": "23c78249",
   "metadata": {},
   "outputs": [],
   "source": [
    "train_data_clean = train_data_clean.dropna()\n",
    "train_data_clean['Vote_Count'] = train_data_clean['Vote_Count'].astype(int)\n",
    "train_data_clean['Popularity'] = train_data_clean['Popularity'].astype(int)\n",
    "train_data_clean['Vote_Average'] = train_data_clean['Vote_Average'].astype(float)\n",
    "train_data_clean['Release_Date'] = pd.to_datetime(train_data_clean['Release_Date'])"
   ]
  },
  {
   "cell_type": "code",
   "execution_count": 204,
   "id": "3aede7c0",
   "metadata": {},
   "outputs": [],
   "source": [
    "train_data_clean = train_data_clean.drop(columns=['Poster_Url','Overview'])"
   ]
  },
  {
   "cell_type": "code",
   "execution_count": 205,
   "id": "3a36c54a",
   "metadata": {},
   "outputs": [
    {
     "name": "stdout",
     "output_type": "stream",
     "text": [
      "<class 'pandas.core.frame.DataFrame'>\n",
      "Index: 9826 entries, 0 to 9836\n",
      "Data columns (total 7 columns):\n",
      " #   Column             Non-Null Count  Dtype         \n",
      "---  ------             --------------  -----         \n",
      " 0   Release_Date       9826 non-null   datetime64[ns]\n",
      " 1   Title              9826 non-null   string        \n",
      " 2   Popularity         9826 non-null   int32         \n",
      " 3   Vote_Count         9826 non-null   int32         \n",
      " 4   Vote_Average       9826 non-null   float64       \n",
      " 5   Original_Language  9826 non-null   string        \n",
      " 6   Genre              9826 non-null   string        \n",
      "dtypes: datetime64[ns](1), float64(1), int32(2), string(3)\n",
      "memory usage: 537.4 KB\n"
     ]
    }
   ],
   "source": [
    "train_data_clean.info()"
   ]
  },
  {
   "cell_type": "code",
   "execution_count": 206,
   "id": "cf3ec5cc",
   "metadata": {},
   "outputs": [
    {
     "data": {
      "text/plain": [
       "(9826, 7)"
      ]
     },
     "execution_count": 206,
     "metadata": {},
     "output_type": "execute_result"
    }
   ],
   "source": [
    "train_data_clean.shape"
   ]
  },
  {
   "cell_type": "code",
   "execution_count": 207,
   "id": "35244fae",
   "metadata": {},
   "outputs": [
    {
     "name": "stdout",
     "output_type": "stream",
     "text": [
      "Release_Date         0\n",
      "Title                0\n",
      "Popularity           0\n",
      "Vote_Count           0\n",
      "Vote_Average         0\n",
      "Original_Language    0\n",
      "Genre                0\n",
      "dtype: int64\n"
     ]
    }
   ],
   "source": [
    "print(train_data_clean.isnull().sum())"
   ]
  },
  {
   "cell_type": "code",
   "execution_count": 208,
   "id": "d36ec858",
   "metadata": {},
   "outputs": [
    {
     "data": {
      "text/html": [
       "<div>\n",
       "<style scoped>\n",
       "    .dataframe tbody tr th:only-of-type {\n",
       "        vertical-align: middle;\n",
       "    }\n",
       "\n",
       "    .dataframe tbody tr th {\n",
       "        vertical-align: top;\n",
       "    }\n",
       "\n",
       "    .dataframe thead th {\n",
       "        text-align: right;\n",
       "    }\n",
       "</style>\n",
       "<table border=\"1\" class=\"dataframe\">\n",
       "  <thead>\n",
       "    <tr style=\"text-align: right;\">\n",
       "      <th></th>\n",
       "      <th>Release_Date</th>\n",
       "      <th>Title</th>\n",
       "      <th>Popularity</th>\n",
       "      <th>Vote_Count</th>\n",
       "      <th>Vote_Average</th>\n",
       "      <th>Original_Language</th>\n",
       "      <th>Genre</th>\n",
       "    </tr>\n",
       "  </thead>\n",
       "  <tbody>\n",
       "    <tr>\n",
       "      <th>0</th>\n",
       "      <td>2021-12-15</td>\n",
       "      <td>Spider-Man: No Way Home</td>\n",
       "      <td>5083</td>\n",
       "      <td>8940</td>\n",
       "      <td>8.3</td>\n",
       "      <td>en</td>\n",
       "      <td>Action, Adventure, Science Fiction</td>\n",
       "    </tr>\n",
       "    <tr>\n",
       "      <th>1</th>\n",
       "      <td>2022-03-01</td>\n",
       "      <td>The Batman</td>\n",
       "      <td>3827</td>\n",
       "      <td>1151</td>\n",
       "      <td>8.1</td>\n",
       "      <td>en</td>\n",
       "      <td>Crime, Mystery, Thriller</td>\n",
       "    </tr>\n",
       "    <tr>\n",
       "      <th>2</th>\n",
       "      <td>2022-02-25</td>\n",
       "      <td>No Exit</td>\n",
       "      <td>2618</td>\n",
       "      <td>122</td>\n",
       "      <td>6.3</td>\n",
       "      <td>en</td>\n",
       "      <td>Thriller</td>\n",
       "    </tr>\n",
       "    <tr>\n",
       "      <th>3</th>\n",
       "      <td>2021-11-24</td>\n",
       "      <td>Encanto</td>\n",
       "      <td>2402</td>\n",
       "      <td>5076</td>\n",
       "      <td>7.7</td>\n",
       "      <td>en</td>\n",
       "      <td>Animation, Comedy, Family, Fantasy</td>\n",
       "    </tr>\n",
       "    <tr>\n",
       "      <th>4</th>\n",
       "      <td>2021-12-22</td>\n",
       "      <td>The King's Man</td>\n",
       "      <td>1895</td>\n",
       "      <td>1793</td>\n",
       "      <td>7.0</td>\n",
       "      <td>en</td>\n",
       "      <td>Action, Adventure, Thriller, War</td>\n",
       "    </tr>\n",
       "  </tbody>\n",
       "</table>\n",
       "</div>"
      ],
      "text/plain": [
       "  Release_Date                    Title  Popularity  Vote_Count  Vote_Average  \\\n",
       "0   2021-12-15  Spider-Man: No Way Home        5083        8940           8.3   \n",
       "1   2022-03-01               The Batman        3827        1151           8.1   \n",
       "2   2022-02-25                  No Exit        2618         122           6.3   \n",
       "3   2021-11-24                  Encanto        2402        5076           7.7   \n",
       "4   2021-12-22           The King's Man        1895        1793           7.0   \n",
       "\n",
       "  Original_Language                               Genre  \n",
       "0                en  Action, Adventure, Science Fiction  \n",
       "1                en            Crime, Mystery, Thriller  \n",
       "2                en                            Thriller  \n",
       "3                en  Animation, Comedy, Family, Fantasy  \n",
       "4                en    Action, Adventure, Thriller, War  "
      ]
     },
     "execution_count": 208,
     "metadata": {},
     "output_type": "execute_result"
    }
   ],
   "source": [
    "train_data_clean.head()"
   ]
  },
  {
   "cell_type": "code",
   "execution_count": 209,
   "id": "50615999",
   "metadata": {},
   "outputs": [
    {
     "data": {
      "text/html": [
       "<div>\n",
       "<style scoped>\n",
       "    .dataframe tbody tr th:only-of-type {\n",
       "        vertical-align: middle;\n",
       "    }\n",
       "\n",
       "    .dataframe tbody tr th {\n",
       "        vertical-align: top;\n",
       "    }\n",
       "\n",
       "    .dataframe thead th {\n",
       "        text-align: right;\n",
       "    }\n",
       "</style>\n",
       "<table border=\"1\" class=\"dataframe\">\n",
       "  <thead>\n",
       "    <tr style=\"text-align: right;\">\n",
       "      <th></th>\n",
       "      <th>Release_Date</th>\n",
       "      <th>Popularity</th>\n",
       "      <th>Vote_Count</th>\n",
       "      <th>Vote_Average</th>\n",
       "    </tr>\n",
       "  </thead>\n",
       "  <tbody>\n",
       "    <tr>\n",
       "      <th>count</th>\n",
       "      <td>9826</td>\n",
       "      <td>9826.000000</td>\n",
       "      <td>9826.000000</td>\n",
       "      <td>9826.000000</td>\n",
       "    </tr>\n",
       "    <tr>\n",
       "      <th>mean</th>\n",
       "      <td>2006-09-23 04:47:14.276409600</td>\n",
       "      <td>39.828007</td>\n",
       "      <td>1392.943721</td>\n",
       "      <td>6.439467</td>\n",
       "    </tr>\n",
       "    <tr>\n",
       "      <th>min</th>\n",
       "      <td>1902-04-17 00:00:00</td>\n",
       "      <td>13.000000</td>\n",
       "      <td>0.000000</td>\n",
       "      <td>0.000000</td>\n",
       "    </tr>\n",
       "    <tr>\n",
       "      <th>25%</th>\n",
       "      <td>2000-10-17 12:00:00</td>\n",
       "      <td>16.000000</td>\n",
       "      <td>146.000000</td>\n",
       "      <td>5.900000</td>\n",
       "    </tr>\n",
       "    <tr>\n",
       "      <th>50%</th>\n",
       "      <td>2011-09-12 00:00:00</td>\n",
       "      <td>21.000000</td>\n",
       "      <td>444.000000</td>\n",
       "      <td>6.500000</td>\n",
       "    </tr>\n",
       "    <tr>\n",
       "      <th>75%</th>\n",
       "      <td>2017-11-22 00:00:00</td>\n",
       "      <td>35.000000</td>\n",
       "      <td>1376.000000</td>\n",
       "      <td>7.100000</td>\n",
       "    </tr>\n",
       "    <tr>\n",
       "      <th>max</th>\n",
       "      <td>2024-07-03 00:00:00</td>\n",
       "      <td>5083.000000</td>\n",
       "      <td>31077.000000</td>\n",
       "      <td>10.000000</td>\n",
       "    </tr>\n",
       "    <tr>\n",
       "      <th>std</th>\n",
       "      <td>NaN</td>\n",
       "      <td>108.879786</td>\n",
       "      <td>2611.303856</td>\n",
       "      <td>1.129797</td>\n",
       "    </tr>\n",
       "  </tbody>\n",
       "</table>\n",
       "</div>"
      ],
      "text/plain": [
       "                        Release_Date   Popularity    Vote_Count  Vote_Average\n",
       "count                           9826  9826.000000   9826.000000   9826.000000\n",
       "mean   2006-09-23 04:47:14.276409600    39.828007   1392.943721      6.439467\n",
       "min              1902-04-17 00:00:00    13.000000      0.000000      0.000000\n",
       "25%              2000-10-17 12:00:00    16.000000    146.000000      5.900000\n",
       "50%              2011-09-12 00:00:00    21.000000    444.000000      6.500000\n",
       "75%              2017-11-22 00:00:00    35.000000   1376.000000      7.100000\n",
       "max              2024-07-03 00:00:00  5083.000000  31077.000000     10.000000\n",
       "std                              NaN   108.879786   2611.303856      1.129797"
      ]
     },
     "execution_count": 209,
     "metadata": {},
     "output_type": "execute_result"
    }
   ],
   "source": [
    "train_data_clean.describe()"
   ]
  },
  {
   "cell_type": "markdown",
   "id": "3bd9967e",
   "metadata": {},
   "source": [
    "# Genres aufgeteilt und Popularity addiert"
   ]
  },
  {
   "cell_type": "code",
   "execution_count": 210,
   "id": "464dc1e2",
   "metadata": {},
   "outputs": [
    {
     "name": "stdout",
     "output_type": "stream",
     "text": [
      "Action: 135363\n",
      "Comedy: 113299\n",
      "Drama: 110739\n",
      "Thriller: 105612\n",
      "Adventure: 98687\n",
      "Animation: 74686\n",
      "Fantasy: 68794\n",
      "Family: 65208\n",
      "ScienceFiction: 62398\n",
      "Horror: 55500\n",
      "Crime: 54965\n",
      "Romance: 44818\n",
      "Mystery: 30603\n",
      "History: 11914\n",
      "War: 10724\n",
      "Music: 9809\n",
      "TVMovie: 6303\n",
      "Documentary: 6177\n",
      "Western: 4886\n"
     ]
    }
   ],
   "source": [
    "genre_popularity = {}\n",
    "\n",
    "# Durchlaufen jeder Zeile im Datensatz\n",
    "for i, row in train_data_clean.iterrows():\n",
    "    #'Genre' string nach jedem Komma aufteilen\n",
    "    genres = row['Genre'].replace(\" \", \"\").split(\",\")\n",
    "    # popularity in int casten(wir runden)\n",
    "    popularity = int(round(row[\"Popularity\"]))\n",
    "    \n",
    "    # popularity der Filme mit dem gleichen Genre wird aufsummiert\n",
    "    for genre in genres:\n",
    "        if genre in genre_popularity:\n",
    "            genre_popularity[genre] += popularity\n",
    "        else:\n",
    "            genre_popularity[genre] = popularity\n",
    "\n",
    "# Sortiere: absteigend\n",
    "sorted_genres = sorted(genre_popularity.items(), key=lambda x: x[1], reverse=True)\n",
    "\n",
    "for genre, popularity in sorted_genres:\n",
    "    print(f\"{genre}: {popularity}\")"
   ]
  },
  {
   "cell_type": "code",
   "execution_count": 211,
   "id": "88a40ae6",
   "metadata": {},
   "outputs": [
    {
     "data": {
      "image/png": "[encoded data removed]",
      "text/plain": [
       "<Figure size 1000x800 with 1 Axes>"
      ]
     },
     "metadata": {},
     "output_type": "display_data"
    }
   ],
   "source": [
    "genre_popularity = {\"Action\": 136663, \"Comedy\": 114795, \"Drama\": 112622, \"Thriller\": 106822, \n",
    "                    \"Adventure\": 99560, \"Animation\": 75392, \"Fantasy\": 69425, \"Family\": 65918, \n",
    "                    \"ScienceFiction\": 63019, \"Horror\": 56248, \"Crime\": 55567, \"Romance\": 45583, \n",
    "                    \"Mystery\": 30995, \"History\": 12136, \"War\": 10871, \"Music\": 9968, \n",
    "                    \"TVMovie\": 6410, \"Documentary\": 6288, \"Western\": 4960}\n",
    "\n",
    "genres = list(genre_popularity.keys())\n",
    "popularity = list(genre_popularity.values())\n",
    "\n",
    "# Bar-Chart\n",
    "plt.figure(figsize=(10, 8))\n",
    "sns.barplot(x=popularity, y=genres, palette='viridis')\n",
    "plt.xlabel('Popularität')\n",
    "plt.ylabel('Genres')\n",
    "plt.title('Popularität pro Genre')\n",
    "plt.show()"
   ]
  },
  {
   "cell_type": "markdown",
   "id": "7d789472",
   "metadata": {},
   "source": [
    "# Anzahl der Filme in den jeweiligen Genres"
   ]
  },
  {
   "cell_type": "code",
   "execution_count": 212,
   "id": "4e4fa1bd",
   "metadata": {},
   "outputs": [
    {
     "name": "stdout",
     "output_type": "stream",
     "text": [
      "Genre\n",
      "Drama              3744\n",
      "Comedy             3031\n",
      "Action             2686\n",
      "Thriller           2488\n",
      "Adventure          1853\n",
      "Romance            1476\n",
      "Horror             1470\n",
      "Animation          1438\n",
      "Family             1414\n",
      "Fantasy            1308\n",
      "Science Fiction    1273\n",
      "Crime              1242\n",
      "Mystery             773\n",
      "History             427\n",
      "War                 308\n",
      "Music               295\n",
      "Documentary         215\n",
      "TV Movie            214\n",
      "Western             137\n",
      "Name: count, dtype: int64\n"
     ]
    }
   ],
   "source": [
    "genre_counts = train_data_clean['Genre'].str.split(', ').explode().value_counts()\n",
    "\n",
    "print(genre_counts)"
   ]
  },
  {
   "cell_type": "markdown",
   "id": "019974b4",
   "metadata": {},
   "source": [
    "## Absolutwerte nicht wirklich aussagekräftig, da sich die Anzahl der vertretenen Genres stark unterscheidet"
   ]
  },
  {
   "cell_type": "markdown",
   "id": "6efbad16",
   "metadata": {},
   "source": [
    "# Durchschnittliche Beliebtheit für jedes Genre"
   ]
  },
  {
   "cell_type": "code",
   "execution_count": 213,
   "id": "9fb3367d",
   "metadata": {},
   "outputs": [
    {
     "name": "stdout",
     "output_type": "stream",
     "text": [
      "Adventure: 53.25796006475985\n",
      "Fantasy: 52.59480122324159\n",
      "Animation: 51.93741307371349\n",
      "Action: 50.395755770662696\n",
      "Science Fiction: 49.016496465043204\n",
      "Family: 46.11598302687412\n",
      "Crime: 44.25523349436393\n",
      "Thriller: 42.448553054662376\n",
      "Mystery: 39.589909443725745\n",
      "Horror: 37.755102040816325\n",
      "Comedy: 37.38007258330584\n",
      "Western: 35.66423357664234\n",
      "War: 34.81818181818182\n",
      "Music: 33.25084745762712\n",
      "Romance: 30.36449864498645\n",
      "Drama: 29.577724358974358\n",
      "TV Movie: 29.453271028037385\n",
      "Documentary: 28.730232558139534\n",
      "History: 27.901639344262296\n"
     ]
    }
   ],
   "source": [
    "genre_popularity = {}\n",
    "genre_counts = {}\n",
    "\n",
    "for i, row in train_data_clean.iterrows():\n",
    "    genres = row['Genre'].split(', ')\n",
    "    \n",
    "    for genre in genres:\n",
    "        if genre in genre_popularity:\n",
    "            genre_popularity[genre] += row['Popularity']\n",
    "            genre_counts[genre] += 1\n",
    "        else:\n",
    "            genre_popularity[genre] = row['Popularity']\n",
    "            genre_counts[genre] = 1\n",
    "\n",
    "# durchschnittliche popularity für jedes Genre\n",
    "average_popularity = {genre: genre_popularity[genre] / genre_counts[genre] for genre in genre_popularity}\n",
    "\n",
    "# Sortieren nach absteigender Reihenfolge\n",
    "sorted_genres = sorted(average_popularity.items(), key=lambda x: x[1], reverse=True)\n",
    "\n",
    "for genre, popularity in sorted_genres:\n",
    "    print(f\"{genre}: {popularity}\")"
   ]
  },
  {
   "cell_type": "code",
   "execution_count": 214,
   "id": "551ac851",
   "metadata": {},
   "outputs": [
    {
     "data": {
      "image/png": "[encoded data removed]",
      "text/plain": [
       "<Figure size 1000x800 with 1 Axes>"
      ]
     },
     "metadata": {},
     "output_type": "display_data"
    }
   ],
   "source": [
    "genres = ['Adventure', 'Fantasy', 'Animation', 'Action', 'Science Fiction', 'Family', 'Crime', 'Thriller', 'Mystery',\n",
    "          'Horror', 'Comedy', 'Western', 'War', 'Music', 'Romance', 'Drama', 'TV Movie', 'Documentary', 'History']\n",
    "values = [53.74288828926054, 53.08134174311917, 52.4276627260084, 50.890132911392364, 49.511333857030685, 46.6106159830269,\n",
    "          44.74729549114323, 42.94625763665597, 40.09358990944373, 38.26449795918362, 37.87366875618602, 36.187912408759125,\n",
    "          35.29807467532467, 33.77141016949153, 30.86603048780494, 30.077651442307708,\n",
    "          29.954714953271036,29.235376744186063, 28.3958266978923]\n",
    "\n",
    "# Bar-Chart\n",
    "plt.figure(figsize=(10, 8))\n",
    "sns.barplot(x=values, y=genres, palette='viridis')\n",
    "plt.xlabel('Durchschnitt')\n",
    "plt.ylabel('Genres')\n",
    "plt.title('Durchschnittliche Beliebtheit')\n",
    "plt.show()"
   ]
  },
  {
   "cell_type": "code",
   "execution_count": 215,
   "id": "f9eb7d03",
   "metadata": {},
   "outputs": [
    {
     "data": {
      "image/png": "[encoded data removed]",
      "text/plain": [
       "<Figure size 2000x1000 with 2 Axes>"
      ]
     },
     "metadata": {},
     "output_type": "display_data"
    }
   ],
   "source": [
    "genre_popularity_sorted = {genre: genre_popularity[genre] for genre in genres}\n",
    "\n",
    "fig, axs = plt.subplots(1, 2, figsize=(20, 10))\n",
    "\n",
    "# Erster Subplot\n",
    "sns.barplot(x=list(genre_popularity_sorted.values()), y=list(genre_popularity_sorted.keys()), palette='viridis', ax=axs[0])\n",
    "axs[0].set_xlabel('Popularität')\n",
    "axs[0].set_ylabel('Genres')\n",
    "axs[0].set_title('Absolute Beliebtheit der Genres')\n",
    "\n",
    "# Zweiter Subplot\n",
    "sns.barplot(x=values, y=genres, palette='viridis', ax=axs[1])\n",
    "axs[1].set_xlabel('Durchschnitt')\n",
    "axs[1].set_ylabel('Genres')\n",
    "axs[1].set_title('Durchschnittliche Beliebtheit')\n",
    "\n",
    "# Anzeigen der Plots\n",
    "plt.tight_layout()\n",
    "plt.show()"
   ]
  },
  {
   "cell_type": "markdown",
   "id": "5e59ce66",
   "metadata": {},
   "source": [
    "#### Die Frage “Was schaut die Welt am liebsten?” bezieht sich auf das Genre, das die meisten Zuschauer oder die höchste Gesamtpopularität hat. Es geht darum, welches Genre insgesamt am meisten gesehen wird.\n",
    "\n",
    "#### Die “durchschnittliche Beliebtheit” eines Genres bezieht sich auf die durchschnittliche Beliebtheit der Filme innerhalb dieses Genres. Es ist möglich, dass ein Genre nur wenige, aber sehr beliebte Filme hat und daher eine hohe durchschnittliche Beliebtheit hat. Es ist aber auch möglich, dass ein Genre viele Filme hat, die nicht so beliebt sind, und daher eine niedrigere durchschnittliche Beliebtheit hat, obwohl es insgesamt mehr gesehen wird."
   ]
  },
  {
   "cell_type": "markdown",
   "id": "8a507cc0",
   "metadata": {},
   "source": [
    "# Median der Popularity"
   ]
  },
  {
   "cell_type": "code",
   "execution_count": 216,
   "id": "91836fa0",
   "metadata": {},
   "outputs": [
    {
     "name": "stdout",
     "output_type": "stream",
     "text": [
      "Genre\n",
      "Action             24.0\n",
      "Adventure          25.0\n",
      "Animation          27.0\n",
      "Comedy             20.0\n",
      "Crime              19.0\n",
      "Documentary        19.0\n",
      "Drama              19.0\n",
      "Family             24.0\n",
      "Fantasy            25.5\n",
      "History            19.0\n",
      "Horror             21.0\n",
      "Music              18.0\n",
      "Mystery            20.0\n",
      "Romance            19.0\n",
      "Science Fiction    24.0\n",
      "TV Movie           18.0\n",
      "Thriller           21.0\n",
      "War                19.0\n",
      "Western            18.0\n",
      "Name: Popularity, dtype: float64\n"
     ]
    }
   ],
   "source": [
    "genre_popularity_medians = train_data_clean.assign(Genre=train_data_clean['Genre'].str.split(', ')).explode('Genre').groupby('Genre')['Popularity'].median()\n",
    "\n",
    "print(genre_popularity_medians)"
   ]
  },
  {
   "cell_type": "code",
   "execution_count": 217,
   "id": "946f5dd0",
   "metadata": {},
   "outputs": [
    {
     "data": {
      "image/png": "[encoded data removed]",
      "text/plain": [
       "<Figure size 1000x600 with 1 Axes>"
      ]
     },
     "metadata": {},
     "output_type": "display_data"
    }
   ],
   "source": [
    "genre_popularity_medians = train_data_clean.assign(Genre=train_data_clean['Genre'].str.split(', ')).explode('Genre').groupby('Genre')['Popularity'].median()\n",
    "\n",
    "plt.figure(figsize=(10, 6))\n",
    "sns.barplot(x=genre_popularity_medians.index, y=genre_popularity_medians.values)\n",
    "plt.xlabel('Genre')\n",
    "plt.ylabel('Median Popularity')\n",
    "plt.title('Median Popularity by Genre')\n",
    "plt.xticks(rotation=90)\n",
    "plt.show()"
   ]
  },
  {
   "cell_type": "markdown",
   "id": "326969fd",
   "metadata": {},
   "source": [
    "# Correlation Matrix"
   ]
  },
  {
   "cell_type": "code",
   "execution_count": 218,
   "id": "33fefd2c",
   "metadata": {},
   "outputs": [
    {
     "data": {
      "image/png": "[encoded data removed]",
      "text/plain": [
       "<Figure size 1000x600 with 2 Axes>"
      ]
     },
     "metadata": {},
     "output_type": "display_data"
    }
   ],
   "source": [
    "plt.figure(figsize=(10, 6))\n",
    "numeric_data = train_data_clean.select_dtypes(include=['float64', 'int32'])\n",
    "plt.matshow(numeric_data.corr(), fignum=plt.gcf().number)\n",
    "plt.xticks(range(numeric_data.shape[1]), numeric_data.columns, fontsize=14, rotation=45)\n",
    "plt.yticks(range(numeric_data.shape[1]), numeric_data.columns, fontsize=14)\n",
    "cb = plt.colorbar()\n",
    "cb.ax.tick_params(labelsize=14)\n",
    "plt.title('Correlation Matrix', fontsize=16)\n",
    "plt.show()"
   ]
  },
  {
   "cell_type": "markdown",
   "id": "8beb1724",
   "metadata": {},
   "source": [
    "## Kein linearer Zusammenhang zwischen Popularity, Vote_Count und Vote_Average"
   ]
  },
  {
   "cell_type": "markdown",
   "id": "336a6283",
   "metadata": {},
   "source": [
    "# Beziehung zwischen Beliebtheit und Bewertung\n"
   ]
  },
  {
   "cell_type": "code",
   "execution_count": 219,
   "id": "cef8d978",
   "metadata": {},
   "outputs": [
    {
     "data": {
      "image/png": "[encoded data removed]",
      "text/plain": [
       "<Figure size 640x480 with 1 Axes>"
      ]
     },
     "metadata": {},
     "output_type": "display_data"
    }
   ],
   "source": [
    "sns.scatterplot(x='Popularity', y='Vote_Average', data=train_data_clean, color='indigo')\n",
    "\n",
    "plt.title('Beziehung zwischen Beliebtheit und Bewertung')\n",
    "plt.xlabel('Beliebtheit')\n",
    "plt.ylabel('Bewertung')\n",
    "\n",
    "plt.show()"
   ]
  },
  {
   "cell_type": "markdown",
   "id": "4976e595",
   "metadata": {},
   "source": [
    "# Netflix-Datensatz"
   ]
  },
  {
   "cell_type": "code",
   "execution_count": 220,
   "id": "dce08b99",
   "metadata": {},
   "outputs": [],
   "source": [
    "netflix_data = pd.read_csv('./netflix_titles.csv', engine='python')"
   ]
  },
  {
   "cell_type": "code",
   "execution_count": 221,
   "id": "e7a10f35",
   "metadata": {},
   "outputs": [
    {
     "name": "stdout",
     "output_type": "stream",
     "text": [
      "<class 'pandas.core.frame.DataFrame'>\n",
      "RangeIndex: 8807 entries, 0 to 8806\n",
      "Data columns (total 12 columns):\n",
      " #   Column        Non-Null Count  Dtype \n",
      "---  ------        --------------  ----- \n",
      " 0   show_id       8807 non-null   object\n",
      " 1   type          8807 non-null   object\n",
      " 2   title         8807 non-null   object\n",
      " 3   director      6173 non-null   object\n",
      " 4   cast          7982 non-null   object\n",
      " 5   country       7976 non-null   object\n",
      " 6   date_added    8797 non-null   object\n",
      " 7   release_year  8807 non-null   int64 \n",
      " 8   rating        8803 non-null   object\n",
      " 9   duration      8804 non-null   object\n",
      " 10  listed_in     8807 non-null   object\n",
      " 11  description   8807 non-null   object\n",
      "dtypes: int64(1), object(11)\n",
      "memory usage: 825.8+ KB\n"
     ]
    },
    {
     "data": {
      "text/plain": [
       "(8807, 12)"
      ]
     },
     "execution_count": 221,
     "metadata": {},
     "output_type": "execute_result"
    }
   ],
   "source": [
    "netflix_data.info()\n",
    "netflix_data.shape"
   ]
  },
  {
   "cell_type": "code",
   "execution_count": 222,
   "id": "3842094f",
   "metadata": {},
   "outputs": [],
   "source": [
    "column_types_netflix = {'title':'string','cast':'string','type':'string','listed_in':'string'}\n",
    "data_netflix_clean = pd.read_csv('./netflix_titles.csv', engine='python', dtype=column_types_netflix)\n",
    "data_netflix_clean = data_netflix_clean.drop(columns=['description', 'date_added', 'duration', 'country', 'show_id', 'director', 'rating'])\n",
    "data_netflix_clean = data_netflix_clean.dropna()"
   ]
  },
  {
   "cell_type": "code",
   "execution_count": 223,
   "id": "cd62a713",
   "metadata": {},
   "outputs": [
    {
     "data": {
      "text/plain": [
       "(7982, 5)"
      ]
     },
     "execution_count": 223,
     "metadata": {},
     "output_type": "execute_result"
    }
   ],
   "source": [
    "data_netflix_clean.shape"
   ]
  },
  {
   "cell_type": "code",
   "execution_count": 224,
   "id": "86164a92",
   "metadata": {},
   "outputs": [
    {
     "name": "stdout",
     "output_type": "stream",
     "text": [
      "type            0\n",
      "title           0\n",
      "cast            0\n",
      "release_year    0\n",
      "listed_in       0\n",
      "dtype: int64\n"
     ]
    }
   ],
   "source": [
    "print(data_netflix_clean.isnull().sum())"
   ]
  },
  {
   "cell_type": "code",
   "execution_count": 225,
   "id": "602b01fd",
   "metadata": {
    "scrolled": false
   },
   "outputs": [
    {
     "data": {
      "text/html": [
       "<div>\n",
       "<style scoped>\n",
       "    .dataframe tbody tr th:only-of-type {\n",
       "        vertical-align: middle;\n",
       "    }\n",
       "\n",
       "    .dataframe tbody tr th {\n",
       "        vertical-align: top;\n",
       "    }\n",
       "\n",
       "    .dataframe thead th {\n",
       "        text-align: right;\n",
       "    }\n",
       "</style>\n",
       "<table border=\"1\" class=\"dataframe\">\n",
       "  <thead>\n",
       "    <tr style=\"text-align: right;\">\n",
       "      <th></th>\n",
       "      <th>type</th>\n",
       "      <th>title</th>\n",
       "      <th>cast</th>\n",
       "      <th>release_year</th>\n",
       "      <th>listed_in</th>\n",
       "    </tr>\n",
       "  </thead>\n",
       "  <tbody>\n",
       "    <tr>\n",
       "      <th>6</th>\n",
       "      <td>Movie</td>\n",
       "      <td>My Little Pony: A New Generation</td>\n",
       "      <td>Vanessa Hudgens, Kimiko Glenn, James Marsden, ...</td>\n",
       "      <td>2021-01-01</td>\n",
       "      <td>Children &amp; Family Movies</td>\n",
       "    </tr>\n",
       "    <tr>\n",
       "      <th>7</th>\n",
       "      <td>Movie</td>\n",
       "      <td>Sankofa</td>\n",
       "      <td>Kofi Ghanaba, Oyafunmike Ogunlano, Alexandra D...</td>\n",
       "      <td>1993-01-01</td>\n",
       "      <td>Dramas, Independent Movies, International Movies</td>\n",
       "    </tr>\n",
       "    <tr>\n",
       "      <th>9</th>\n",
       "      <td>Movie</td>\n",
       "      <td>The Starling</td>\n",
       "      <td>Melissa McCarthy, Chris O'Dowd, Kevin Kline, T...</td>\n",
       "      <td>2021-01-01</td>\n",
       "      <td>Comedies, Dramas</td>\n",
       "    </tr>\n",
       "    <tr>\n",
       "      <th>12</th>\n",
       "      <td>Movie</td>\n",
       "      <td>Je Suis Karl</td>\n",
       "      <td>Luna Wedler, Jannis Niewöhner, Milan Peschel, ...</td>\n",
       "      <td>2021-01-01</td>\n",
       "      <td>Dramas, International Movies</td>\n",
       "    </tr>\n",
       "    <tr>\n",
       "      <th>13</th>\n",
       "      <td>Movie</td>\n",
       "      <td>Confessions of an Invisible Girl</td>\n",
       "      <td>Klara Castanho, Lucca Picon, Júlia Gomes, Marc...</td>\n",
       "      <td>2021-01-01</td>\n",
       "      <td>Children &amp; Family Movies, Comedies</td>\n",
       "    </tr>\n",
       "  </tbody>\n",
       "</table>\n",
       "</div>"
      ],
      "text/plain": [
       "     type                             title  \\\n",
       "6   Movie  My Little Pony: A New Generation   \n",
       "7   Movie                           Sankofa   \n",
       "9   Movie                      The Starling   \n",
       "12  Movie                      Je Suis Karl   \n",
       "13  Movie  Confessions of an Invisible Girl   \n",
       "\n",
       "                                                 cast release_year  \\\n",
       "6   Vanessa Hudgens, Kimiko Glenn, James Marsden, ...   2021-01-01   \n",
       "7   Kofi Ghanaba, Oyafunmike Ogunlano, Alexandra D...   1993-01-01   \n",
       "9   Melissa McCarthy, Chris O'Dowd, Kevin Kline, T...   2021-01-01   \n",
       "12  Luna Wedler, Jannis Niewöhner, Milan Peschel, ...   2021-01-01   \n",
       "13  Klara Castanho, Lucca Picon, Júlia Gomes, Marc...   2021-01-01   \n",
       "\n",
       "                                           listed_in  \n",
       "6                           Children & Family Movies  \n",
       "7   Dramas, Independent Movies, International Movies  \n",
       "9                                   Comedies, Dramas  \n",
       "12                      Dramas, International Movies  \n",
       "13                Children & Family Movies, Comedies  "
      ]
     },
     "execution_count": 225,
     "metadata": {},
     "output_type": "execute_result"
    }
   ],
   "source": [
    "data_netflix_clean['release_year'] = pd.to_datetime(data_netflix_clean['release_year'], format='%Y')\n",
    "data_netflix_clean = data_netflix_clean[data_netflix_clean['type'] != 'TV Show']\n",
    "data_netflix_clean.head()\n"
   ]
  },
  {
   "cell_type": "markdown",
   "id": "e52c684f",
   "metadata": {},
   "source": [
    "# Merge vom Netflix-Datensatz mit dem Originaldatnsatz"
   ]
  },
  {
   "cell_type": "code",
   "execution_count": 226,
   "id": "a30ac011",
   "metadata": {},
   "outputs": [],
   "source": [
    "netflix_common_titles = pd.merge(data_netflix_clean, train_data_clean, how='inner', left_on='title', right_on='Title')\n",
    "netflix_common_titles = netflix_common_titles[['title', 'type', 'cast', 'release_year', 'listed_in', 'Popularity', 'Vote_Count', 'Vote_Average', 'Original_Language', 'Genre']]"
   ]
  },
  {
   "cell_type": "code",
   "execution_count": 227,
   "id": "a8ff4503",
   "metadata": {},
   "outputs": [
    {
     "data": {
      "text/plain": [
       "(1624, 10)"
      ]
     },
     "execution_count": 227,
     "metadata": {},
     "output_type": "execute_result"
    }
   ],
   "source": [
    "netflix_common_titles.shape"
   ]
  },
  {
   "cell_type": "code",
   "execution_count": 228,
   "id": "86e26e57",
   "metadata": {},
   "outputs": [
    {
     "name": "stdout",
     "output_type": "stream",
     "text": [
      "Number of rows and columns in the combined DataFrame: (1624, 11)\n"
     ]
    }
   ],
   "source": [
    "# Assuming netflix_common_titles is your original DataFrame\n",
    "\n",
    "# Getting top values based on 10% of the highest Popularity value\n",
    "threshold_value_netflix = netflix_common_titles['Popularity'].max() * 0.1\n",
    "\n",
    "# Filter the DataFrame based on the threshold\n",
    "netflix_top_titles = netflix_common_titles[netflix_common_titles['Popularity'] > threshold_value_netflix]\n",
    "\n",
    "# Normalizing top titles to fit Vote_Average Scale\n",
    "normalized_top_popularity_netflix = (netflix_top_titles['Popularity'] / netflix_top_titles['Popularity'].max()) * 10\n",
    "\n",
    "# Value of popularity and Vote_Average combined\n",
    "combined_rating_netflix = (normalized_top_popularity_netflix + netflix_top_titles['Vote_Average']) / 2\n",
    "\n",
    "# Assigning a new column 'Voting_Popularity'\n",
    "netflix_top_titles = netflix_top_titles.assign(Voting_Popularity=combined_rating_netflix)\n",
    "\n",
    "# Creating a DataFrame with the rest of the titles\n",
    "rest_of_titles_netflix = netflix_common_titles[~netflix_common_titles.index.isin(netflix_top_titles.index)]\n",
    "\n",
    "# Normalizing rest of titles to fit Vote_Average Scale\n",
    "normalized_rest_popularity_netflix = (rest_of_titles_netflix['Popularity'] / rest_of_titles_netflix['Popularity'].max()) * 10\n",
    "\n",
    "# Value of popularity and Vote_Average combined for the rest of titles\n",
    "combined_rest_rating_netflix = (normalized_rest_popularity_netflix + rest_of_titles_netflix['Vote_Average']) / 2\n",
    "\n",
    "# Assigning a new column 'Voting_Popularity' for the rest of titles\n",
    "rest_of_titles_netflix = rest_of_titles_netflix.assign(Voting_Popularity=combined_rest_rating_netflix)\n",
    "\n",
    "# Concatenating the two DataFrames\n",
    "combined_dataframe_netflix = pd.concat([netflix_top_titles, rest_of_titles_netflix])\n",
    "\n",
    "# Display the combined DataFrame\n",
    "print(\"Number of rows and columns in the combined DataFrame:\", combined_dataframe_netflix.shape)\n"
   ]
  },
  {
   "cell_type": "code",
   "execution_count": 229,
   "id": "e15154a3",
   "metadata": {},
   "outputs": [],
   "source": [
    "#sortiert dataframe nach Voting_Popularity in absteigender Reihnfolge\n",
    "netflix_top_titles = netflix_top_titles.sort_values(by='Voting_Popularity', ascending=False)\n",
    "rest_of_titles_netflix = rest_of_titles_netflix.sort_values(by='Voting_Popularity', ascending=False)\n",
    "combined_dataframe_netflix = combined_dataframe_netflix.sort_values(by='Voting_Popularity', ascending=False)"
   ]
  },
  {
   "cell_type": "code",
   "execution_count": 230,
   "id": "bce01c6b",
   "metadata": {},
   "outputs": [
    {
     "data": {
      "text/html": [
       "<div>\n",
       "<style scoped>\n",
       "    .dataframe tbody tr th:only-of-type {\n",
       "        vertical-align: middle;\n",
       "    }\n",
       "\n",
       "    .dataframe tbody tr th {\n",
       "        vertical-align: top;\n",
       "    }\n",
       "\n",
       "    .dataframe thead th {\n",
       "        text-align: right;\n",
       "    }\n",
       "</style>\n",
       "<table border=\"1\" class=\"dataframe\">\n",
       "  <thead>\n",
       "    <tr style=\"text-align: right;\">\n",
       "      <th></th>\n",
       "      <th>title</th>\n",
       "      <th>type</th>\n",
       "      <th>cast</th>\n",
       "      <th>release_year</th>\n",
       "      <th>listed_in</th>\n",
       "      <th>Popularity</th>\n",
       "      <th>Vote_Count</th>\n",
       "      <th>Vote_Average</th>\n",
       "      <th>Original_Language</th>\n",
       "      <th>Genre</th>\n",
       "      <th>Voting_Popularity</th>\n",
       "    </tr>\n",
       "  </thead>\n",
       "  <tbody>\n",
       "    <tr>\n",
       "      <th>982</th>\n",
       "      <td>American History X</td>\n",
       "      <td>Movie</td>\n",
       "      <td>Edward Norton, Edward Furlong, Beverly D'Angel...</td>\n",
       "      <td>1998-01-01</td>\n",
       "      <td>Dramas</td>\n",
       "      <td>40</td>\n",
       "      <td>9399</td>\n",
       "      <td>8.4</td>\n",
       "      <td>en</td>\n",
       "      <td>Drama</td>\n",
       "      <td>9.200</td>\n",
       "    </tr>\n",
       "    <tr>\n",
       "      <th>1239</th>\n",
       "      <td>Kill Bill: Vol. 1</td>\n",
       "      <td>Movie</td>\n",
       "      <td>Uma Thurman, Lucy Liu, Vivica A. Fox, Daryl Ha...</td>\n",
       "      <td>2003-01-01</td>\n",
       "      <td>Action &amp; Adventure</td>\n",
       "      <td>40</td>\n",
       "      <td>14358</td>\n",
       "      <td>8.0</td>\n",
       "      <td>en</td>\n",
       "      <td>Action, Crime</td>\n",
       "      <td>9.000</td>\n",
       "    </tr>\n",
       "    <tr>\n",
       "      <th>1495</th>\n",
       "      <td>The Help</td>\n",
       "      <td>Movie</td>\n",
       "      <td>Emma Stone, Viola Davis, Bryce Dallas Howard, ...</td>\n",
       "      <td>2011-01-01</td>\n",
       "      <td>Dramas</td>\n",
       "      <td>39</td>\n",
       "      <td>6085</td>\n",
       "      <td>8.2</td>\n",
       "      <td>en</td>\n",
       "      <td>Drama</td>\n",
       "      <td>8.975</td>\n",
       "    </tr>\n",
       "    <tr>\n",
       "      <th>730</th>\n",
       "      <td>About Time</td>\n",
       "      <td>Movie</td>\n",
       "      <td>Domhnall Gleeson, Rachel McAdams, Bill Nighy, ...</td>\n",
       "      <td>2013-01-01</td>\n",
       "      <td>Comedies, Dramas, International Movies</td>\n",
       "      <td>39</td>\n",
       "      <td>6761</td>\n",
       "      <td>7.9</td>\n",
       "      <td>en</td>\n",
       "      <td>Drama, Romance, Fantasy</td>\n",
       "      <td>8.825</td>\n",
       "    </tr>\n",
       "    <tr>\n",
       "      <th>1240</th>\n",
       "      <td>Kill Bill: Vol. 2</td>\n",
       "      <td>Movie</td>\n",
       "      <td>Uma Thurman, David Carradine, Michael Madsen, ...</td>\n",
       "      <td>2004-01-01</td>\n",
       "      <td>Action &amp; Adventure</td>\n",
       "      <td>39</td>\n",
       "      <td>11494</td>\n",
       "      <td>7.9</td>\n",
       "      <td>en</td>\n",
       "      <td>Action, Crime, Thriller</td>\n",
       "      <td>8.825</td>\n",
       "    </tr>\n",
       "  </tbody>\n",
       "</table>\n",
       "</div>"
      ],
      "text/plain": [
       "                   title   type  \\\n",
       "982   American History X  Movie   \n",
       "1239   Kill Bill: Vol. 1  Movie   \n",
       "1495            The Help  Movie   \n",
       "730           About Time  Movie   \n",
       "1240   Kill Bill: Vol. 2  Movie   \n",
       "\n",
       "                                                   cast release_year  \\\n",
       "982   Edward Norton, Edward Furlong, Beverly D'Angel...   1998-01-01   \n",
       "1239  Uma Thurman, Lucy Liu, Vivica A. Fox, Daryl Ha...   2003-01-01   \n",
       "1495  Emma Stone, Viola Davis, Bryce Dallas Howard, ...   2011-01-01   \n",
       "730   Domhnall Gleeson, Rachel McAdams, Bill Nighy, ...   2013-01-01   \n",
       "1240  Uma Thurman, David Carradine, Michael Madsen, ...   2004-01-01   \n",
       "\n",
       "                                   listed_in  Popularity  Vote_Count  \\\n",
       "982                                   Dramas          40        9399   \n",
       "1239                      Action & Adventure          40       14358   \n",
       "1495                                  Dramas          39        6085   \n",
       "730   Comedies, Dramas, International Movies          39        6761   \n",
       "1240                      Action & Adventure          39       11494   \n",
       "\n",
       "      Vote_Average Original_Language                    Genre  \\\n",
       "982            8.4                en                    Drama   \n",
       "1239           8.0                en            Action, Crime   \n",
       "1495           8.2                en                    Drama   \n",
       "730            7.9                en  Drama, Romance, Fantasy   \n",
       "1240           7.9                en  Action, Crime, Thriller   \n",
       "\n",
       "      Voting_Popularity  \n",
       "982               9.200  \n",
       "1239              9.000  \n",
       "1495              8.975  \n",
       "730               8.825  \n",
       "1240              8.825  "
      ]
     },
     "execution_count": 230,
     "metadata": {},
     "output_type": "execute_result"
    }
   ],
   "source": [
    "combined_dataframe_netflix.head()"
   ]
  },
  {
   "cell_type": "code",
   "execution_count": 231,
   "id": "2510022d",
   "metadata": {
    "scrolled": true
   },
   "outputs": [
    {
     "data": {
      "text/html": [
       "<div>\n",
       "<style scoped>\n",
       "    .dataframe tbody tr th:only-of-type {\n",
       "        vertical-align: middle;\n",
       "    }\n",
       "\n",
       "    .dataframe tbody tr th {\n",
       "        vertical-align: top;\n",
       "    }\n",
       "\n",
       "    .dataframe thead th {\n",
       "        text-align: right;\n",
       "    }\n",
       "</style>\n",
       "<table border=\"1\" class=\"dataframe\">\n",
       "  <thead>\n",
       "    <tr style=\"text-align: right;\">\n",
       "      <th></th>\n",
       "      <th>title</th>\n",
       "      <th>type</th>\n",
       "      <th>cast</th>\n",
       "      <th>release_year</th>\n",
       "      <th>listed_in</th>\n",
       "      <th>Popularity</th>\n",
       "      <th>Vote_Count</th>\n",
       "      <th>Vote_Average</th>\n",
       "      <th>Original_Language</th>\n",
       "      <th>Genre</th>\n",
       "      <th>Voting_Popularity</th>\n",
       "    </tr>\n",
       "  </thead>\n",
       "  <tbody>\n",
       "    <tr>\n",
       "      <th>934</th>\n",
       "      <td>The Ridiculous 6</td>\n",
       "      <td>Movie</td>\n",
       "      <td>Adam Sandler, Terry Crews, Jorge Garcia, Taylo...</td>\n",
       "      <td>2015-01-01</td>\n",
       "      <td>Action &amp; Adventure, Comedies</td>\n",
       "      <td>47</td>\n",
       "      <td>1107</td>\n",
       "      <td>5.2</td>\n",
       "      <td>en</td>\n",
       "      <td>Western, Comedy</td>\n",
       "      <td>3.184577</td>\n",
       "    </tr>\n",
       "    <tr>\n",
       "      <th>1065</th>\n",
       "      <td>Chernobyl Diaries</td>\n",
       "      <td>Movie</td>\n",
       "      <td>Ingrid Bolsø Berdal, Dimitri Diatchenko, Olivi...</td>\n",
       "      <td>2012-01-01</td>\n",
       "      <td>Horror Movies, Thrillers</td>\n",
       "      <td>44</td>\n",
       "      <td>1294</td>\n",
       "      <td>5.2</td>\n",
       "      <td>en</td>\n",
       "      <td>Horror, Thriller</td>\n",
       "      <td>3.147264</td>\n",
       "    </tr>\n",
       "    <tr>\n",
       "      <th>478</th>\n",
       "      <td>House of the Witch</td>\n",
       "      <td>Movie</td>\n",
       "      <td>Emily Bader, Darren Mann, Michelle Randolph, C...</td>\n",
       "      <td>2017-01-01</td>\n",
       "      <td>Horror Movies</td>\n",
       "      <td>54</td>\n",
       "      <td>113</td>\n",
       "      <td>4.8</td>\n",
       "      <td>en</td>\n",
       "      <td>Horror, TV Movie</td>\n",
       "      <td>3.071642</td>\n",
       "    </tr>\n",
       "    <tr>\n",
       "      <th>20</th>\n",
       "      <td>Prey</td>\n",
       "      <td>Movie</td>\n",
       "      <td>David Kross, Hanno Koffler, Maria Ehrich, Robe...</td>\n",
       "      <td>2021-01-01</td>\n",
       "      <td>International Movies, Thrillers</td>\n",
       "      <td>60</td>\n",
       "      <td>215</td>\n",
       "      <td>4.6</td>\n",
       "      <td>de</td>\n",
       "      <td>Thriller</td>\n",
       "      <td>3.046269</td>\n",
       "    </tr>\n",
       "    <tr>\n",
       "      <th>1512</th>\n",
       "      <td>The Little Mermaid</td>\n",
       "      <td>Movie</td>\n",
       "      <td>William Moseley, Poppy Drayton, Loreto Peralta...</td>\n",
       "      <td>2018-01-01</td>\n",
       "      <td>Children &amp; Family Movies, Dramas</td>\n",
       "      <td>14</td>\n",
       "      <td>0</td>\n",
       "      <td>0.0</td>\n",
       "      <td>en</td>\n",
       "      <td>Adventure, Family, Fantasy, Romance</td>\n",
       "      <td>1.750000</td>\n",
       "    </tr>\n",
       "  </tbody>\n",
       "</table>\n",
       "</div>"
      ],
      "text/plain": [
       "                   title   type  \\\n",
       "934     The Ridiculous 6  Movie   \n",
       "1065   Chernobyl Diaries  Movie   \n",
       "478   House of the Witch  Movie   \n",
       "20                  Prey  Movie   \n",
       "1512  The Little Mermaid  Movie   \n",
       "\n",
       "                                                   cast release_year  \\\n",
       "934   Adam Sandler, Terry Crews, Jorge Garcia, Taylo...   2015-01-01   \n",
       "1065  Ingrid Bolsø Berdal, Dimitri Diatchenko, Olivi...   2012-01-01   \n",
       "478   Emily Bader, Darren Mann, Michelle Randolph, C...   2017-01-01   \n",
       "20    David Kross, Hanno Koffler, Maria Ehrich, Robe...   2021-01-01   \n",
       "1512  William Moseley, Poppy Drayton, Loreto Peralta...   2018-01-01   \n",
       "\n",
       "                             listed_in  Popularity  Vote_Count  Vote_Average  \\\n",
       "934       Action & Adventure, Comedies          47        1107           5.2   \n",
       "1065          Horror Movies, Thrillers          44        1294           5.2   \n",
       "478                      Horror Movies          54         113           4.8   \n",
       "20     International Movies, Thrillers          60         215           4.6   \n",
       "1512  Children & Family Movies, Dramas          14           0           0.0   \n",
       "\n",
       "     Original_Language                                Genre  Voting_Popularity  \n",
       "934                 en                      Western, Comedy           3.184577  \n",
       "1065                en                     Horror, Thriller           3.147264  \n",
       "478                 en                     Horror, TV Movie           3.071642  \n",
       "20                  de                             Thriller           3.046269  \n",
       "1512                en  Adventure, Family, Fantasy, Romance           1.750000  "
      ]
     },
     "execution_count": 231,
     "metadata": {},
     "output_type": "execute_result"
    }
   ],
   "source": [
    "combined_dataframe_netflix.tail()"
   ]
  },
  {
   "cell_type": "markdown",
   "id": "8d78deaa",
   "metadata": {},
   "source": [
    "## Durchschnittliche Voting_Popularity"
   ]
  },
  {
   "cell_type": "code",
   "execution_count": 232,
   "id": "d1d66bb7",
   "metadata": {},
   "outputs": [
    {
     "name": "stdout",
     "output_type": "stream",
     "text": [
      "5.60660237911428\n"
     ]
    }
   ],
   "source": [
    "print(combined_dataframe_netflix['Voting_Popularity'].mean())"
   ]
  },
  {
   "cell_type": "markdown",
   "id": "b5103369",
   "metadata": {},
   "source": [
    "# Disney-Datensatz"
   ]
  },
  {
   "cell_type": "code",
   "execution_count": 233,
   "id": "2269dfd5",
   "metadata": {},
   "outputs": [
    {
     "name": "stdout",
     "output_type": "stream",
     "text": [
      "<class 'pandas.core.frame.DataFrame'>\n",
      "RangeIndex: 1450 entries, 0 to 1449\n",
      "Data columns (total 12 columns):\n",
      " #   Column        Non-Null Count  Dtype \n",
      "---  ------        --------------  ----- \n",
      " 0   show_id       1450 non-null   object\n",
      " 1   type          1450 non-null   object\n",
      " 2   title         1450 non-null   object\n",
      " 3   director      977 non-null    object\n",
      " 4   cast          1260 non-null   object\n",
      " 5   country       1231 non-null   object\n",
      " 6   date_added    1447 non-null   object\n",
      " 7   release_year  1450 non-null   int64 \n",
      " 8   rating        1447 non-null   object\n",
      " 9   duration      1450 non-null   object\n",
      " 10  listed_in     1450 non-null   object\n",
      " 11  description   1450 non-null   object\n",
      "dtypes: int64(1), object(11)\n",
      "memory usage: 136.1+ KB\n"
     ]
    },
    {
     "data": {
      "text/plain": [
       "(1450, 12)"
      ]
     },
     "execution_count": 233,
     "metadata": {},
     "output_type": "execute_result"
    }
   ],
   "source": [
    "disney_data = pd.read_csv('./disney_plus_titles.csv', engine='python')\n",
    "disney_data.info()\n",
    "disney_data.shape"
   ]
  },
  {
   "cell_type": "code",
   "execution_count": 234,
   "id": "13d2f4b1",
   "metadata": {},
   "outputs": [],
   "source": [
    "column_types_disney = {'title':'string', 'type':'string', 'cast':'string' , 'listed_in':'string'}\n",
    "disney_data_clean = pd.read_csv('./disney_plus_titles.csv', engine='python', dtype=column_types_disney)\n",
    "disney_data_clean = disney_data_clean.drop(columns=['show_id', 'director', 'country', 'duration', 'description', 'date_added' , 'rating'])\n",
    "disney_data_clean = disney_data_clean.dropna()"
   ]
  },
  {
   "cell_type": "code",
   "execution_count": 235,
   "id": "9fef1c8f",
   "metadata": {},
   "outputs": [
    {
     "data": {
      "text/plain": [
       "(1260, 5)"
      ]
     },
     "execution_count": 235,
     "metadata": {},
     "output_type": "execute_result"
    }
   ],
   "source": [
    "disney_data_clean.shape"
   ]
  },
  {
   "cell_type": "code",
   "execution_count": 236,
   "id": "782488a8",
   "metadata": {},
   "outputs": [
    {
     "name": "stdout",
     "output_type": "stream",
     "text": [
      "type            0\n",
      "title           0\n",
      "cast            0\n",
      "release_year    0\n",
      "listed_in       0\n",
      "dtype: int64\n"
     ]
    }
   ],
   "source": [
    "print(disney_data_clean.isnull().sum())"
   ]
  },
  {
   "cell_type": "code",
   "execution_count": 237,
   "id": "ea9e4bfa",
   "metadata": {
    "scrolled": false
   },
   "outputs": [
    {
     "data": {
      "text/html": [
       "<div>\n",
       "<style scoped>\n",
       "    .dataframe tbody tr th:only-of-type {\n",
       "        vertical-align: middle;\n",
       "    }\n",
       "\n",
       "    .dataframe tbody tr th {\n",
       "        vertical-align: top;\n",
       "    }\n",
       "\n",
       "    .dataframe thead th {\n",
       "        text-align: right;\n",
       "    }\n",
       "</style>\n",
       "<table border=\"1\" class=\"dataframe\">\n",
       "  <thead>\n",
       "    <tr style=\"text-align: right;\">\n",
       "      <th></th>\n",
       "      <th>type</th>\n",
       "      <th>title</th>\n",
       "      <th>cast</th>\n",
       "      <th>release_year</th>\n",
       "      <th>listed_in</th>\n",
       "    </tr>\n",
       "  </thead>\n",
       "  <tbody>\n",
       "    <tr>\n",
       "      <th>0</th>\n",
       "      <td>Movie</td>\n",
       "      <td>Duck the Halls: A Mickey Mouse Christmas Special</td>\n",
       "      <td>Chris Diamantopoulos, Tony Anselmo, Tress MacN...</td>\n",
       "      <td>2016-01-01</td>\n",
       "      <td>Animation, Family</td>\n",
       "    </tr>\n",
       "    <tr>\n",
       "      <th>1</th>\n",
       "      <td>Movie</td>\n",
       "      <td>Ernest Saves Christmas</td>\n",
       "      <td>Jim Varney, Noelle Parker, Douglas Seale</td>\n",
       "      <td>1988-01-01</td>\n",
       "      <td>Comedy</td>\n",
       "    </tr>\n",
       "    <tr>\n",
       "      <th>2</th>\n",
       "      <td>Movie</td>\n",
       "      <td>Ice Age: A Mammoth Christmas</td>\n",
       "      <td>Raymond Albert Romano, John Leguizamo, Denis L...</td>\n",
       "      <td>2011-01-01</td>\n",
       "      <td>Animation, Comedy, Family</td>\n",
       "    </tr>\n",
       "    <tr>\n",
       "      <th>3</th>\n",
       "      <td>Movie</td>\n",
       "      <td>The Queen Family Singalong</td>\n",
       "      <td>Darren Criss, Adam Lambert, Derek Hough, Alexa...</td>\n",
       "      <td>2021-01-01</td>\n",
       "      <td>Musical</td>\n",
       "    </tr>\n",
       "    <tr>\n",
       "      <th>5</th>\n",
       "      <td>Movie</td>\n",
       "      <td>Becoming Cousteau</td>\n",
       "      <td>Jacques Yves Cousteau, Vincent Cassel</td>\n",
       "      <td>2021-01-01</td>\n",
       "      <td>Biographical, Documentary</td>\n",
       "    </tr>\n",
       "  </tbody>\n",
       "</table>\n",
       "</div>"
      ],
      "text/plain": [
       "    type                                             title  \\\n",
       "0  Movie  Duck the Halls: A Mickey Mouse Christmas Special   \n",
       "1  Movie                            Ernest Saves Christmas   \n",
       "2  Movie                      Ice Age: A Mammoth Christmas   \n",
       "3  Movie                        The Queen Family Singalong   \n",
       "5  Movie                                 Becoming Cousteau   \n",
       "\n",
       "                                                cast release_year  \\\n",
       "0  Chris Diamantopoulos, Tony Anselmo, Tress MacN...   2016-01-01   \n",
       "1           Jim Varney, Noelle Parker, Douglas Seale   1988-01-01   \n",
       "2  Raymond Albert Romano, John Leguizamo, Denis L...   2011-01-01   \n",
       "3  Darren Criss, Adam Lambert, Derek Hough, Alexa...   2021-01-01   \n",
       "5              Jacques Yves Cousteau, Vincent Cassel   2021-01-01   \n",
       "\n",
       "                   listed_in  \n",
       "0          Animation, Family  \n",
       "1                     Comedy  \n",
       "2  Animation, Comedy, Family  \n",
       "3                    Musical  \n",
       "5  Biographical, Documentary  "
      ]
     },
     "execution_count": 237,
     "metadata": {},
     "output_type": "execute_result"
    }
   ],
   "source": [
    "disney_data_clean['release_year'] = pd.to_datetime(disney_data_clean['release_year'], format = '%Y')\n",
    "disney_data_clean = disney_data_clean[disney_data_clean['type'] != 'TV Show']\n",
    "disney_data_clean.head()"
   ]
  },
  {
   "cell_type": "markdown",
   "id": "4a3fc675",
   "metadata": {},
   "source": [
    "# Merge vom Disney-Datensatz mit dem Originaldatnsatz"
   ]
  },
  {
   "cell_type": "code",
   "execution_count": 238,
   "id": "5eb1f78d",
   "metadata": {},
   "outputs": [],
   "source": [
    "disney_common_titles = pd.merge(disney_data_clean, train_data_clean, how='inner', left_on='title', right_on='Title')\n",
    "disney_common_titles = disney_common_titles[['title', 'type', 'cast', 'release_year', 'listed_in', 'Popularity', 'Vote_Count', 'Vote_Average', 'Original_Language', 'Genre']]"
   ]
  },
  {
   "cell_type": "code",
   "execution_count": 239,
   "id": "20c8c0c0",
   "metadata": {},
   "outputs": [
    {
     "data": {
      "text/plain": [
       "(418, 10)"
      ]
     },
     "execution_count": 239,
     "metadata": {},
     "output_type": "execute_result"
    }
   ],
   "source": [
    "disney_common_titles.shape"
   ]
  },
  {
   "cell_type": "code",
   "execution_count": 240,
   "id": "07da1ef3",
   "metadata": {},
   "outputs": [
    {
     "name": "stdout",
     "output_type": "stream",
     "text": [
      "Number of rows and columns in the combined DataFrame: (418, 11)\n"
     ]
    }
   ],
   "source": [
    "# Assuming disney_common_titles is your original DataFrame\n",
    "\n",
    "# Getting top values based on 10% of the highest Popularity value\n",
    "threshold_value_disney = disney_common_titles['Popularity'].max() * 0.1\n",
    "\n",
    "# Filter the DataFrame based on the threshold\n",
    "disney_top_titles = disney_common_titles[disney_common_titles['Popularity'] > threshold_value_disney]\n",
    "\n",
    "# Normalizing top titles to fit Vote_Average Scale\n",
    "normalized_top_popularity_disney = (disney_top_titles['Popularity'] / disney_top_titles['Popularity'].max()) * 10\n",
    "\n",
    "# Value of popularity and Vote_Average combined\n",
    "combined_rating_disney = (normalized_top_popularity_disney + disney_top_titles['Vote_Average']) / 2\n",
    "\n",
    "# Assigning a new column 'Voting_Popularity'\n",
    "disney_top_titles = disney_top_titles.assign(Voting_Popularity=combined_rating_disney)\n",
    "\n",
    "# Creating a DataFrame with the rest of the titles\n",
    "rest_of_titles_disney = disney_common_titles[~disney_common_titles.index.isin(disney_top_titles.index)]\n",
    "\n",
    "# Normalizing rest of titles to fit Vote_Average Scale\n",
    "normalized_rest_popularity_disney = (rest_of_titles_disney['Popularity'] / rest_of_titles_disney['Popularity'].max()) * 10\n",
    "\n",
    "# Value of popularity and Vote_Average combined for the rest of titles\n",
    "combined_rest_rating_disney = (normalized_rest_popularity_disney + rest_of_titles_disney['Vote_Average']) / 2\n",
    "\n",
    "# Assigning a new column 'Voting_Popularity' for the rest of titles\n",
    "rest_of_titles_disney = rest_of_titles_disney.assign(Voting_Popularity=combined_rest_rating_disney)\n",
    "\n",
    "# Concatenating the two DataFrames\n",
    "combined_dataframe_disney = pd.concat([disney_top_titles, rest_of_titles_disney])\n",
    "\n",
    "# Display the combined DataFrame\n",
    "print(\"Number of rows and columns in the combined DataFrame:\", combined_dataframe_disney.shape)\n"
   ]
  },
  {
   "cell_type": "code",
   "execution_count": 241,
   "id": "0e268f27",
   "metadata": {},
   "outputs": [],
   "source": [
    "#sortiert dataframe nach Voting_Popularity in absteigender Reihnfolge\n",
    "disney_top_titles = disney_top_titles.sort_values(by='Voting_Popularity', ascending=False)\n",
    "rest_of_titles_disney = rest_of_titles_disney.sort_values(by='Voting_Popularity', ascending=False)\n",
    "combined_dataframe_disney = combined_dataframe_disney.sort_values(by='Voting_Popularity', ascending=False)"
   ]
  },
  {
   "cell_type": "code",
   "execution_count": 242,
   "id": "7afc02e2",
   "metadata": {},
   "outputs": [
    {
     "data": {
      "text/html": [
       "<div>\n",
       "<style scoped>\n",
       "    .dataframe tbody tr th:only-of-type {\n",
       "        vertical-align: middle;\n",
       "    }\n",
       "\n",
       "    .dataframe tbody tr th {\n",
       "        vertical-align: top;\n",
       "    }\n",
       "\n",
       "    .dataframe thead th {\n",
       "        text-align: right;\n",
       "    }\n",
       "</style>\n",
       "<table border=\"1\" class=\"dataframe\">\n",
       "  <thead>\n",
       "    <tr style=\"text-align: right;\">\n",
       "      <th></th>\n",
       "      <th>title</th>\n",
       "      <th>type</th>\n",
       "      <th>cast</th>\n",
       "      <th>release_year</th>\n",
       "      <th>listed_in</th>\n",
       "      <th>Popularity</th>\n",
       "      <th>Vote_Count</th>\n",
       "      <th>Vote_Average</th>\n",
       "      <th>Original_Language</th>\n",
       "      <th>Genre</th>\n",
       "      <th>Voting_Popularity</th>\n",
       "    </tr>\n",
       "  </thead>\n",
       "  <tbody>\n",
       "    <tr>\n",
       "      <th>28</th>\n",
       "      <td>Cruella</td>\n",
       "      <td>Movie</td>\n",
       "      <td>Emma Stone, Emma Thompson, Joel Fry, Paul Walt...</td>\n",
       "      <td>2021-01-01</td>\n",
       "      <td>Crime, Drama</td>\n",
       "      <td>429</td>\n",
       "      <td>6675</td>\n",
       "      <td>8.2</td>\n",
       "      <td>en</td>\n",
       "      <td>Comedy, Crime</td>\n",
       "      <td>9.100000</td>\n",
       "    </tr>\n",
       "    <tr>\n",
       "      <th>44</th>\n",
       "      <td>Luca</td>\n",
       "      <td>Movie</td>\n",
       "      <td>Jacob Tremblay, Jack Dylan Grazer, Emma Berman...</td>\n",
       "      <td>2021-01-01</td>\n",
       "      <td>Animation, Buddy, Coming of Age</td>\n",
       "      <td>408</td>\n",
       "      <td>5886</td>\n",
       "      <td>8.0</td>\n",
       "      <td>en</td>\n",
       "      <td>Animation, Comedy, Family, Fantasy</td>\n",
       "      <td>8.755245</td>\n",
       "    </tr>\n",
       "    <tr>\n",
       "      <th>27</th>\n",
       "      <td>Happier Than Ever: A Love Letter to Los Angeles</td>\n",
       "      <td>Movie</td>\n",
       "      <td>Billie Eilish, FINNEAS</td>\n",
       "      <td>2021-01-01</td>\n",
       "      <td>Concert Film, Music</td>\n",
       "      <td>39</td>\n",
       "      <td>83</td>\n",
       "      <td>8.0</td>\n",
       "      <td>en</td>\n",
       "      <td>Music</td>\n",
       "      <td>8.642857</td>\n",
       "    </tr>\n",
       "    <tr>\n",
       "      <th>257</th>\n",
       "      <td>Mary Poppins</td>\n",
       "      <td>Movie</td>\n",
       "      <td>Julie Andrews, Dick Van Dyke, David Tomlinson,...</td>\n",
       "      <td>1964-01-01</td>\n",
       "      <td>Family, Fantasy, Musical</td>\n",
       "      <td>40</td>\n",
       "      <td>3894</td>\n",
       "      <td>7.6</td>\n",
       "      <td>en</td>\n",
       "      <td>Comedy, Family, Fantasy</td>\n",
       "      <td>8.561905</td>\n",
       "    </tr>\n",
       "    <tr>\n",
       "      <th>156</th>\n",
       "      <td>10 Things I Hate About You</td>\n",
       "      <td>Movie</td>\n",
       "      <td>Heath Ledger, Julia Stiles, Joseph Gordon-Levi...</td>\n",
       "      <td>1999-01-01</td>\n",
       "      <td>Comedy, Coming of Age, Romance</td>\n",
       "      <td>40</td>\n",
       "      <td>6326</td>\n",
       "      <td>7.6</td>\n",
       "      <td>en</td>\n",
       "      <td>Comedy, Romance, Drama</td>\n",
       "      <td>8.561905</td>\n",
       "    </tr>\n",
       "  </tbody>\n",
       "</table>\n",
       "</div>"
      ],
      "text/plain": [
       "                                               title   type  \\\n",
       "28                                           Cruella  Movie   \n",
       "44                                              Luca  Movie   \n",
       "27   Happier Than Ever: A Love Letter to Los Angeles  Movie   \n",
       "257                                     Mary Poppins  Movie   \n",
       "156                       10 Things I Hate About You  Movie   \n",
       "\n",
       "                                                  cast release_year  \\\n",
       "28   Emma Stone, Emma Thompson, Joel Fry, Paul Walt...   2021-01-01   \n",
       "44   Jacob Tremblay, Jack Dylan Grazer, Emma Berman...   2021-01-01   \n",
       "27                              Billie Eilish, FINNEAS   2021-01-01   \n",
       "257  Julie Andrews, Dick Van Dyke, David Tomlinson,...   1964-01-01   \n",
       "156  Heath Ledger, Julia Stiles, Joseph Gordon-Levi...   1999-01-01   \n",
       "\n",
       "                           listed_in  Popularity  Vote_Count  Vote_Average  \\\n",
       "28                      Crime, Drama         429        6675           8.2   \n",
       "44   Animation, Buddy, Coming of Age         408        5886           8.0   \n",
       "27               Concert Film, Music          39          83           8.0   \n",
       "257         Family, Fantasy, Musical          40        3894           7.6   \n",
       "156   Comedy, Coming of Age, Romance          40        6326           7.6   \n",
       "\n",
       "    Original_Language                               Genre  Voting_Popularity  \n",
       "28                 en                       Comedy, Crime           9.100000  \n",
       "44                 en  Animation, Comedy, Family, Fantasy           8.755245  \n",
       "27                 en                               Music           8.642857  \n",
       "257                en             Comedy, Family, Fantasy           8.561905  \n",
       "156                en              Comedy, Romance, Drama           8.561905  "
      ]
     },
     "execution_count": 242,
     "metadata": {},
     "output_type": "execute_result"
    }
   ],
   "source": [
    "combined_dataframe_disney.head()"
   ]
  },
  {
   "cell_type": "code",
   "execution_count": 243,
   "id": "33c7e3ac",
   "metadata": {},
   "outputs": [
    {
     "data": {
      "text/html": [
       "<div>\n",
       "<style scoped>\n",
       "    .dataframe tbody tr th:only-of-type {\n",
       "        vertical-align: middle;\n",
       "    }\n",
       "\n",
       "    .dataframe tbody tr th {\n",
       "        vertical-align: top;\n",
       "    }\n",
       "\n",
       "    .dataframe thead th {\n",
       "        text-align: right;\n",
       "    }\n",
       "</style>\n",
       "<table border=\"1\" class=\"dataframe\">\n",
       "  <thead>\n",
       "    <tr style=\"text-align: right;\">\n",
       "      <th></th>\n",
       "      <th>title</th>\n",
       "      <th>type</th>\n",
       "      <th>cast</th>\n",
       "      <th>release_year</th>\n",
       "      <th>listed_in</th>\n",
       "      <th>Popularity</th>\n",
       "      <th>Vote_Count</th>\n",
       "      <th>Vote_Average</th>\n",
       "      <th>Original_Language</th>\n",
       "      <th>Genre</th>\n",
       "      <th>Voting_Popularity</th>\n",
       "    </tr>\n",
       "  </thead>\n",
       "  <tbody>\n",
       "    <tr>\n",
       "      <th>91</th>\n",
       "      <td>Beverly Hills Chihuahua</td>\n",
       "      <td>Movie</td>\n",
       "      <td>Piper Perabo, Manolo Cardona, Jamie Curtis, Jo...</td>\n",
       "      <td>2008-01-01</td>\n",
       "      <td>Action-Adventure, Comedy, Family</td>\n",
       "      <td>59</td>\n",
       "      <td>840</td>\n",
       "      <td>5.3</td>\n",
       "      <td>en</td>\n",
       "      <td>Comedy, Family, Adventure, Romance</td>\n",
       "      <td>3.337646</td>\n",
       "    </tr>\n",
       "    <tr>\n",
       "      <th>377</th>\n",
       "      <td>The Wild</td>\n",
       "      <td>Movie</td>\n",
       "      <td>Kiefer Sutherland, Jim Belushi, Eddie Izzard, ...</td>\n",
       "      <td>2006-01-01</td>\n",
       "      <td>Action-Adventure, Animation, Comedy</td>\n",
       "      <td>50</td>\n",
       "      <td>824</td>\n",
       "      <td>5.5</td>\n",
       "      <td>en</td>\n",
       "      <td>Family, Animation</td>\n",
       "      <td>3.332751</td>\n",
       "    </tr>\n",
       "    <tr>\n",
       "      <th>87</th>\n",
       "      <td>Home Alone 3</td>\n",
       "      <td>Movie</td>\n",
       "      <td>Alex D. Linz, Haviland Morris, Olek Krupa</td>\n",
       "      <td>1997-01-01</td>\n",
       "      <td>Comedy, Family</td>\n",
       "      <td>47</td>\n",
       "      <td>2402</td>\n",
       "      <td>5.3</td>\n",
       "      <td>en</td>\n",
       "      <td>Comedy, Family</td>\n",
       "      <td>3.197786</td>\n",
       "    </tr>\n",
       "    <tr>\n",
       "      <th>32</th>\n",
       "      <td>Fantastic Four</td>\n",
       "      <td>Movie</td>\n",
       "      <td>Ioan Gruffudd, Jessica Alba, Chris Evans, Mich...</td>\n",
       "      <td>2005-01-01</td>\n",
       "      <td>Action-Adventure, Family, Science Fiction</td>\n",
       "      <td>55</td>\n",
       "      <td>5078</td>\n",
       "      <td>4.4</td>\n",
       "      <td>en</td>\n",
       "      <td>Action, Adventure, Science Fiction</td>\n",
       "      <td>2.841026</td>\n",
       "    </tr>\n",
       "    <tr>\n",
       "      <th>348</th>\n",
       "      <td>The Little Mermaid</td>\n",
       "      <td>Movie</td>\n",
       "      <td>René Auberjonois, Christopher Barnes, Jodi Ben...</td>\n",
       "      <td>1989-01-01</td>\n",
       "      <td>Animation, Family, Fantasy</td>\n",
       "      <td>14</td>\n",
       "      <td>0</td>\n",
       "      <td>0.0</td>\n",
       "      <td>en</td>\n",
       "      <td>Adventure, Family, Fantasy, Romance</td>\n",
       "      <td>1.666667</td>\n",
       "    </tr>\n",
       "  </tbody>\n",
       "</table>\n",
       "</div>"
      ],
      "text/plain": [
       "                       title   type  \\\n",
       "91   Beverly Hills Chihuahua  Movie   \n",
       "377                 The Wild  Movie   \n",
       "87              Home Alone 3  Movie   \n",
       "32            Fantastic Four  Movie   \n",
       "348       The Little Mermaid  Movie   \n",
       "\n",
       "                                                  cast release_year  \\\n",
       "91   Piper Perabo, Manolo Cardona, Jamie Curtis, Jo...   2008-01-01   \n",
       "377  Kiefer Sutherland, Jim Belushi, Eddie Izzard, ...   2006-01-01   \n",
       "87           Alex D. Linz, Haviland Morris, Olek Krupa   1997-01-01   \n",
       "32   Ioan Gruffudd, Jessica Alba, Chris Evans, Mich...   2005-01-01   \n",
       "348  René Auberjonois, Christopher Barnes, Jodi Ben...   1989-01-01   \n",
       "\n",
       "                                     listed_in  Popularity  Vote_Count  \\\n",
       "91            Action-Adventure, Comedy, Family          59         840   \n",
       "377        Action-Adventure, Animation, Comedy          50         824   \n",
       "87                              Comedy, Family          47        2402   \n",
       "32   Action-Adventure, Family, Science Fiction          55        5078   \n",
       "348                 Animation, Family, Fantasy          14           0   \n",
       "\n",
       "     Vote_Average Original_Language                                Genre  \\\n",
       "91            5.3                en   Comedy, Family, Adventure, Romance   \n",
       "377           5.5                en                    Family, Animation   \n",
       "87            5.3                en                       Comedy, Family   \n",
       "32            4.4                en   Action, Adventure, Science Fiction   \n",
       "348           0.0                en  Adventure, Family, Fantasy, Romance   \n",
       "\n",
       "     Voting_Popularity  \n",
       "91            3.337646  \n",
       "377           3.332751  \n",
       "87            3.197786  \n",
       "32            2.841026  \n",
       "348           1.666667  "
      ]
     },
     "execution_count": 243,
     "metadata": {},
     "output_type": "execute_result"
    }
   ],
   "source": [
    "combined_dataframe_disney.tail()"
   ]
  },
  {
   "cell_type": "markdown",
   "id": "cb83fb0c",
   "metadata": {},
   "source": [
    "## Durchschnittliche Voting_Popularity"
   ]
  },
  {
   "cell_type": "code",
   "execution_count": 244,
   "id": "0d4d9f27",
   "metadata": {},
   "outputs": [
    {
     "name": "stdout",
     "output_type": "stream",
     "text": [
      "5.482072950972472\n"
     ]
    }
   ],
   "source": [
    "print(combined_dataframe_disney['Voting_Popularity'].mean())"
   ]
  },
  {
   "cell_type": "markdown",
   "id": "d1f9cb81",
   "metadata": {},
   "source": [
    "# Amazon Prime Datensatz"
   ]
  },
  {
   "cell_type": "code",
   "execution_count": 245,
   "id": "536f293d",
   "metadata": {},
   "outputs": [
    {
     "name": "stdout",
     "output_type": "stream",
     "text": [
      "<class 'pandas.core.frame.DataFrame'>\n",
      "RangeIndex: 9668 entries, 0 to 9667\n",
      "Data columns (total 12 columns):\n",
      " #   Column        Non-Null Count  Dtype \n",
      "---  ------        --------------  ----- \n",
      " 0   show_id       9668 non-null   object\n",
      " 1   type          9668 non-null   object\n",
      " 2   title         9668 non-null   object\n",
      " 3   director      7585 non-null   object\n",
      " 4   cast          8435 non-null   object\n",
      " 5   country       672 non-null    object\n",
      " 6   date_added    155 non-null    object\n",
      " 7   release_year  9668 non-null   int64 \n",
      " 8   rating        9331 non-null   object\n",
      " 9   duration      9668 non-null   object\n",
      " 10  listed_in     9668 non-null   object\n",
      " 11  description   9668 non-null   object\n",
      "dtypes: int64(1), object(11)\n",
      "memory usage: 906.5+ KB\n"
     ]
    },
    {
     "data": {
      "text/plain": [
       "(9668, 12)"
      ]
     },
     "execution_count": 245,
     "metadata": {},
     "output_type": "execute_result"
    }
   ],
   "source": [
    "amazon_data = pd.read_csv('./amazon_prime_titles.csv', engine='python')\n",
    "amazon_data.info()\n",
    "amazon_data.shape"
   ]
  },
  {
   "cell_type": "code",
   "execution_count": 246,
   "id": "65da5824",
   "metadata": {},
   "outputs": [],
   "source": [
    "column_types_amazon = {'title':'string', 'type':'string', 'cast':'string' , 'listed_in':'string'}\n",
    "\n",
    "amazon_data_clean = pd.read_csv('./amazon_prime_titles.csv', engine='python', dtype=column_types_amazon)\n",
    "amazon_data_clean = amazon_data_clean.drop(columns=['show_id', 'director', 'country', 'duration', 'description', 'date_added' , 'rating'])\n",
    "amazon_data_clean = amazon_data_clean.dropna()"
   ]
  },
  {
   "cell_type": "code",
   "execution_count": 247,
   "id": "81ea9d82",
   "metadata": {},
   "outputs": [
    {
     "data": {
      "text/plain": [
       "(8435, 5)"
      ]
     },
     "execution_count": 247,
     "metadata": {},
     "output_type": "execute_result"
    }
   ],
   "source": [
    "amazon_data_clean.shape"
   ]
  },
  {
   "cell_type": "code",
   "execution_count": 248,
   "id": "1618a855",
   "metadata": {},
   "outputs": [
    {
     "name": "stdout",
     "output_type": "stream",
     "text": [
      "type            0\n",
      "title           0\n",
      "cast            0\n",
      "release_year    0\n",
      "listed_in       0\n",
      "dtype: int64\n"
     ]
    }
   ],
   "source": [
    "print(amazon_data_clean.isnull().sum())"
   ]
  },
  {
   "cell_type": "code",
   "execution_count": 249,
   "id": "bea6a96d",
   "metadata": {},
   "outputs": [
    {
     "data": {
      "text/html": [
       "<div>\n",
       "<style scoped>\n",
       "    .dataframe tbody tr th:only-of-type {\n",
       "        vertical-align: middle;\n",
       "    }\n",
       "\n",
       "    .dataframe tbody tr th {\n",
       "        vertical-align: top;\n",
       "    }\n",
       "\n",
       "    .dataframe thead th {\n",
       "        text-align: right;\n",
       "    }\n",
       "</style>\n",
       "<table border=\"1\" class=\"dataframe\">\n",
       "  <thead>\n",
       "    <tr style=\"text-align: right;\">\n",
       "      <th></th>\n",
       "      <th>type</th>\n",
       "      <th>title</th>\n",
       "      <th>cast</th>\n",
       "      <th>release_year</th>\n",
       "      <th>listed_in</th>\n",
       "    </tr>\n",
       "  </thead>\n",
       "  <tbody>\n",
       "    <tr>\n",
       "      <th>0</th>\n",
       "      <td>Movie</td>\n",
       "      <td>The Grand Seduction</td>\n",
       "      <td>Brendan Gleeson, Taylor Kitsch, Gordon Pinsent</td>\n",
       "      <td>2014-01-01</td>\n",
       "      <td>Comedy, Drama</td>\n",
       "    </tr>\n",
       "    <tr>\n",
       "      <th>1</th>\n",
       "      <td>Movie</td>\n",
       "      <td>Take Care Good Night</td>\n",
       "      <td>Mahesh Manjrekar, Abhay Mahajan, Sachin Khedekar</td>\n",
       "      <td>2018-01-01</td>\n",
       "      <td>Drama, International</td>\n",
       "    </tr>\n",
       "    <tr>\n",
       "      <th>2</th>\n",
       "      <td>Movie</td>\n",
       "      <td>Secrets of Deception</td>\n",
       "      <td>Tom Sizemore, Lorenzo Lamas, Robert LaSardo, R...</td>\n",
       "      <td>2017-01-01</td>\n",
       "      <td>Action, Drama, Suspense</td>\n",
       "    </tr>\n",
       "    <tr>\n",
       "      <th>3</th>\n",
       "      <td>Movie</td>\n",
       "      <td>Pink: Staying True</td>\n",
       "      <td>Interviews with: Pink, Adele, Beyoncé, Britney...</td>\n",
       "      <td>2014-01-01</td>\n",
       "      <td>Documentary</td>\n",
       "    </tr>\n",
       "    <tr>\n",
       "      <th>4</th>\n",
       "      <td>Movie</td>\n",
       "      <td>Monster Maker</td>\n",
       "      <td>Harry Dean Stanton, Kieran O'Brien, George Cos...</td>\n",
       "      <td>1989-01-01</td>\n",
       "      <td>Drama, Fantasy</td>\n",
       "    </tr>\n",
       "  </tbody>\n",
       "</table>\n",
       "</div>"
      ],
      "text/plain": [
       "    type                 title  \\\n",
       "0  Movie   The Grand Seduction   \n",
       "1  Movie  Take Care Good Night   \n",
       "2  Movie  Secrets of Deception   \n",
       "3  Movie    Pink: Staying True   \n",
       "4  Movie         Monster Maker   \n",
       "\n",
       "                                                cast release_year  \\\n",
       "0     Brendan Gleeson, Taylor Kitsch, Gordon Pinsent   2014-01-01   \n",
       "1   Mahesh Manjrekar, Abhay Mahajan, Sachin Khedekar   2018-01-01   \n",
       "2  Tom Sizemore, Lorenzo Lamas, Robert LaSardo, R...   2017-01-01   \n",
       "3  Interviews with: Pink, Adele, Beyoncé, Britney...   2014-01-01   \n",
       "4  Harry Dean Stanton, Kieran O'Brien, George Cos...   1989-01-01   \n",
       "\n",
       "                 listed_in  \n",
       "0            Comedy, Drama  \n",
       "1     Drama, International  \n",
       "2  Action, Drama, Suspense  \n",
       "3              Documentary  \n",
       "4           Drama, Fantasy  "
      ]
     },
     "execution_count": 249,
     "metadata": {},
     "output_type": "execute_result"
    }
   ],
   "source": [
    "amazon_data_clean['release_year'] = pd.to_datetime(amazon_data_clean['release_year'], format = '%Y')\n",
    "amazon_data_clean = amazon_data_clean[amazon_data_clean['type'] != 'TV Show']\n",
    "amazon_data_clean.head()"
   ]
  },
  {
   "cell_type": "markdown",
   "id": "2c7029c4",
   "metadata": {},
   "source": [
    "# Merge vom Amazon Prime-Datensatz mit dem Originaldatnsatz"
   ]
  },
  {
   "cell_type": "code",
   "execution_count": 250,
   "id": "f7f54dc2",
   "metadata": {},
   "outputs": [],
   "source": [
    "amazon_common_titles = pd.merge(amazon_data_clean, train_data_clean, how='inner', left_on='title', right_on='Title')\n",
    "amazon_common_titles = amazon_common_titles[['title', 'type', 'cast', 'release_year', 'listed_in', 'Popularity', 'Vote_Count', 'Vote_Average', 'Original_Language', 'Genre']]"
   ]
  },
  {
   "cell_type": "code",
   "execution_count": 251,
   "id": "05320087",
   "metadata": {},
   "outputs": [
    {
     "data": {
      "text/plain": [
       "(669, 10)"
      ]
     },
     "execution_count": 251,
     "metadata": {},
     "output_type": "execute_result"
    }
   ],
   "source": [
    "amazon_common_titles.shape"
   ]
  },
  {
   "cell_type": "code",
   "execution_count": 252,
   "id": "ac350976",
   "metadata": {},
   "outputs": [
    {
     "name": "stdout",
     "output_type": "stream",
     "text": [
      "Number of rows and columns in the combined DataFrame: (669, 11)\n"
     ]
    }
   ],
   "source": [
    "# Assuming amazon_common_titles is your original DataFrame\n",
    "\n",
    "# Getting top values based on 10% of the highest Popularity value\n",
    "threshold_value_amazon = amazon_common_titles['Popularity'].max() * 0.1\n",
    "\n",
    "# Filter the DataFrame based on the threshold\n",
    "amazon_top_titles = amazon_common_titles[amazon_common_titles['Popularity'] > threshold_value_amazon]\n",
    "\n",
    "# Normalizing top titles to fit Vote_Average Scale\n",
    "normalized_top_popularity_amazon = (amazon_top_titles['Popularity'] / amazon_top_titles['Popularity'].max()) * 10\n",
    "\n",
    "# Value of popularity and Vote_Average combined\n",
    "combined_rating_amazon = (normalized_top_popularity_amazon + amazon_top_titles['Vote_Average']) / 2\n",
    "\n",
    "# Assigning a new column 'Voting_Popularity'\n",
    "amazon_top_titles = amazon_top_titles.assign(Voting_Popularity=combined_rating_amazon)\n",
    "\n",
    "# Creating a DataFrame with the rest of the titles\n",
    "rest_of_titles_amazon = amazon_common_titles[~amazon_common_titles.index.isin(amazon_top_titles.index)]\n",
    "\n",
    "# Normalizing rest of titles to fit Vote_Average Scale\n",
    "normalized_rest_popularity_amazon = (rest_of_titles_amazon['Popularity'] / rest_of_titles_amazon['Popularity'].max()) * 10\n",
    "\n",
    "# Value of popularity and Vote_Average combined for the rest of titles\n",
    "combined_rest_rating_amazon = (normalized_rest_popularity_amazon + rest_of_titles_amazon['Vote_Average']) / 2\n",
    "\n",
    "# Assigning a new column 'Voting_Popularity' for the rest of titles\n",
    "rest_of_titles_amazon = rest_of_titles_amazon.assign(Voting_Popularity=combined_rest_rating_amazon)\n",
    "\n",
    "# Concatenating the two DataFrames\n",
    "combined_dataframe_amazon = pd.concat([amazon_top_titles, rest_of_titles_amazon])\n",
    "\n",
    "# Display the combined DataFrame\n",
    "print(\"Number of rows and columns in the combined DataFrame:\", combined_dataframe_amazon.shape)"
   ]
  },
  {
   "cell_type": "code",
   "execution_count": 253,
   "id": "66c2a023",
   "metadata": {},
   "outputs": [],
   "source": [
    "#sortiert dataframe nach Voting_Popularity in absteigender Reihnfolge\n",
    "amazon_top_titles = amazon_top_titles.sort_values(by='Voting_Popularity', ascending=False)\n",
    "rest_of_titles_amazon = rest_of_titles_amazon.sort_values(by='Voting_Popularity', ascending=False)\n",
    "combined_dataframe_amazon = combined_dataframe_amazon.sort_values(by='Voting_Popularity', ascending=False)"
   ]
  },
  {
   "cell_type": "code",
   "execution_count": 254,
   "id": "f119d495",
   "metadata": {},
   "outputs": [
    {
     "data": {
      "text/html": [
       "<div>\n",
       "<style scoped>\n",
       "    .dataframe tbody tr th:only-of-type {\n",
       "        vertical-align: middle;\n",
       "    }\n",
       "\n",
       "    .dataframe tbody tr th {\n",
       "        vertical-align: top;\n",
       "    }\n",
       "\n",
       "    .dataframe thead th {\n",
       "        text-align: right;\n",
       "    }\n",
       "</style>\n",
       "<table border=\"1\" class=\"dataframe\">\n",
       "  <thead>\n",
       "    <tr style=\"text-align: right;\">\n",
       "      <th></th>\n",
       "      <th>title</th>\n",
       "      <th>type</th>\n",
       "      <th>cast</th>\n",
       "      <th>release_year</th>\n",
       "      <th>listed_in</th>\n",
       "      <th>Popularity</th>\n",
       "      <th>Vote_Count</th>\n",
       "      <th>Vote_Average</th>\n",
       "      <th>Original_Language</th>\n",
       "      <th>Genre</th>\n",
       "      <th>Voting_Popularity</th>\n",
       "    </tr>\n",
       "  </thead>\n",
       "  <tbody>\n",
       "    <tr>\n",
       "      <th>280</th>\n",
       "      <td>Nobody</td>\n",
       "      <td>Movie</td>\n",
       "      <td>Costas Mandylor, Darren Wall, Ed O'Ross, Dawn ...</td>\n",
       "      <td>2007-01-01</td>\n",
       "      <td>Horror, Suspense</td>\n",
       "      <td>175</td>\n",
       "      <td>4292</td>\n",
       "      <td>8.2</td>\n",
       "      <td>en</td>\n",
       "      <td>Action, Crime, Thriller</td>\n",
       "      <td>9.100000</td>\n",
       "    </tr>\n",
       "    <tr>\n",
       "      <th>269</th>\n",
       "      <td>Joker</td>\n",
       "      <td>Movie</td>\n",
       "      <td>Guru Somasundaram, Ramya Pandiyan, Gayathri, R...</td>\n",
       "      <td>2016-01-01</td>\n",
       "      <td>Comedy, Drama, International</td>\n",
       "      <td>155</td>\n",
       "      <td>20016</td>\n",
       "      <td>8.2</td>\n",
       "      <td>en</td>\n",
       "      <td>Crime, Thriller, Drama</td>\n",
       "      <td>8.528571</td>\n",
       "    </tr>\n",
       "    <tr>\n",
       "      <th>330</th>\n",
       "      <td>Brothers</td>\n",
       "      <td>Movie</td>\n",
       "      <td>Akshay Kumar, Sidharth Malhotra, Jackie Shroff...</td>\n",
       "      <td>2015-01-01</td>\n",
       "      <td>Action, Drama, Sports</td>\n",
       "      <td>169</td>\n",
       "      <td>2085</td>\n",
       "      <td>7.1</td>\n",
       "      <td>en</td>\n",
       "      <td>Drama, Thriller, War</td>\n",
       "      <td>8.378571</td>\n",
       "    </tr>\n",
       "    <tr>\n",
       "      <th>67</th>\n",
       "      <td>Legend</td>\n",
       "      <td>Movie</td>\n",
       "      <td>Sam Cooke, Lou Rawls, Aretha Franklin, Bobby W...</td>\n",
       "      <td>2021-01-01</td>\n",
       "      <td>Documentary</td>\n",
       "      <td>165</td>\n",
       "      <td>2856</td>\n",
       "      <td>6.9</td>\n",
       "      <td>en</td>\n",
       "      <td>Crime, Thriller</td>\n",
       "      <td>8.164286</td>\n",
       "    </tr>\n",
       "    <tr>\n",
       "      <th>281</th>\n",
       "      <td>No Exit</td>\n",
       "      <td>Movie</td>\n",
       "      <td>John Brynes, Marie Weigle</td>\n",
       "      <td>2021-01-01</td>\n",
       "      <td>Comedy, Horror</td>\n",
       "      <td>2618</td>\n",
       "      <td>122</td>\n",
       "      <td>6.3</td>\n",
       "      <td>en</td>\n",
       "      <td>Thriller</td>\n",
       "      <td>8.150000</td>\n",
       "    </tr>\n",
       "  </tbody>\n",
       "</table>\n",
       "</div>"
      ],
      "text/plain": [
       "        title   type                                               cast  \\\n",
       "280    Nobody  Movie  Costas Mandylor, Darren Wall, Ed O'Ross, Dawn ...   \n",
       "269     Joker  Movie  Guru Somasundaram, Ramya Pandiyan, Gayathri, R...   \n",
       "330  Brothers  Movie  Akshay Kumar, Sidharth Malhotra, Jackie Shroff...   \n",
       "67     Legend  Movie  Sam Cooke, Lou Rawls, Aretha Franklin, Bobby W...   \n",
       "281   No Exit  Movie                          John Brynes, Marie Weigle   \n",
       "\n",
       "    release_year                     listed_in  Popularity  Vote_Count  \\\n",
       "280   2007-01-01              Horror, Suspense         175        4292   \n",
       "269   2016-01-01  Comedy, Drama, International         155       20016   \n",
       "330   2015-01-01         Action, Drama, Sports         169        2085   \n",
       "67    2021-01-01                   Documentary         165        2856   \n",
       "281   2021-01-01                Comedy, Horror        2618         122   \n",
       "\n",
       "     Vote_Average Original_Language                    Genre  \\\n",
       "280           8.2                en  Action, Crime, Thriller   \n",
       "269           8.2                en   Crime, Thriller, Drama   \n",
       "330           7.1                en     Drama, Thriller, War   \n",
       "67            6.9                en          Crime, Thriller   \n",
       "281           6.3                en                 Thriller   \n",
       "\n",
       "     Voting_Popularity  \n",
       "280           9.100000  \n",
       "269           8.528571  \n",
       "330           8.378571  \n",
       "67            8.164286  \n",
       "281           8.150000  "
      ]
     },
     "execution_count": 254,
     "metadata": {},
     "output_type": "execute_result"
    }
   ],
   "source": [
    "combined_dataframe_amazon.head()"
   ]
  },
  {
   "cell_type": "code",
   "execution_count": 255,
   "id": "80a0ede9",
   "metadata": {},
   "outputs": [
    {
     "data": {
      "text/html": [
       "<div>\n",
       "<style scoped>\n",
       "    .dataframe tbody tr th:only-of-type {\n",
       "        vertical-align: middle;\n",
       "    }\n",
       "\n",
       "    .dataframe tbody tr th {\n",
       "        vertical-align: top;\n",
       "    }\n",
       "\n",
       "    .dataframe thead th {\n",
       "        text-align: right;\n",
       "    }\n",
       "</style>\n",
       "<table border=\"1\" class=\"dataframe\">\n",
       "  <thead>\n",
       "    <tr style=\"text-align: right;\">\n",
       "      <th></th>\n",
       "      <th>title</th>\n",
       "      <th>type</th>\n",
       "      <th>cast</th>\n",
       "      <th>release_year</th>\n",
       "      <th>listed_in</th>\n",
       "      <th>Popularity</th>\n",
       "      <th>Vote_Count</th>\n",
       "      <th>Vote_Average</th>\n",
       "      <th>Original_Language</th>\n",
       "      <th>Genre</th>\n",
       "      <th>Voting_Popularity</th>\n",
       "    </tr>\n",
       "  </thead>\n",
       "  <tbody>\n",
       "    <tr>\n",
       "      <th>277</th>\n",
       "      <td>Sharknado</td>\n",
       "      <td>Movie</td>\n",
       "      <td>Tara Reid, Ian Ziering, John Heard, Cassie Sce...</td>\n",
       "      <td>2013-01-01</td>\n",
       "      <td>Action, Comedy, Horror</td>\n",
       "      <td>13</td>\n",
       "      <td>1293</td>\n",
       "      <td>3.9</td>\n",
       "      <td>en</td>\n",
       "      <td>Fantasy, Horror, Action, Comedy, TV Movie, Sci...</td>\n",
       "      <td>2.321429</td>\n",
       "    </tr>\n",
       "    <tr>\n",
       "      <th>234</th>\n",
       "      <td>Meteor Moon</td>\n",
       "      <td>Movie</td>\n",
       "      <td>Dominique Swain, Michael Broderick, Chris Boud...</td>\n",
       "      <td>2019-01-01</td>\n",
       "      <td>Action, Science Fiction</td>\n",
       "      <td>14</td>\n",
       "      <td>9</td>\n",
       "      <td>2.6</td>\n",
       "      <td>en</td>\n",
       "      <td>Adventure, Science Fiction</td>\n",
       "      <td>1.700000</td>\n",
       "    </tr>\n",
       "    <tr>\n",
       "      <th>177</th>\n",
       "      <td>The Perfect Wedding</td>\n",
       "      <td>Movie</td>\n",
       "      <td>James Rebhorn, Kristine Sutherland, Eric Arago...</td>\n",
       "      <td>2013-01-01</td>\n",
       "      <td>Comedy, Kids, LGBTQ</td>\n",
       "      <td>15</td>\n",
       "      <td>1</td>\n",
       "      <td>2.0</td>\n",
       "      <td>en</td>\n",
       "      <td>Thriller, TV Movie</td>\n",
       "      <td>1.428571</td>\n",
       "    </tr>\n",
       "    <tr>\n",
       "      <th>174</th>\n",
       "      <td>X</td>\n",
       "      <td>Movie</td>\n",
       "      <td>Hope Raymond, Eliza Boivin, Brian Smick</td>\n",
       "      <td>2021-01-01</td>\n",
       "      <td>Drama, Suspense</td>\n",
       "      <td>21</td>\n",
       "      <td>0</td>\n",
       "      <td>0.0</td>\n",
       "      <td>en</td>\n",
       "      <td>Horror, Thriller, Mystery</td>\n",
       "      <td>0.600000</td>\n",
       "    </tr>\n",
       "    <tr>\n",
       "      <th>383</th>\n",
       "      <td>Sideshow</td>\n",
       "      <td>Movie</td>\n",
       "      <td>Les Dennis, April Pearson, Nathan Clarke, Anth...</td>\n",
       "      <td>2021-01-01</td>\n",
       "      <td>Suspense</td>\n",
       "      <td>14</td>\n",
       "      <td>0</td>\n",
       "      <td>0.0</td>\n",
       "      <td>en</td>\n",
       "      <td>Comedy, Crime</td>\n",
       "      <td>0.400000</td>\n",
       "    </tr>\n",
       "  </tbody>\n",
       "</table>\n",
       "</div>"
      ],
      "text/plain": [
       "                   title   type  \\\n",
       "277            Sharknado  Movie   \n",
       "234          Meteor Moon  Movie   \n",
       "177  The Perfect Wedding  Movie   \n",
       "174                    X  Movie   \n",
       "383             Sideshow  Movie   \n",
       "\n",
       "                                                  cast release_year  \\\n",
       "277  Tara Reid, Ian Ziering, John Heard, Cassie Sce...   2013-01-01   \n",
       "234  Dominique Swain, Michael Broderick, Chris Boud...   2019-01-01   \n",
       "177  James Rebhorn, Kristine Sutherland, Eric Arago...   2013-01-01   \n",
       "174            Hope Raymond, Eliza Boivin, Brian Smick   2021-01-01   \n",
       "383  Les Dennis, April Pearson, Nathan Clarke, Anth...   2021-01-01   \n",
       "\n",
       "                   listed_in  Popularity  Vote_Count  Vote_Average  \\\n",
       "277   Action, Comedy, Horror          13        1293           3.9   \n",
       "234  Action, Science Fiction          14           9           2.6   \n",
       "177      Comedy, Kids, LGBTQ          15           1           2.0   \n",
       "174          Drama, Suspense          21           0           0.0   \n",
       "383                 Suspense          14           0           0.0   \n",
       "\n",
       "    Original_Language                                              Genre  \\\n",
       "277                en  Fantasy, Horror, Action, Comedy, TV Movie, Sci...   \n",
       "234                en                         Adventure, Science Fiction   \n",
       "177                en                                 Thriller, TV Movie   \n",
       "174                en                          Horror, Thriller, Mystery   \n",
       "383                en                                      Comedy, Crime   \n",
       "\n",
       "     Voting_Popularity  \n",
       "277           2.321429  \n",
       "234           1.700000  \n",
       "177           1.428571  \n",
       "174           0.600000  \n",
       "383           0.400000  "
      ]
     },
     "execution_count": 255,
     "metadata": {},
     "output_type": "execute_result"
    }
   ],
   "source": [
    "combined_dataframe_amazon.tail()"
   ]
  },
  {
   "cell_type": "code",
   "execution_count": 256,
   "id": "020264b9",
   "metadata": {},
   "outputs": [
    {
     "name": "stdout",
     "output_type": "stream",
     "text": [
      "3.9505443514544014\n"
     ]
    }
   ],
   "source": [
    "print(combined_dataframe_amazon['Voting_Popularity'].mean())"
   ]
  },
  {
   "cell_type": "code",
   "execution_count": 257,
   "id": "1448f671",
   "metadata": {},
   "outputs": [],
   "source": [
    "top_ten_netflix=combined_dataframe_netflix.head(10)\n",
    "top_ten_disney=combined_dataframe_disney.head(10)\n",
    "top_ten_amazon=combined_dataframe_amazon.head(10)"
   ]
  },
  {
   "cell_type": "code",
   "execution_count": 258,
   "id": "7777a139",
   "metadata": {},
   "outputs": [
    {
     "name": "stdout",
     "output_type": "stream",
     "text": [
      "8.480524475524474\n",
      "8.809999999999999\n",
      "7.972857142857142\n"
     ]
    }
   ],
   "source": [
    "print(top_ten_disney[\"Voting_Popularity\"].mean())\n",
    "print(top_ten_netflix[\"Voting_Popularity\"].mean())\n",
    "print(top_ten_amazon[\"Voting_Popularity\"].mean())"
   ]
  },
  {
   "cell_type": "code",
   "execution_count": 269,
   "id": "3a8573bd",
   "metadata": {},
   "outputs": [
    {
     "data": {
      "image/png": "[encoded data removed]",
      "text/plain": [
       "<Figure size 640x480 with 1 Axes>"
      ]
     },
     "metadata": {},
     "output_type": "display_data"
    }
   ],
   "source": [
    "\n",
    "# Example data\n",
    "labels = ['Top Zehn', 'Alle', 'Über Threshhold','Unter Threshhold']\n",
    "amazon_values = [top_ten_amazon[\"Voting_Popularity\"].mean(), combined_dataframe_amazon['Voting_Popularity'].mean(), amazon_top_titles['Voting_Popularity'].mean(), rest_of_titles_amazon['Voting_Popularity'].mean()]\n",
    "netflix_values = [top_ten_netflix[\"Voting_Popularity\"].mean(), combined_dataframe_netflix['Voting_Popularity'].mean(), netflix_top_titles['Voting_Popularity'].mean(), rest_of_titles_netflix['Voting_Popularity'].mean()]\n",
    "disney_values = [top_ten_disney[\"Voting_Popularity\"].mean(), combined_dataframe_disney['Voting_Popularity'].mean(), disney_top_titles['Voting_Popularity'].mean(), rest_of_titles_disney['Voting_Popularity'].mean()]\n",
    "\n",
    "bar_width = 0.2  # Width of each bar\n",
    "\n",
    "# Set up the positions for the bars\n",
    "positions_1 = np.arange(len(labels))\n",
    "positions_2 = positions_1 + bar_width\n",
    "positions_3 = positions_1 + 2 * bar_width\n",
    "\n",
    "# Create the bar chart\n",
    "plt.bar(positions_1, amazon_values, width=bar_width, label='Amazon')\n",
    "plt.bar(positions_2, netflix_values, width=bar_width, label='Netflix')\n",
    "plt.bar(positions_3, disney_values, width=bar_width, label='Disney')\n",
    "\n",
    "# Add labels and title\n",
    "plt.xlabel('Dataframes der Filme')\n",
    "plt.ylabel('Durchschnittswerte nach V_P')\n",
    "plt.title('Vergleich der unterschiedlichen Anbieter')\n",
    "plt.xticks(positions_1 + bar_width, labels)\n",
    "\n",
    "for i in range(len(positions_1)):\n",
    "    plt.text(positions_1[i], amazon_values[i] + 0.02, f'{amazon_values[i]:.2f}', ha='center', va='bottom', color='black', fontsize=8)\n",
    "    plt.text(positions_2[i], netflix_values[i] + 0.02, f'{netflix_values[i]:.2f}', ha='center', va='bottom', color='black', fontsize=8)\n",
    "    plt.text(positions_3[i], disney_values[i] + 0.02, f'{disney_values[i]:.2f}', ha='center', va='bottom', color='black', fontsize=8)\n",
    "\n",
    "# Add legend\n",
    "plt.legend()\n",
    "\n",
    "# Show the plot\n",
    "plt.show()"
   ]
  },
  {
   "cell_type": "code",
   "execution_count": null,
   "id": "6caef1b5",
   "metadata": {},
   "outputs": [],
   "source": []
  }
 ],
 "metadata": {
  "kernelspec": {
   "display_name": "Python 3 (ipykernel)",
   "language": "python",
   "name": "python3"
  },
  "language_info": {
   "codemirror_mode": {
    "name": "ipython",
    "version": 3
   },
   "file_extension": ".py",
   "mimetype": "text/x-python",
   "name": "python",
   "nbconvert_exporter": "python",
   "pygments_lexer": "ipython3",
   "version": "3.11.5"
  }
 },
 "nbformat": 4,
 "nbformat_minor": 5
}
