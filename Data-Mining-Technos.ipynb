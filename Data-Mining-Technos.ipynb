{
 "cells": [
  {
   "cell_type": "code",
   "execution_count": 730,
   "id": "5e55b200",
   "metadata": {},
   "outputs": [],
   "source": [
    "import numpy as np # linear algebra\n",
    "import pandas as pd # data processing\n",
    "import seaborn as sns # Plots\n",
    "import matplotlib.pyplot as plt # Plots"
   ]
  },
  {
   "cell_type": "code",
   "execution_count": 731,
   "id": "84b5826c",
   "metadata": {
    "scrolled": true
   },
   "outputs": [],
   "source": [
    "train_data = pd.read_csv('./mymoviedb.csv', engine='python')"
   ]
  },
  {
   "cell_type": "code",
   "execution_count": 732,
   "id": "0472eb9e",
   "metadata": {},
   "outputs": [],
   "source": [
    "netflix_data = pd.read_csv('./netflix_titles.csv', engine='python')"
   ]
  },
  {
   "cell_type": "code",
   "execution_count": 733,
   "id": "5183dab4",
   "metadata": {},
   "outputs": [
    {
     "name": "stdout",
     "output_type": "stream",
     "text": [
      "<class 'pandas.core.frame.DataFrame'>\n",
      "RangeIndex: 8807 entries, 0 to 8806\n",
      "Data columns (total 12 columns):\n",
      " #   Column        Non-Null Count  Dtype \n",
      "---  ------        --------------  ----- \n",
      " 0   show_id       8807 non-null   object\n",
      " 1   type          8807 non-null   object\n",
      " 2   title         8807 non-null   object\n",
      " 3   director      6173 non-null   object\n",
      " 4   cast          7982 non-null   object\n",
      " 5   country       7976 non-null   object\n",
      " 6   date_added    8797 non-null   object\n",
      " 7   release_year  8807 non-null   int64 \n",
      " 8   rating        8803 non-null   object\n",
      " 9   duration      8804 non-null   object\n",
      " 10  listed_in     8807 non-null   object\n",
      " 11  description   8807 non-null   object\n",
      "dtypes: int64(1), object(11)\n",
      "memory usage: 825.8+ KB\n"
     ]
    }
   ],
   "source": [
    "netflix_data.info()"
   ]
  },
  {
   "cell_type": "code",
   "execution_count": 735,
   "id": "2dab3252",
   "metadata": {},
   "outputs": [
    {
     "data": {
      "text/plain": [
       "(8807, 12)"
      ]
     },
     "execution_count": 735,
     "metadata": {},
     "output_type": "execute_result"
    }
   ],
   "source": [
    "netflix_data.shape"
   ]
  },
  {
   "cell_type": "code",
   "execution_count": 736,
   "id": "ea3b011f",
   "metadata": {},
   "outputs": [
    {
     "data": {
      "text/plain": [
       "(9837, 9)"
      ]
     },
     "execution_count": 736,
     "metadata": {},
     "output_type": "execute_result"
    }
   ],
   "source": [
    "train_data.shape"
   ]
  },
  {
   "cell_type": "code",
   "execution_count": 737,
   "id": "fe0682eb",
   "metadata": {},
   "outputs": [],
   "source": [
    "column_types = {'Title':'string', 'Overview':'string', 'Original_Language':'string'}\n",
    "\n",
    "train_data_clean = pd.read_csv('./mymoviedb.csv', engine='python', dtype=column_types)"
   ]
  },
  {
   "cell_type": "code",
   "execution_count": 738,
   "id": "462843ba",
   "metadata": {},
   "outputs": [],
   "source": [
    "column_types_netflix = {'title':'string','cast':'string','type':'string','listed_in':'string'}\n",
    "data_netflix_clean = pd.read_csv('./netflix_titles.csv', engine='python', dtype=column_types_netflix)"
   ]
  },
  {
   "cell_type": "code",
   "execution_count": 739,
   "id": "dffcdf6d",
   "metadata": {},
   "outputs": [],
   "source": [
    "data_netflix_clean = data_netflix_clean.drop(columns=['description', 'date_added', 'duration', 'country', 'show_id', 'director', 'rating'])\n",
    "data_netflix_clean = data_netflix_clean.dropna()"
   ]
  },
  {
   "cell_type": "code",
   "execution_count": 740,
   "id": "46875c2f",
   "metadata": {},
   "outputs": [],
   "source": [
    "train_data_clean = train_data_clean.drop(columns=['Poster_Url'])"
   ]
  },
  {
   "cell_type": "code",
   "execution_count": 741,
   "id": "dc63dd3d",
   "metadata": {},
   "outputs": [],
   "source": [
    "train_data_clean = train_data_clean.drop(columns=['Overview'])"
   ]
  },
  {
   "cell_type": "code",
   "execution_count": 742,
   "id": "7edda4ff",
   "metadata": {},
   "outputs": [],
   "source": [
    "train_data_clean = train_data_clean.dropna()"
   ]
  },
  {
   "cell_type": "code",
   "execution_count": 752,
   "id": "10e6adad",
   "metadata": {},
   "outputs": [],
   "source": [
    "data_netflix_clean['release_year'] = pd.to_datetime(data_netflix_clean['release_year'], format='%Y')"
   ]
  },
  {
   "cell_type": "code",
   "execution_count": 753,
   "id": "a0b277da",
   "metadata": {},
   "outputs": [],
   "source": [
    "data_netflix_clean = data_netflix_clean[data_netflix_clean['type'] != 'TV Show']"
   ]
  },
  {
   "cell_type": "code",
   "execution_count": 754,
   "id": "c57b4439",
   "metadata": {},
   "outputs": [],
   "source": [
    "train_data_clean['Vote_Count'] = train_data_clean['Vote_Count'].astype(int)"
   ]
  },
  {
   "cell_type": "code",
   "execution_count": 755,
   "id": "74f258e0",
   "metadata": {},
   "outputs": [],
   "source": [
    "train_data_clean['Release_Date'] = pd.to_datetime(train_data_clean['Release_Date'])"
   ]
  },
  {
   "cell_type": "code",
   "execution_count": 756,
   "id": "bd37a35d",
   "metadata": {},
   "outputs": [],
   "source": [
    "train_data_clean['Vote_Average'] = train_data_clean['Vote_Average'].astype(float)"
   ]
  },
  {
   "cell_type": "code",
   "execution_count": 757,
   "id": "6b50e697",
   "metadata": {},
   "outputs": [],
   "source": [
    "train_data_clean['Genre'] = train_data_clean['Genre'].astype('string')"
   ]
  },
  {
   "cell_type": "code",
   "execution_count": 761,
   "id": "6983d8c4",
   "metadata": {},
   "outputs": [],
   "source": [
    "train_data_clean_numeric=train_data_clean.select_dtypes(include=['number'])"
   ]
  },
  {
   "cell_type": "markdown",
   "id": "7f8eabb3",
   "metadata": {},
   "source": [
    "# Welche Orignalsprache haben die Filme im Datensatz"
   ]
  },
  {
   "cell_type": "code",
   "execution_count": 763,
   "id": "4ddb03fc",
   "metadata": {
    "scrolled": false
   },
   "outputs": [
    {
     "data": {
      "text/plain": [
       "array(['ar', 'bn', 'ca', 'cn', 'cs', 'da', 'de', 'el', 'en', 'es', 'et',\n",
       "       'eu', 'fa', 'fi', 'fr', 'he', 'hi', 'hu', 'id', 'is', 'it', 'ja',\n",
       "       'ko', 'la', 'lv', 'ml', 'ms', 'nb', 'nl', 'no', 'pl', 'pt', 'ro',\n",
       "       'ru', 'sr', 'sv', 'ta', 'te', 'th', 'tl', 'tr', 'uk', 'zh'],\n",
       "      dtype=object)"
      ]
     },
     "execution_count": 763,
     "metadata": {},
     "output_type": "execute_result"
    }
   ],
   "source": [
    "np.unique(train_data_clean['Original_Language'])"
   ]
  },
  {
   "cell_type": "markdown",
   "id": "5019d5f6",
   "metadata": {},
   "source": [
    "# Die Sprachen\n",
    "    ## Die einzigartigen Originalsprachen in Ihrem DataFrame sind:\n",
    "\n",
    "1. Arabisch (ar)\n",
    "2. Bengalisch (bn)\n",
    "3. Katalanisch (ca)\n",
    "4. Chinesisch (cn)\n",
    "5. Tschechisch (cs)\n",
    "6. Dänisch (da)\n",
    "7. Deutsch (de)\n",
    "8. Griechisch (el)\n",
    "9. Englisch (en)\n",
    "10. Spanisch (es)\n",
    "11. Estnisch (et)\n",
    "12. Baskisch (eu)\n",
    "13. Persisch (fa)\n",
    "14. Finnisch (fi)\n",
    "15. Französisch (fr)\n",
    "16. Hebräisch (he)\n",
    "17. Hindi (hi)\n",
    "18. Ungarisch (hu)\n",
    "19. Indonesisch (id)\n",
    "20. Isländisch (is)\n",
    "21. Italienisch (it)\n",
    "22. Japanisch (ja)\n",
    "23. Koreanisch (ko)\n",
    "24. Latein (la)\n",
    "25. Lettisch (lv)\n",
    "26. Malayalam (ml)\n",
    "27. Malaiisch (ms)\n",
    "28. Norwegisch Bokmål (nb)\n",
    "29. Niederländisch (nl)\n",
    "30. Norwegisch (no)\n",
    "31. Polnisch (pl)\n",
    "32. Portugiesisch (pt)\n",
    "33. Rumänisch (ro)\n",
    "34. Russisch (ru)\n",
    "35. Serbisch (sr)\n",
    "36. Schwedisch (sv)\n",
    "37. Tamil (ta)\n",
    "38. Telugu (te)\n",
    "39. Thailändisch (th)\n",
    "40. Tagalog (tl)\n",
    "41. Türkisch (tr)\n",
    "42. Ukrainisch (uk)\n",
    "43. Chinesisch (zh)\n"
   ]
  },
  {
   "cell_type": "code",
   "execution_count": 765,
   "id": "2108dc46",
   "metadata": {},
   "outputs": [
    {
     "name": "stdout",
     "output_type": "stream",
     "text": [
      "Action: 136663\n",
      "Comedy: 114795\n",
      "Drama: 112622\n",
      "Thriller: 106822\n",
      "Adventure: 99560\n",
      "Animation: 75392\n",
      "Fantasy: 69425\n",
      "Family: 65918\n",
      "ScienceFiction: 63019\n",
      "Horror: 56248\n",
      "Crime: 55567\n",
      "Romance: 45583\n",
      "Mystery: 30995\n",
      "History: 12136\n",
      "War: 10871\n",
      "Music: 9968\n",
      "TVMovie: 6410\n",
      "Documentary: 6288\n",
      "Western: 4960\n"
     ]
    }
   ],
   "source": [
    "genre_popularity = {}\n",
    "\n",
    "# Durchlaufen Sie jede Zeile in Ihrem DataFrame\n",
    "for i, row in train_data_clean.iterrows():\n",
    "    # Split the 'Genre' string into a list of genres\n",
    "    genres = row['Genre'].replace(\" \", \"\").split(\",\")\n",
    "    # popularity in int casten\n",
    "    popularity = int(round(row[\"Popularity\"]))\n",
    "    \n",
    "    # Add the popularity of the current movie to each of its genres\n",
    "    for genre in genres:\n",
    "        if genre in genre_popularity:\n",
    "            genre_popularity[genre] += popularity\n",
    "        else:\n",
    "            genre_popularity[genre] = popularity\n",
    "\n",
    "# Sortieren Sie das Dictionary nach Popularität in absteigender Reihenfolge\n",
    "sorted_genres = sorted(genre_popularity.items(), key=lambda x: x[1], reverse=True)\n",
    "\n",
    "# Drucken Sie das sortierte Dictionary aus\n",
    "for genre, popularity in sorted_genres:\n",
    "    print(f\"{genre}: {popularity}\")"
   ]
  },
  {
   "cell_type": "code",
   "execution_count": 767,
   "id": "f2a9d197",
   "metadata": {},
   "outputs": [
    {
     "name": "stdout",
     "output_type": "stream",
     "text": [
      "Action: Spider-Man: No Way Home (5083.954)\n",
      "Adventure: Spider-Man: No Way Home (5083.954)\n",
      "Science Fiction: Spider-Man: No Way Home (5083.954)\n",
      "Crime: The Batman (3827.658)\n",
      "Mystery: The Batman (3827.658)\n",
      "Thriller: The Batman (3827.658)\n",
      "Animation: Encanto (2402.201)\n",
      "Comedy: Encanto (2402.201)\n",
      "Family: Encanto (2402.201)\n",
      "Fantasy: Encanto (2402.201)\n",
      "War: The King's Man (1895.511)\n",
      "Horror: Scream (1675.161)\n",
      "Drama: Nightmare Alley (1455.144)\n",
      "Music: Sing 2 (1112.9)\n",
      "Romance: Marry Me (761.793)\n",
      "Western: Tom and Jerry: Cowboy Up! (614.11)\n",
      "History: Chernobyl: Abyss (601.958)\n",
      "TV Movie: Laura y el misterio del asesino inesperado (266.754)\n",
      "Documentary: The Tinder Swindler (246.652)\n"
     ]
    }
   ],
   "source": [
    "# Erstellen Sie ein leeres Dictionary, um den beliebtesten Film jedes Genres zu speichern\n",
    "most_popular_movies = {}\n",
    "\n",
    "# Durchlaufen Sie jede Zeile in Ihrem DataFrame\n",
    "for i, row in train_data_clean.iterrows():\n",
    "    # Teilen Sie den 'Genre'-String in eine Liste von Genres auf\n",
    "    genres = row['Genre'].split(', ')\n",
    "    \n",
    "    # Überprüfen Sie für jedes Genre, ob der aktuelle Film beliebter ist als der bisher gespeicherte Film\n",
    "    for genre in genres:\n",
    "        if genre not in most_popular_movies or row['Popularity'] > most_popular_movies[genre]['Popularity']:\n",
    "            most_popular_movies[genre] = row\n",
    "\n",
    "# Drucken Sie den beliebtesten Film jedes Genres aus\n",
    "for genre, movie in most_popular_movies.items():\n",
    "    print(f\"{genre}: {movie['Title']} ({movie['Popularity']})\")"
   ]
  },
  {
   "cell_type": "code",
   "execution_count": 771,
   "id": "6d75ed7c",
   "metadata": {},
   "outputs": [],
   "source": [
    "netflix_common_titles = pd.merge(data_netflix_clean, train_data_clean, how='inner', left_on='title', right_on='Title')\n",
    "netflix_common_titles = netflix_common_titles[['title', 'type', 'cast', 'release_year', 'listed_in', 'Popularity', 'Vote_Count', 'Vote_Average', 'Original_Language', 'Genre']]"
   ]
  },
  {
   "cell_type": "code",
   "execution_count": 777,
   "id": "2ea6497a",
   "metadata": {},
   "outputs": [
    {
     "name": "stdout",
     "output_type": "stream",
     "text": [
      "Number of rows and columns in the filtered DataFrame: (360, 10)\n",
      "Max Value:  402.273\n",
      "Threshhold:  40.22730000000001\n",
      "Number of rows and columns in the combined DataFrame: (1624, 11)\n"
     ]
    }
   ],
   "source": [
    "# Assuming netflix_common_titles is your original DataFrame\n",
    "\n",
    "# Getting top values based on 10% of the highest Popularity value\n",
    "threshold_value = netflix_common_titles['Popularity'].max() * 0.1\n",
    "\n",
    "# Filter the DataFrame based on the threshold\n",
    "netflix_top_titles = netflix_common_titles[netflix_common_titles['Popularity'] > threshold_value]\n",
    "\n",
    "# Display the number of rows and columns in the filtered DataFrame\n",
    "print(\"Number of rows and columns in the filtered DataFrame:\", netflix_top_titles.shape)\n",
    "print(\"Max Value: \",netflix_top_titles['Popularity'].max())\n",
    "print(\"Threshhold: \",threshold_value)\n",
    "\n",
    "# Normalizing top titles to fit Vote_Average Scale\n",
    "normalized_top_popularity = (netflix_top_titles['Popularity'] / netflix_top_titles['Popularity'].max()) * 10\n",
    "\n",
    "# Value of popularity and Vote_Average combined\n",
    "combined_rating = (normalized_top_popularity + netflix_top_titles['Vote_Average']) / 2\n",
    "\n",
    "# Assigning a new column 'Voting_Popularity'\n",
    "netflix_top_titles = netflix_top_titles.assign(Voting_Popularity=combined_rating)\n",
    "\n",
    "# Creating a DataFrame with the rest of the titles\n",
    "rest_of_titles = netflix_common_titles[~netflix_common_titles.index.isin(netflix_top_titles.index)]\n",
    "\n",
    "# Normalizing rest of titles to fit Vote_Average Scale\n",
    "normalized_rest_popularity = (rest_of_titles['Popularity'] / rest_of_titles['Popularity'].max()) * 10\n",
    "\n",
    "# Value of popularity and Vote_Average combined for the rest of titles\n",
    "combined_rest_rating = (normalized_rest_popularity + rest_of_titles['Vote_Average']) / 2\n",
    "\n",
    "# Assigning a new column 'Voting_Popularity' for the rest of titles\n",
    "rest_of_titles = rest_of_titles.assign(Voting_Popularity=combined_rest_rating)\n",
    "\n",
    "# Concatenating the two DataFrames\n",
    "combined_dataframe = pd.concat([netflix_top_titles, rest_of_titles])\n",
    "\n",
    "# Display the combined DataFrame\n",
    "print(\"Number of rows and columns in the combined DataFrame:\", combined_dataframe.shape)\n"
   ]
  },
  {
   "cell_type": "code",
   "execution_count": 778,
   "id": "efae9a52",
   "metadata": {},
   "outputs": [],
   "source": [
    "#sortiert dataframe nach Voting_Popularity in absteigender Reihnfolge\n",
    "netflix_top_titles = netflix_top_titles.sort_values(by='Voting_Popularity', ascending=False)\n",
    "rest_of_titles = rest_of_titles.sort_values(by='Voting_Popularity', ascending=False)\n",
    "combined_dataframe = combined_dataframe.sort_values(by='Voting_Popularity', ascending=False)"
   ]
  },
  {
   "cell_type": "code",
   "execution_count": 781,
   "id": "156a69f1",
   "metadata": {},
   "outputs": [],
   "source": [
    "#getting top values based on 10% of highest Popularity value\n",
    "#threshold_value = netflix_common_titles['Popularity'].max()*0.1\n",
    "\n",
    "# Filter the DataFrame based on the threshold\n",
    "#netflix_top_titles = netflix_common_titles[netflix_common_titles['Popularity'] > threshold_value]\n",
    "\n",
    "# Display the filtered DataFrame\n",
    "#netflix_top_titles.shape"
   ]
  },
  {
   "cell_type": "code",
   "execution_count": 782,
   "id": "aa6213a3",
   "metadata": {},
   "outputs": [],
   "source": [
    "#normalizing top titles to fit Vote_Avarage Scale\n",
    "#normalized_top_popularity = (netflix_top_titles['Popularity'] / netflix_top_titles['Popularity'].max()) * 10\n",
    "#value of popularity and Vote_Average combined\n",
    "#combined_rating = (normalized_top_popularity + netflix_top_titles['Vote_Average']) / 2\n",
    "#assigning new column Voting popularity to \n",
    "#netflix_top_titles = netflix_top_titles.assign(Voting_Popularity=combined_rating)\n"
   ]
  },
  {
   "cell_type": "code",
   "execution_count": 789,
   "id": "6405438c",
   "metadata": {},
   "outputs": [
    {
     "name": "stdout",
     "output_type": "stream",
     "text": [
      "5.593497427544499\n"
     ]
    }
   ],
   "source": [
    "print(combined_dataframe['Voting_Popularity'].mean())"
   ]
  }
 ],
 "metadata": {
  "kernelspec": {
   "display_name": "Python 3 (ipykernel)",
   "language": "python",
   "name": "python3"
  },
  "language_info": {
   "codemirror_mode": {
    "name": "ipython",
    "version": 3
   },
   "file_extension": ".py",
   "mimetype": "text/x-python",
   "name": "python",
   "nbconvert_exporter": "python",
   "pygments_lexer": "ipython3",
   "version": "3.11.5"
  }
 },
 "nbformat": 4,
 "nbformat_minor": 5
}
