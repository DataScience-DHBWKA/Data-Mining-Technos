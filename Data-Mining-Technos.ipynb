{
 "cells": [
  {
   "cell_type": "code",
   "execution_count": 727,
   "id": "5e55b200",
   "metadata": {},
   "outputs": [],
   "source": [
    "import numpy as np # linear algebra\n",
    "import pandas as pd # data processing\n",
    "import seaborn as sns # Plots\n",
    "import matplotlib.pyplot as plt # Plots"
   ]
  },
  {
   "cell_type": "code",
   "execution_count": 728,
   "id": "84b5826c",
   "metadata": {
    "scrolled": true
   },
   "outputs": [],
   "source": [
    "train_data = pd.read_csv('./mymoviedb.csv', engine='python')"
   ]
  },
  {
   "cell_type": "code",
   "execution_count": 729,
   "id": "f7052e5f",
   "metadata": {},
   "outputs": [
    {
     "ename": "FileNotFoundError",
     "evalue": "[Errno 2] No such file or directory: './netflix_titles.csv'",
     "output_type": "error",
     "traceback": [
      "\u001b[1;31m---------------------------------------------------------------------------\u001b[0m",
      "\u001b[1;31mFileNotFoundError\u001b[0m                         Traceback (most recent call last)",
      "Cell \u001b[1;32mIn[729], line 1\u001b[0m\n\u001b[1;32m----> 1\u001b[0m netflix_data \u001b[38;5;241m=\u001b[39m pd\u001b[38;5;241m.\u001b[39mread_csv(\u001b[38;5;124m'\u001b[39m\u001b[38;5;124m./netflix_titles.csv\u001b[39m\u001b[38;5;124m'\u001b[39m, engine\u001b[38;5;241m=\u001b[39m\u001b[38;5;124m'\u001b[39m\u001b[38;5;124mpython\u001b[39m\u001b[38;5;124m'\u001b[39m)\n",
      "File \u001b[1;32m~\\anaconda3\\Lib\\site-packages\\pandas\\io\\parsers\\readers.py:912\u001b[0m, in \u001b[0;36mread_csv\u001b[1;34m(filepath_or_buffer, sep, delimiter, header, names, index_col, usecols, dtype, engine, converters, true_values, false_values, skipinitialspace, skiprows, skipfooter, nrows, na_values, keep_default_na, na_filter, verbose, skip_blank_lines, parse_dates, infer_datetime_format, keep_date_col, date_parser, date_format, dayfirst, cache_dates, iterator, chunksize, compression, thousands, decimal, lineterminator, quotechar, quoting, doublequote, escapechar, comment, encoding, encoding_errors, dialect, on_bad_lines, delim_whitespace, low_memory, memory_map, float_precision, storage_options, dtype_backend)\u001b[0m\n\u001b[0;32m    899\u001b[0m kwds_defaults \u001b[38;5;241m=\u001b[39m _refine_defaults_read(\n\u001b[0;32m    900\u001b[0m     dialect,\n\u001b[0;32m    901\u001b[0m     delimiter,\n\u001b[1;32m   (...)\u001b[0m\n\u001b[0;32m    908\u001b[0m     dtype_backend\u001b[38;5;241m=\u001b[39mdtype_backend,\n\u001b[0;32m    909\u001b[0m )\n\u001b[0;32m    910\u001b[0m kwds\u001b[38;5;241m.\u001b[39mupdate(kwds_defaults)\n\u001b[1;32m--> 912\u001b[0m \u001b[38;5;28;01mreturn\u001b[39;00m _read(filepath_or_buffer, kwds)\n",
      "File \u001b[1;32m~\\anaconda3\\Lib\\site-packages\\pandas\\io\\parsers\\readers.py:577\u001b[0m, in \u001b[0;36m_read\u001b[1;34m(filepath_or_buffer, kwds)\u001b[0m\n\u001b[0;32m    574\u001b[0m _validate_names(kwds\u001b[38;5;241m.\u001b[39mget(\u001b[38;5;124m\"\u001b[39m\u001b[38;5;124mnames\u001b[39m\u001b[38;5;124m\"\u001b[39m, \u001b[38;5;28;01mNone\u001b[39;00m))\n\u001b[0;32m    576\u001b[0m \u001b[38;5;66;03m# Create the parser.\u001b[39;00m\n\u001b[1;32m--> 577\u001b[0m parser \u001b[38;5;241m=\u001b[39m TextFileReader(filepath_or_buffer, \u001b[38;5;241m*\u001b[39m\u001b[38;5;241m*\u001b[39mkwds)\n\u001b[0;32m    579\u001b[0m \u001b[38;5;28;01mif\u001b[39;00m chunksize \u001b[38;5;129;01mor\u001b[39;00m iterator:\n\u001b[0;32m    580\u001b[0m     \u001b[38;5;28;01mreturn\u001b[39;00m parser\n",
      "File \u001b[1;32m~\\anaconda3\\Lib\\site-packages\\pandas\\io\\parsers\\readers.py:1407\u001b[0m, in \u001b[0;36mTextFileReader.__init__\u001b[1;34m(self, f, engine, **kwds)\u001b[0m\n\u001b[0;32m   1404\u001b[0m     \u001b[38;5;28mself\u001b[39m\u001b[38;5;241m.\u001b[39moptions[\u001b[38;5;124m\"\u001b[39m\u001b[38;5;124mhas_index_names\u001b[39m\u001b[38;5;124m\"\u001b[39m] \u001b[38;5;241m=\u001b[39m kwds[\u001b[38;5;124m\"\u001b[39m\u001b[38;5;124mhas_index_names\u001b[39m\u001b[38;5;124m\"\u001b[39m]\n\u001b[0;32m   1406\u001b[0m \u001b[38;5;28mself\u001b[39m\u001b[38;5;241m.\u001b[39mhandles: IOHandles \u001b[38;5;241m|\u001b[39m \u001b[38;5;28;01mNone\u001b[39;00m \u001b[38;5;241m=\u001b[39m \u001b[38;5;28;01mNone\u001b[39;00m\n\u001b[1;32m-> 1407\u001b[0m \u001b[38;5;28mself\u001b[39m\u001b[38;5;241m.\u001b[39m_engine \u001b[38;5;241m=\u001b[39m \u001b[38;5;28mself\u001b[39m\u001b[38;5;241m.\u001b[39m_make_engine(f, \u001b[38;5;28mself\u001b[39m\u001b[38;5;241m.\u001b[39mengine)\n",
      "File \u001b[1;32m~\\anaconda3\\Lib\\site-packages\\pandas\\io\\parsers\\readers.py:1661\u001b[0m, in \u001b[0;36mTextFileReader._make_engine\u001b[1;34m(self, f, engine)\u001b[0m\n\u001b[0;32m   1659\u001b[0m     \u001b[38;5;28;01mif\u001b[39;00m \u001b[38;5;124m\"\u001b[39m\u001b[38;5;124mb\u001b[39m\u001b[38;5;124m\"\u001b[39m \u001b[38;5;129;01mnot\u001b[39;00m \u001b[38;5;129;01min\u001b[39;00m mode:\n\u001b[0;32m   1660\u001b[0m         mode \u001b[38;5;241m+\u001b[39m\u001b[38;5;241m=\u001b[39m \u001b[38;5;124m\"\u001b[39m\u001b[38;5;124mb\u001b[39m\u001b[38;5;124m\"\u001b[39m\n\u001b[1;32m-> 1661\u001b[0m \u001b[38;5;28mself\u001b[39m\u001b[38;5;241m.\u001b[39mhandles \u001b[38;5;241m=\u001b[39m get_handle(\n\u001b[0;32m   1662\u001b[0m     f,\n\u001b[0;32m   1663\u001b[0m     mode,\n\u001b[0;32m   1664\u001b[0m     encoding\u001b[38;5;241m=\u001b[39m\u001b[38;5;28mself\u001b[39m\u001b[38;5;241m.\u001b[39moptions\u001b[38;5;241m.\u001b[39mget(\u001b[38;5;124m\"\u001b[39m\u001b[38;5;124mencoding\u001b[39m\u001b[38;5;124m\"\u001b[39m, \u001b[38;5;28;01mNone\u001b[39;00m),\n\u001b[0;32m   1665\u001b[0m     compression\u001b[38;5;241m=\u001b[39m\u001b[38;5;28mself\u001b[39m\u001b[38;5;241m.\u001b[39moptions\u001b[38;5;241m.\u001b[39mget(\u001b[38;5;124m\"\u001b[39m\u001b[38;5;124mcompression\u001b[39m\u001b[38;5;124m\"\u001b[39m, \u001b[38;5;28;01mNone\u001b[39;00m),\n\u001b[0;32m   1666\u001b[0m     memory_map\u001b[38;5;241m=\u001b[39m\u001b[38;5;28mself\u001b[39m\u001b[38;5;241m.\u001b[39moptions\u001b[38;5;241m.\u001b[39mget(\u001b[38;5;124m\"\u001b[39m\u001b[38;5;124mmemory_map\u001b[39m\u001b[38;5;124m\"\u001b[39m, \u001b[38;5;28;01mFalse\u001b[39;00m),\n\u001b[0;32m   1667\u001b[0m     is_text\u001b[38;5;241m=\u001b[39mis_text,\n\u001b[0;32m   1668\u001b[0m     errors\u001b[38;5;241m=\u001b[39m\u001b[38;5;28mself\u001b[39m\u001b[38;5;241m.\u001b[39moptions\u001b[38;5;241m.\u001b[39mget(\u001b[38;5;124m\"\u001b[39m\u001b[38;5;124mencoding_errors\u001b[39m\u001b[38;5;124m\"\u001b[39m, \u001b[38;5;124m\"\u001b[39m\u001b[38;5;124mstrict\u001b[39m\u001b[38;5;124m\"\u001b[39m),\n\u001b[0;32m   1669\u001b[0m     storage_options\u001b[38;5;241m=\u001b[39m\u001b[38;5;28mself\u001b[39m\u001b[38;5;241m.\u001b[39moptions\u001b[38;5;241m.\u001b[39mget(\u001b[38;5;124m\"\u001b[39m\u001b[38;5;124mstorage_options\u001b[39m\u001b[38;5;124m\"\u001b[39m, \u001b[38;5;28;01mNone\u001b[39;00m),\n\u001b[0;32m   1670\u001b[0m )\n\u001b[0;32m   1671\u001b[0m \u001b[38;5;28;01massert\u001b[39;00m \u001b[38;5;28mself\u001b[39m\u001b[38;5;241m.\u001b[39mhandles \u001b[38;5;129;01mis\u001b[39;00m \u001b[38;5;129;01mnot\u001b[39;00m \u001b[38;5;28;01mNone\u001b[39;00m\n\u001b[0;32m   1672\u001b[0m f \u001b[38;5;241m=\u001b[39m \u001b[38;5;28mself\u001b[39m\u001b[38;5;241m.\u001b[39mhandles\u001b[38;5;241m.\u001b[39mhandle\n",
      "File \u001b[1;32m~\\anaconda3\\Lib\\site-packages\\pandas\\io\\common.py:859\u001b[0m, in \u001b[0;36mget_handle\u001b[1;34m(path_or_buf, mode, encoding, compression, memory_map, is_text, errors, storage_options)\u001b[0m\n\u001b[0;32m    854\u001b[0m \u001b[38;5;28;01melif\u001b[39;00m \u001b[38;5;28misinstance\u001b[39m(handle, \u001b[38;5;28mstr\u001b[39m):\n\u001b[0;32m    855\u001b[0m     \u001b[38;5;66;03m# Check whether the filename is to be opened in binary mode.\u001b[39;00m\n\u001b[0;32m    856\u001b[0m     \u001b[38;5;66;03m# Binary mode does not support 'encoding' and 'newline'.\u001b[39;00m\n\u001b[0;32m    857\u001b[0m     \u001b[38;5;28;01mif\u001b[39;00m ioargs\u001b[38;5;241m.\u001b[39mencoding \u001b[38;5;129;01mand\u001b[39;00m \u001b[38;5;124m\"\u001b[39m\u001b[38;5;124mb\u001b[39m\u001b[38;5;124m\"\u001b[39m \u001b[38;5;129;01mnot\u001b[39;00m \u001b[38;5;129;01min\u001b[39;00m ioargs\u001b[38;5;241m.\u001b[39mmode:\n\u001b[0;32m    858\u001b[0m         \u001b[38;5;66;03m# Encoding\u001b[39;00m\n\u001b[1;32m--> 859\u001b[0m         handle \u001b[38;5;241m=\u001b[39m \u001b[38;5;28mopen\u001b[39m(\n\u001b[0;32m    860\u001b[0m             handle,\n\u001b[0;32m    861\u001b[0m             ioargs\u001b[38;5;241m.\u001b[39mmode,\n\u001b[0;32m    862\u001b[0m             encoding\u001b[38;5;241m=\u001b[39mioargs\u001b[38;5;241m.\u001b[39mencoding,\n\u001b[0;32m    863\u001b[0m             errors\u001b[38;5;241m=\u001b[39merrors,\n\u001b[0;32m    864\u001b[0m             newline\u001b[38;5;241m=\u001b[39m\u001b[38;5;124m\"\u001b[39m\u001b[38;5;124m\"\u001b[39m,\n\u001b[0;32m    865\u001b[0m         )\n\u001b[0;32m    866\u001b[0m     \u001b[38;5;28;01melse\u001b[39;00m:\n\u001b[0;32m    867\u001b[0m         \u001b[38;5;66;03m# Binary mode\u001b[39;00m\n\u001b[0;32m    868\u001b[0m         handle \u001b[38;5;241m=\u001b[39m \u001b[38;5;28mopen\u001b[39m(handle, ioargs\u001b[38;5;241m.\u001b[39mmode)\n",
      "\u001b[1;31mFileNotFoundError\u001b[0m: [Errno 2] No such file or directory: './netflix_titles.csv'"
     ]
    }
   ],
   "source": [
    "netflix_data = pd.read_csv('./netflix_titles.csv', engine='python')"
   ]
  },
  {
   "cell_type": "code",
   "execution_count": null,
   "id": "e8f991ca",
   "metadata": {},
   "outputs": [],
   "source": [
    "netflix_data.info()"
   ]
  },
  {
   "cell_type": "code",
   "execution_count": null,
   "id": "135ff889",
   "metadata": {
    "scrolled": false
   },
   "outputs": [],
   "source": [
    "train_data.info()"
   ]
  },
  {
   "cell_type": "code",
   "execution_count": null,
   "id": "0d75bb56",
   "metadata": {},
   "outputs": [],
   "source": [
    "netflix_data.shape"
   ]
  },
  {
   "cell_type": "code",
   "execution_count": null,
   "id": "ea3b011f",
   "metadata": {},
   "outputs": [],
   "source": [
    "train_data.shape"
   ]
  },
  {
   "cell_type": "code",
   "execution_count": null,
   "id": "fe0682eb",
   "metadata": {},
   "outputs": [],
   "source": [
    "column_types = {'Title':'string', 'Overview':'string', 'Original_Language':'string'}\n",
    "\n",
    "train_data_clean = pd.read_csv('./mymoviedb.csv', engine='python', dtype=column_types)"
   ]
  },
  {
   "cell_type": "code",
   "execution_count": null,
   "id": "eaa0ba8b",
   "metadata": {},
   "outputs": [],
   "source": [
    "column_types_netflix = {'title':'string','cast':'string','type':'string','listed_in':'string'}\n",
    "data_netflix_clean = pd.read_csv('./netflix_titles.csv', engine='python', dtype=column_types_netflix)"
   ]
  },
  {
   "cell_type": "code",
   "execution_count": null,
   "id": "174649aa",
   "metadata": {},
   "outputs": [],
   "source": [
    "data_netflix_clean = data_netflix_clean.drop(columns=['description', 'date_added', 'duration', 'country', 'show_id', 'director', 'rating'])\n",
    "data_netflix_clean = data_netflix_clean.dropna()"
   ]
  },
  {
   "cell_type": "code",
   "execution_count": null,
   "id": "46875c2f",
   "metadata": {},
   "outputs": [],
   "source": [
    "train_data_clean = train_data_clean.drop(columns=['Poster_Url'])"
   ]
  },
  {
   "cell_type": "code",
   "execution_count": null,
   "id": "dc63dd3d",
   "metadata": {},
   "outputs": [],
   "source": [
    "train_data_clean = train_data_clean.drop(columns=['Overview'])"
   ]
  },
  {
   "cell_type": "code",
   "execution_count": null,
   "id": "7edda4ff",
   "metadata": {},
   "outputs": [],
   "source": [
    "train_data_clean = train_data_clean.dropna()"
   ]
  },
  {
   "cell_type": "code",
   "execution_count": null,
   "id": "4e4e6ba6",
   "metadata": {
    "scrolled": false
   },
   "outputs": [],
   "source": [
    "train_data_clean.head()"
   ]
  },
  {
   "cell_type": "code",
   "execution_count": null,
   "id": "9813e618",
   "metadata": {},
   "outputs": [],
   "source": [
    "data_netflix_clean.head()"
   ]
  },
  {
   "cell_type": "markdown",
   "id": "6ccc22e5",
   "metadata": {},
   "source": [
    "# Output Variable\n",
    "    Genre\n",
    "# Inputvariable\n",
    "    Rest"
   ]
  },
  {
   "cell_type": "code",
   "execution_count": null,
   "id": "f82d3d84",
   "metadata": {},
   "outputs": [],
   "source": [
    "train_data_clean.shape"
   ]
  },
  {
   "cell_type": "code",
   "execution_count": null,
   "id": "45da832e",
   "metadata": {},
   "outputs": [],
   "source": [
    "data_netflix_clean.shape"
   ]
  },
  {
   "cell_type": "code",
   "execution_count": null,
   "id": "ebf6949c",
   "metadata": {
    "scrolled": true
   },
   "outputs": [],
   "source": [
    "print(train_data.isnull().sum())"
   ]
  },
  {
   "cell_type": "code",
   "execution_count": null,
   "id": "1a143f3c",
   "metadata": {},
   "outputs": [],
   "source": [
    "print(train_data_clean.isnull().sum())"
   ]
  },
  {
   "cell_type": "code",
   "execution_count": null,
   "id": "4a8f39e9",
   "metadata": {},
   "outputs": [],
   "source": [
    "print(data_netflix_clean.isnull().sum())"
   ]
  },
  {
   "cell_type": "code",
   "execution_count": null,
   "id": "728952ec",
   "metadata": {
    "scrolled": false
   },
   "outputs": [],
   "source": [
    "train_data.describe(include='all')"
   ]
  },
  {
   "cell_type": "code",
   "execution_count": null,
   "id": "7ade65a6",
   "metadata": {},
   "outputs": [],
   "source": [
    "train_data_clean.describe(include='all')"
   ]
  },
  {
   "cell_type": "code",
   "execution_count": null,
   "id": "0aec317b",
   "metadata": {},
   "outputs": [],
   "source": [
    "data_netflix_clean['release_year'] = pd.to_datetime(data_netflix_clean['release_year'], format='%Y')"
   ]
  },
  {
   "cell_type": "code",
   "execution_count": null,
   "id": "bc1b7853",
   "metadata": {},
   "outputs": [],
   "source": [
    "data_netflix_clean = data_netflix_clean[data_netflix_clean['type'] != 'TV Show']"
   ]
  },
  {
   "cell_type": "code",
   "execution_count": null,
   "id": "c57b4439",
   "metadata": {},
   "outputs": [],
   "source": [
    "train_data_clean['Vote_Count'] = train_data_clean['Vote_Count'].astype(int)"
   ]
  },
  {
   "cell_type": "code",
   "execution_count": null,
   "id": "74f258e0",
   "metadata": {},
   "outputs": [],
   "source": [
    "train_data_clean['Release_Date'] = pd.to_datetime(train_data_clean['Release_Date'])"
   ]
  },
  {
   "cell_type": "code",
   "execution_count": null,
   "id": "bd37a35d",
   "metadata": {},
   "outputs": [],
   "source": [
    "train_data_clean['Vote_Average'] = train_data_clean['Vote_Average'].astype(float)"
   ]
  },
  {
   "cell_type": "code",
   "execution_count": null,
   "id": "6b50e697",
   "metadata": {},
   "outputs": [],
   "source": [
    "train_data_clean['Genre'] = train_data_clean['Genre'].astype('string')"
   ]
  },
  {
   "cell_type": "code",
   "execution_count": null,
   "id": "93eb921d",
   "metadata": {},
   "outputs": [],
   "source": [
    "data_netflix_clean.head()"
   ]
  },
  {
   "cell_type": "code",
   "execution_count": null,
   "id": "829046e9",
   "metadata": {},
   "outputs": [],
   "source": [
    "train_data_clean.info()\n"
   ]
  },
  {
   "cell_type": "code",
   "execution_count": null,
   "id": "74dde2ea",
   "metadata": {},
   "outputs": [],
   "source": [
    "train_data_clean.describe()"
   ]
  },
  {
   "cell_type": "code",
   "execution_count": null,
   "id": "6983d8c4",
   "metadata": {},
   "outputs": [],
   "source": [
    "train_data_clean_numeric=train_data_clean.select_dtypes(include=['number'])"
   ]
  },
  {
   "cell_type": "code",
   "execution_count": null,
   "id": "67df5661",
   "metadata": {},
   "outputs": [],
   "source": [
    "train_data_clean_numeric.head()"
   ]
  },
  {
   "cell_type": "markdown",
   "id": "7f8eabb3",
   "metadata": {},
   "source": [
    "# Welche Orignalsprache haben die Filme im Datensatz"
   ]
  },
  {
   "cell_type": "code",
   "execution_count": null,
   "id": "4ddb03fc",
   "metadata": {
    "scrolled": false
   },
   "outputs": [],
   "source": [
    "np.unique(train_data_clean['Original_Language'])"
   ]
  },
  {
   "cell_type": "markdown",
   "id": "5019d5f6",
   "metadata": {},
   "source": [
    "# Die Sprachen\n",
    "    ## Die einzigartigen Originalsprachen in Ihrem DataFrame sind:\n",
    "\n",
    "1. Arabisch (ar)\n",
    "2. Bengalisch (bn)\n",
    "3. Katalanisch (ca)\n",
    "4. Chinesisch (cn)\n",
    "5. Tschechisch (cs)\n",
    "6. Dänisch (da)\n",
    "7. Deutsch (de)\n",
    "8. Griechisch (el)\n",
    "9. Englisch (en)\n",
    "10. Spanisch (es)\n",
    "11. Estnisch (et)\n",
    "12. Baskisch (eu)\n",
    "13. Persisch (fa)\n",
    "14. Finnisch (fi)\n",
    "15. Französisch (fr)\n",
    "16. Hebräisch (he)\n",
    "17. Hindi (hi)\n",
    "18. Ungarisch (hu)\n",
    "19. Indonesisch (id)\n",
    "20. Isländisch (is)\n",
    "21. Italienisch (it)\n",
    "22. Japanisch (ja)\n",
    "23. Koreanisch (ko)\n",
    "24. Latein (la)\n",
    "25. Lettisch (lv)\n",
    "26. Malayalam (ml)\n",
    "27. Malaiisch (ms)\n",
    "28. Norwegisch Bokmål (nb)\n",
    "29. Niederländisch (nl)\n",
    "30. Norwegisch (no)\n",
    "31. Polnisch (pl)\n",
    "32. Portugiesisch (pt)\n",
    "33. Rumänisch (ro)\n",
    "34. Russisch (ru)\n",
    "35. Serbisch (sr)\n",
    "36. Schwedisch (sv)\n",
    "37. Tamil (ta)\n",
    "38. Telugu (te)\n",
    "39. Thailändisch (th)\n",
    "40. Tagalog (tl)\n",
    "41. Türkisch (tr)\n",
    "42. Ukrainisch (uk)\n",
    "43. Chinesisch (zh)\n"
   ]
  },
  {
   "cell_type": "markdown",
   "id": "bc016585",
   "metadata": {},
   "source": [
    "# % der Sprachen im Datensatz"
   ]
  },
  {
   "cell_type": "code",
   "execution_count": null,
   "id": "3ace85ff",
   "metadata": {
    "scrolled": false
   },
   "outputs": [],
   "source": [
    "language_counts = train_data_clean['Original_Language'].value_counts()\n",
    "percentage = (language_counts / train_data_clean['Original_Language'].size) * 100\n",
    "print(percentage)"
   ]
  },
  {
   "cell_type": "markdown",
   "id": "b1330715",
   "metadata": {},
   "source": [
    "# Genres aufgeteilt und Popularity addiert \n",
    "## z.B. Action ist das beliebteste Genre mit Popularity "
   ]
  },
  {
   "cell_type": "code",
   "execution_count": null,
   "id": "2108dc46",
   "metadata": {},
   "outputs": [],
   "source": [
    "genre_popularity = {}\n",
    "\n",
    "# Durchlaufen Sie jede Zeile in Ihrem DataFrame\n",
    "for i, row in train_data_clean.iterrows():\n",
    "    # Split the 'Genre' string into a list of genres\n",
    "    genres = row['Genre'].replace(\" \", \"\").split(\",\")\n",
    "    # popularity in int casten\n",
    "    popularity = int(round(row[\"Popularity\"]))\n",
    "    \n",
    "    # Add the popularity of the current movie to each of its genres\n",
    "    for genre in genres:\n",
    "        if genre in genre_popularity:\n",
    "            genre_popularity[genre] += popularity\n",
    "        else:\n",
    "            genre_popularity[genre] = popularity\n",
    "\n",
    "# Sortieren Sie das Dictionary nach Popularität in absteigender Reihenfolge\n",
    "sorted_genres = sorted(genre_popularity.items(), key=lambda x: x[1], reverse=True)\n",
    "\n",
    "# Drucken Sie das sortierte Dictionary aus\n",
    "for genre, popularity in sorted_genres:\n",
    "    print(f\"{genre}: {popularity}\")"
   ]
  },
  {
   "cell_type": "markdown",
   "id": "9f2798a4",
   "metadata": {},
   "source": [
    "# durchschnittliche Beliebtheit für jedes Genre python"
   ]
  },
  {
   "cell_type": "code",
   "execution_count": null,
   "id": "c0c58899",
   "metadata": {},
   "outputs": [],
   "source": [
    "# Erstellen Sie ein leeres Dictionary, um die Gesamtpopularität und die Anzahl der Filme für jedes Genre zu speichern\n",
    "genre_popularity = {}\n",
    "genre_counts = {}\n",
    "\n",
    "# Durchlaufen Sie jede Zeile in Ihrem DataFrame\n",
    "for i, row in train_data_clean.iterrows():\n",
    "    # Teilen Sie den 'Genre'-String in eine Liste von Genres auf\n",
    "    genres = row['Genre'].split(', ')\n",
    "    \n",
    "    # Fügen Sie die Beliebtheit des aktuellen Films zu jedem seiner Genres hinzu und zählen Sie die Anzahl der Filme\n",
    "    for genre in genres:\n",
    "        if genre in genre_popularity:\n",
    "            genre_popularity[genre] += row['Popularity']\n",
    "            genre_counts[genre] += 1\n",
    "        else:\n",
    "            genre_popularity[genre] = row['Popularity']\n",
    "            genre_counts[genre] = 1\n",
    "\n",
    "# Berechnen Sie die durchschnittliche Beliebtheit für jedes Genre\n",
    "average_popularity = {genre: genre_popularity[genre] / genre_counts[genre] for genre in genre_popularity}\n",
    "\n",
    "# Sortieren Sie das Dictionary nach durchschnittlicher Beliebtheit in absteigender Reihenfolge\n",
    "sorted_genres = sorted(average_popularity.items(), key=lambda x: x[1], reverse=True)\n",
    "\n",
    "# Drucken Sie das sortierte Dictionary aus\n",
    "for genre, popularity in sorted_genres:\n",
    "    print(f\"{genre}: {popularity}\")"
   ]
  },
  {
   "cell_type": "markdown",
   "id": "5348fc67",
   "metadata": {},
   "source": [
    "### Die Frage “Was schaut die Welt am liebsten?” bezieht sich in der Regel auf das Genre, das die meisten Zuschauer oder die höchste Gesamtpopularität hat. Es geht darum, welches Genre insgesamt am meisten gesehen wird.\n",
    "\n",
    "### Die “durchschnittliche Beliebtheit” eines Genres hingegen bezieht sich auf die durchschnittliche Beliebtheit der Filme innerhalb dieses Genres. Es ist möglich, dass ein Genre nur wenige, aber sehr beliebte Filme hat und daher eine hohe durchschnittliche Beliebtheit hat. Es ist aber auch möglich, dass ein Genre viele Filme hat, die nicht so beliebt sind, und daher eine niedrigere durchschnittliche Beliebtheit hat, obwohl es insgesamt mehr gesehen wird."
   ]
  },
  {
   "cell_type": "markdown",
   "id": "c89b1055",
   "metadata": {},
   "source": [
    "#  beliebtester film von jedem genre"
   ]
  },
  {
   "cell_type": "code",
   "execution_count": null,
   "id": "f2a9d197",
   "metadata": {},
   "outputs": [],
   "source": [
    "# Erstellen Sie ein leeres Dictionary, um den beliebtesten Film jedes Genres zu speichern\n",
    "most_popular_movies = {}\n",
    "\n",
    "# Durchlaufen Sie jede Zeile in Ihrem DataFrame\n",
    "for i, row in train_data_clean.iterrows():\n",
    "    # Teilen Sie den 'Genre'-String in eine Liste von Genres auf\n",
    "    genres = row['Genre'].split(', ')\n",
    "    \n",
    "    # Überprüfen Sie für jedes Genre, ob der aktuelle Film beliebter ist als der bisher gespeicherte Film\n",
    "    for genre in genres:\n",
    "        if genre not in most_popular_movies or row['Popularity'] > most_popular_movies[genre]['Popularity']:\n",
    "            most_popular_movies[genre] = row\n",
    "\n",
    "# Drucken Sie den beliebtesten Film jedes Genres aus\n",
    "for genre, movie in most_popular_movies.items():\n",
    "    print(f\"{genre}: {movie['Title']} ({movie['Popularity']})\")"
   ]
  },
  {
   "cell_type": "markdown",
   "id": "5dc943ea",
   "metadata": {},
   "source": [
    "# Beziehung zwischen Beliebtheit und Bewertung"
   ]
  },
  {
   "cell_type": "code",
   "execution_count": null,
   "id": "7f5b2a2c",
   "metadata": {},
   "outputs": [],
   "source": [
    "import matplotlib.pyplot as plt\n",
    "\n",
    "# Erstellen Sie das Streudiagramm\n",
    "sns.scatterplot(x='Popularity', y='Vote_Average', data=train_data_clean, color='blue')\n",
    "\n",
    "# Fügen Sie Titel und Achsenbeschriftungen hinzu\n",
    "plt.title('Beziehung zwischen Beliebtheit und Bewertung')\n",
    "plt.xlabel('Beliebtheit')\n",
    "plt.ylabel('Bewertung')\n",
    "\n",
    "# Zeigen Sie das Diagramm an\n",
    "plt.show()"
   ]
  },
  {
   "cell_type": "markdown",
   "id": "f8e121a9",
   "metadata": {},
   "source": [
    "# Beliebtheit im Laufe der Zeit"
   ]
  },
  {
   "cell_type": "code",
   "execution_count": null,
   "id": "37c5994a",
   "metadata": {},
   "outputs": [],
   "source": [
    "# Sortieren Sie das DataFrame nach dem Veröffentlichungsdatum\n",
    "train_data_clean_sorted = train_data_clean.sort_values('Release_Date')\n",
    "\n",
    "# Erstellen Sie das Liniendiagramm\n",
    "plt.plot(train_data_clean_sorted['Release_Date'], train_data_clean_sorted['Popularity'])\n",
    "\n",
    "# Fügen Sie Titel und Achsenbeschriftungen hinzu\n",
    "plt.title('Beliebtheit von Filmen im Laufe der Zeit')\n",
    "plt.xlabel('Veröffentlichungsdatum')\n",
    "plt.ylabel('Beliebtheit')\n",
    "\n",
    "# Zeigen Sie das Diagramm an\n",
    "plt.show()"
   ]
  },
  {
   "cell_type": "markdown",
   "id": "1060d2ba",
   "metadata": {},
   "source": [
    " # Welche Sprachen sind am häufigsten in Ihrem Datensatz vertreten"
   ]
  },
  {
   "cell_type": "code",
   "execution_count": null,
   "id": "7d6a28c7",
   "metadata": {
    "scrolled": true
   },
   "outputs": [],
   "source": [
    "language_counts = train_data_clean['Original_Language'].value_counts()\n",
    "print(language_counts)"
   ]
  },
  {
   "cell_type": "code",
   "execution_count": null,
   "id": "6d75ed7c",
   "metadata": {},
   "outputs": [],
   "source": [
    "netflix_common_titles = pd.merge(data_netflix_clean, train_data_clean, how='inner', left_on='title', right_on='Title')\n",
    "netflix_common_titles = netflix_common_titles[['title', 'type', 'cast', 'release_year', 'listed_in', 'Popularity', 'Vote_Count', 'Vote_Average', 'Original_Language', 'Genre']]"
   ]
  },
  {
   "cell_type": "code",
   "execution_count": null,
   "id": "053d156f",
   "metadata": {},
   "outputs": [],
   "source": [
    "netflix_common_titles.head()"
   ]
  },
  {
   "cell_type": "code",
   "execution_count": null,
   "id": "8bc3a9f9",
   "metadata": {},
   "outputs": [],
   "source": [
    "netflix_common_titles.info()"
   ]
  },
  {
   "cell_type": "code",
   "execution_count": null,
   "id": "08433511",
   "metadata": {},
   "outputs": [],
   "source": [
    "netflix_common_titles.shape"
   ]
  },
  {
   "cell_type": "code",
   "execution_count": null,
   "id": "f0830b08",
   "metadata": {},
   "outputs": [],
   "source": [
    "print(netflix_common_titles.max())"
   ]
  },
  {
   "cell_type": "code",
   "execution_count": null,
   "id": "f3e99737",
   "metadata": {},
   "outputs": [],
   "source": [
    "print(netflix_common_titles.min())"
   ]
  },
  {
   "cell_type": "code",
   "execution_count": null,
   "id": "52c4370c",
   "metadata": {},
   "outputs": [],
   "source": [
    "# Assuming netflix_common_titles is your original DataFrame\n",
    "\n",
    "# Getting top values based on 10% of the highest Popularity value\n",
    "threshold_value = netflix_common_titles['Popularity'].max() * 0.1\n",
    "\n",
    "# Filter the DataFrame based on the threshold\n",
    "netflix_top_titles = netflix_common_titles[netflix_common_titles['Popularity'] > threshold_value]\n",
    "\n",
    "# Display the number of rows and columns in the filtered DataFrame\n",
    "print(\"Number of rows and columns in the filtered DataFrame:\", netflix_top_titles.shape)\n",
    "print(\"Max Value: \",netflix_top_titles['Popularity'].max())\n",
    "print(\"Threshhold: \",threshold_value)\n",
    "\n",
    "# Normalizing top titles to fit Vote_Average Scale\n",
    "normalized_top_popularity = (netflix_top_titles['Popularity'] / netflix_top_titles['Popularity'].max()) * 10\n",
    "\n",
    "# Value of popularity and Vote_Average combined\n",
    "combined_rating = (normalized_top_popularity + netflix_top_titles['Vote_Average']) / 2\n",
    "\n",
    "# Assigning a new column 'Voting_Popularity'\n",
    "netflix_top_titles = netflix_top_titles.assign(Voting_Popularity=combined_rating)\n",
    "\n",
    "# Creating a DataFrame with the rest of the titles\n",
    "rest_of_titles = netflix_common_titles[~netflix_common_titles.index.isin(netflix_top_titles.index)]\n",
    "\n",
    "# Normalizing rest of titles to fit Vote_Average Scale\n",
    "normalized_rest_popularity = (rest_of_titles['Popularity'] / rest_of_titles['Popularity'].max()) * 10\n",
    "\n",
    "# Value of popularity and Vote_Average combined for the rest of titles\n",
    "combined_rest_rating = (normalized_rest_popularity + rest_of_titles['Vote_Average']) / 2\n",
    "\n",
    "# Assigning a new column 'Voting_Popularity' for the rest of titles\n",
    "rest_of_titles = rest_of_titles.assign(Voting_Popularity=combined_rest_rating)\n",
    "\n",
    "# Concatenating the two DataFrames\n",
    "combined_dataframe = pd.concat([netflix_top_titles, rest_of_titles])\n",
    "\n",
    "# Display the combined DataFrame\n",
    "print(\"Number of rows and columns in the combined DataFrame:\", combined_dataframe.shape)\n"
   ]
  },
  {
   "cell_type": "code",
   "execution_count": null,
   "id": "a05f375f",
   "metadata": {},
   "outputs": [],
   "source": [
    "#sortiert dataframe nach Voting_Popularity in absteigender Reihnfolge\n",
    "netflix_top_titles = netflix_top_titles.sort_values(by='Voting_Popularity', ascending=False)\n",
    "rest_of_titles = rest_of_titles.sort_values(by='Voting_Popularity', ascending=False)\n",
    "combined_dataframe = combined_dataframe.sort_values(by='Voting_Popularity', ascending=False)"
   ]
  },
  {
   "cell_type": "code",
   "execution_count": null,
   "id": "35c2781a",
   "metadata": {},
   "outputs": [],
   "source": [
    "rest_of_titles.head()"
   ]
  },
  {
   "cell_type": "code",
   "execution_count": null,
   "id": "d5d4bed2",
   "metadata": {},
   "outputs": [],
   "source": [
    "rest_of_titles.tail()"
   ]
  },
  {
   "cell_type": "code",
   "execution_count": null,
   "id": "fb59ff3b",
   "metadata": {},
   "outputs": [],
   "source": [
    "#getting top values based on 10% of highest Popularity value\n",
    "#threshold_value = netflix_common_titles['Popularity'].max()*0.1\n",
    "\n",
    "# Filter the DataFrame based on the threshold\n",
    "#netflix_top_titles = netflix_common_titles[netflix_common_titles['Popularity'] > threshold_value]\n",
    "\n",
    "# Display the filtered DataFrame\n",
    "#netflix_top_titles.shape"
   ]
  },
  {
   "cell_type": "code",
   "execution_count": null,
   "id": "55bfc63d",
   "metadata": {},
   "outputs": [],
   "source": [
    "#normalizing top titles to fit Vote_Avarage Scale\n",
    "#normalized_top_popularity = (netflix_top_titles['Popularity'] / netflix_top_titles['Popularity'].max()) * 10\n",
    "#value of popularity and Vote_Average combined\n",
    "#combined_rating = (normalized_top_popularity + netflix_top_titles['Vote_Average']) / 2\n",
    "#assigning new column Voting popularity to \n",
    "#netflix_top_titles = netflix_top_titles.assign(Voting_Popularity=combined_rating)\n"
   ]
  },
  {
   "cell_type": "code",
   "execution_count": null,
   "id": "e287f56d",
   "metadata": {},
   "outputs": [],
   "source": [
    "#netflix_top_titles.head()"
   ]
  },
  {
   "cell_type": "code",
   "execution_count": null,
   "id": "6a4a82a8",
   "metadata": {},
   "outputs": [],
   "source": [
    "#netflix_top_titles.tail()"
   ]
  },
  {
   "cell_type": "code",
   "execution_count": null,
   "id": "c0ba41db",
   "metadata": {},
   "outputs": [],
   "source": [
    "netflix_top_titles.head()"
   ]
  },
  {
   "cell_type": "code",
   "execution_count": null,
   "id": "685be19e",
   "metadata": {},
   "outputs": [],
   "source": [
    "netflix_top_titles.tail()"
   ]
  },
  {
   "cell_type": "code",
   "execution_count": null,
   "id": "71f0b0e6",
   "metadata": {},
   "outputs": [],
   "source": [
    "combined_dataframe.head()"
   ]
  },
  {
   "cell_type": "code",
   "execution_count": null,
   "id": "e6fe4be6",
   "metadata": {},
   "outputs": [],
   "source": [
    "combined_dataframe.tail()"
   ]
  },
  {
   "cell_type": "code",
   "execution_count": null,
   "id": "2daa5587",
   "metadata": {},
   "outputs": [],
   "source": [
    "print(combined_dataframe['Voting_Popularity'].mean())"
   ]
  }
 ],
 "metadata": {
  "kernelspec": {
   "display_name": "Python 3 (ipykernel)",
   "language": "python",
   "name": "python3"
  },
  "language_info": {
   "codemirror_mode": {
    "name": "ipython",
    "version": 3
   },
   "file_extension": ".py",
   "mimetype": "text/x-python",
   "name": "python",
   "nbconvert_exporter": "python",
   "pygments_lexer": "ipython3",
   "version": "3.11.5"
  }
 },
 "nbformat": 4,
 "nbformat_minor": 5
}
