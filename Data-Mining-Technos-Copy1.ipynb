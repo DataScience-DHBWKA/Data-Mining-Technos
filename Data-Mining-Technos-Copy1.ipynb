{
 "cells": [
  {
   "cell_type": "code",
   "execution_count": 1,
   "id": "5e55b200",
   "metadata": {},
   "outputs": [],
   "source": [
    "import numpy as np # linear algebra\n",
    "import pandas as pd # data processing\n",
    "import seaborn as sns # Plots\n",
    "import matplotlib.pyplot as plt # Plots"
   ]
  },
  {
   "cell_type": "code",
   "execution_count": 2,
   "id": "84b5826c",
   "metadata": {
    "scrolled": true
   },
   "outputs": [],
   "source": [
    "train_data = pd.read_csv('./mymoviedb.csv', engine='python')"
   ]
  },
  {
   "cell_type": "code",
   "execution_count": 3,
   "id": "5d5f291f",
   "metadata": {},
   "outputs": [
    {
     "name": "stdout",
     "output_type": "stream",
     "text": [
      "Hello World\n"
     ]
    }
   ],
   "source": [
    "print(\"Hello World\")"
   ]
  },
  {
   "cell_type": "code",
   "execution_count": 4,
   "id": "135ff889",
   "metadata": {
    "scrolled": false
   },
   "outputs": [
    {
     "name": "stdout",
     "output_type": "stream",
     "text": [
      "<class 'pandas.core.frame.DataFrame'>\n",
      "RangeIndex: 9837 entries, 0 to 9836\n",
      "Data columns (total 9 columns):\n",
      " #   Column             Non-Null Count  Dtype  \n",
      "---  ------             --------------  -----  \n",
      " 0   Release_Date       9837 non-null   object \n",
      " 1   Title              9828 non-null   object \n",
      " 2   Overview           9828 non-null   object \n",
      " 3   Popularity         9827 non-null   float64\n",
      " 4   Vote_Count         9827 non-null   object \n",
      " 5   Vote_Average       9827 non-null   object \n",
      " 6   Original_Language  9827 non-null   object \n",
      " 7   Genre              9826 non-null   object \n",
      " 8   Poster_Url         9826 non-null   object \n",
      "dtypes: float64(1), object(8)\n",
      "memory usage: 691.8+ KB\n"
     ]
    }
   ],
   "source": [
    "train_data.info()"
   ]
  },
  {
   "cell_type": "code",
   "execution_count": 5,
   "id": "ea3b011f",
   "metadata": {},
   "outputs": [
    {
     "data": {
      "text/plain": [
       "(9837, 9)"
      ]
     },
     "execution_count": 5,
     "metadata": {},
     "output_type": "execute_result"
    }
   ],
   "source": [
    "train_data.shape"
   ]
  },
  {
   "cell_type": "code",
   "execution_count": 6,
   "id": "fe0682eb",
   "metadata": {},
   "outputs": [],
   "source": [
    "column_types = {'Title':'string', 'Overview':'string', 'Original_Language':'string', 'Genre':'string'}\n",
    "\n",
    "train_data_clean = pd.read_csv('./mymoviedb.csv', engine='python', dtype=column_types)"
   ]
  },
  {
   "cell_type": "code",
   "execution_count": 7,
   "id": "73466379",
   "metadata": {},
   "outputs": [],
   "source": [
    "train_data_clean = train_data_clean.dropna()\n",
    "train_data_clean['Vote_Count'] = train_data_clean['Vote_Count'].astype(int)\n",
    "train_data_clean['Popularity'] = train_data_clean['Popularity'].astype(int)\n",
    "train_data_clean['Vote_Average'] = train_data_clean['Vote_Average'].astype(float)\n",
    "train_data_clean['Release_Date'] = pd.to_datetime(train_data_clean['Release_Date'])"
   ]
  },
  {
   "cell_type": "code",
   "execution_count": 8,
   "id": "46875c2f",
   "metadata": {},
   "outputs": [],
   "source": [
    "train_data_clean = train_data_clean.drop(columns=['Poster_Url','Overview'])"
   ]
  },
  {
   "cell_type": "code",
   "execution_count": 9,
   "id": "4e4e6ba6",
   "metadata": {
    "scrolled": false
   },
   "outputs": [
    {
     "data": {
      "text/html": [
       "<div>\n",
       "<style scoped>\n",
       "    .dataframe tbody tr th:only-of-type {\n",
       "        vertical-align: middle;\n",
       "    }\n",
       "\n",
       "    .dataframe tbody tr th {\n",
       "        vertical-align: top;\n",
       "    }\n",
       "\n",
       "    .dataframe thead th {\n",
       "        text-align: right;\n",
       "    }\n",
       "</style>\n",
       "<table border=\"1\" class=\"dataframe\">\n",
       "  <thead>\n",
       "    <tr style=\"text-align: right;\">\n",
       "      <th></th>\n",
       "      <th>Release_Date</th>\n",
       "      <th>Title</th>\n",
       "      <th>Popularity</th>\n",
       "      <th>Vote_Count</th>\n",
       "      <th>Vote_Average</th>\n",
       "      <th>Original_Language</th>\n",
       "      <th>Genre</th>\n",
       "    </tr>\n",
       "  </thead>\n",
       "  <tbody>\n",
       "    <tr>\n",
       "      <th>0</th>\n",
       "      <td>2021-12-15</td>\n",
       "      <td>Spider-Man: No Way Home</td>\n",
       "      <td>5083</td>\n",
       "      <td>8940</td>\n",
       "      <td>8.3</td>\n",
       "      <td>en</td>\n",
       "      <td>Action, Adventure, Science Fiction</td>\n",
       "    </tr>\n",
       "    <tr>\n",
       "      <th>1</th>\n",
       "      <td>2022-03-01</td>\n",
       "      <td>The Batman</td>\n",
       "      <td>3827</td>\n",
       "      <td>1151</td>\n",
       "      <td>8.1</td>\n",
       "      <td>en</td>\n",
       "      <td>Crime, Mystery, Thriller</td>\n",
       "    </tr>\n",
       "    <tr>\n",
       "      <th>2</th>\n",
       "      <td>2022-02-25</td>\n",
       "      <td>No Exit</td>\n",
       "      <td>2618</td>\n",
       "      <td>122</td>\n",
       "      <td>6.3</td>\n",
       "      <td>en</td>\n",
       "      <td>Thriller</td>\n",
       "    </tr>\n",
       "    <tr>\n",
       "      <th>3</th>\n",
       "      <td>2021-11-24</td>\n",
       "      <td>Encanto</td>\n",
       "      <td>2402</td>\n",
       "      <td>5076</td>\n",
       "      <td>7.7</td>\n",
       "      <td>en</td>\n",
       "      <td>Animation, Comedy, Family, Fantasy</td>\n",
       "    </tr>\n",
       "    <tr>\n",
       "      <th>4</th>\n",
       "      <td>2021-12-22</td>\n",
       "      <td>The King's Man</td>\n",
       "      <td>1895</td>\n",
       "      <td>1793</td>\n",
       "      <td>7.0</td>\n",
       "      <td>en</td>\n",
       "      <td>Action, Adventure, Thriller, War</td>\n",
       "    </tr>\n",
       "  </tbody>\n",
       "</table>\n",
       "</div>"
      ],
      "text/plain": [
       "  Release_Date                    Title  Popularity  Vote_Count  Vote_Average  \\\n",
       "0   2021-12-15  Spider-Man: No Way Home        5083        8940           8.3   \n",
       "1   2022-03-01               The Batman        3827        1151           8.1   \n",
       "2   2022-02-25                  No Exit        2618         122           6.3   \n",
       "3   2021-11-24                  Encanto        2402        5076           7.7   \n",
       "4   2021-12-22           The King's Man        1895        1793           7.0   \n",
       "\n",
       "  Original_Language                               Genre  \n",
       "0                en  Action, Adventure, Science Fiction  \n",
       "1                en            Crime, Mystery, Thriller  \n",
       "2                en                            Thriller  \n",
       "3                en  Animation, Comedy, Family, Fantasy  \n",
       "4                en    Action, Adventure, Thriller, War  "
      ]
     },
     "execution_count": 9,
     "metadata": {},
     "output_type": "execute_result"
    }
   ],
   "source": [
    "train_data_clean.head()"
   ]
  },
  {
   "cell_type": "code",
   "execution_count": 10,
   "id": "f82d3d84",
   "metadata": {},
   "outputs": [
    {
     "data": {
      "text/plain": [
       "(9826, 7)"
      ]
     },
     "execution_count": 10,
     "metadata": {},
     "output_type": "execute_result"
    }
   ],
   "source": [
    "train_data_clean.shape"
   ]
  },
  {
   "cell_type": "code",
   "execution_count": 11,
   "id": "69c88972",
   "metadata": {},
   "outputs": [
    {
     "name": "stdout",
     "output_type": "stream",
     "text": [
      "<class 'pandas.core.frame.DataFrame'>\n",
      "Index: 9826 entries, 0 to 9836\n",
      "Data columns (total 7 columns):\n",
      " #   Column             Non-Null Count  Dtype         \n",
      "---  ------             --------------  -----         \n",
      " 0   Release_Date       9826 non-null   datetime64[ns]\n",
      " 1   Title              9826 non-null   string        \n",
      " 2   Popularity         9826 non-null   int32         \n",
      " 3   Vote_Count         9826 non-null   int32         \n",
      " 4   Vote_Average       9826 non-null   float64       \n",
      " 5   Original_Language  9826 non-null   string        \n",
      " 6   Genre              9826 non-null   string        \n",
      "dtypes: datetime64[ns](1), float64(1), int32(2), string(3)\n",
      "memory usage: 537.4 KB\n"
     ]
    }
   ],
   "source": [
    "train_data_clean.info()"
   ]
  },
  {
   "cell_type": "code",
   "execution_count": 12,
   "id": "1a143f3c",
   "metadata": {},
   "outputs": [
    {
     "name": "stdout",
     "output_type": "stream",
     "text": [
      "Release_Date         0\n",
      "Title                0\n",
      "Popularity           0\n",
      "Vote_Count           0\n",
      "Vote_Average         0\n",
      "Original_Language    0\n",
      "Genre                0\n",
      "dtype: int64\n"
     ]
    }
   ],
   "source": [
    "print(train_data_clean.isnull().sum())"
   ]
  },
  {
   "cell_type": "code",
   "execution_count": 13,
   "id": "7ade65a6",
   "metadata": {},
   "outputs": [
    {
     "data": {
      "text/html": [
       "<div>\n",
       "<style scoped>\n",
       "    .dataframe tbody tr th:only-of-type {\n",
       "        vertical-align: middle;\n",
       "    }\n",
       "\n",
       "    .dataframe tbody tr th {\n",
       "        vertical-align: top;\n",
       "    }\n",
       "\n",
       "    .dataframe thead th {\n",
       "        text-align: right;\n",
       "    }\n",
       "</style>\n",
       "<table border=\"1\" class=\"dataframe\">\n",
       "  <thead>\n",
       "    <tr style=\"text-align: right;\">\n",
       "      <th></th>\n",
       "      <th>Release_Date</th>\n",
       "      <th>Title</th>\n",
       "      <th>Popularity</th>\n",
       "      <th>Vote_Count</th>\n",
       "      <th>Vote_Average</th>\n",
       "      <th>Original_Language</th>\n",
       "      <th>Genre</th>\n",
       "    </tr>\n",
       "  </thead>\n",
       "  <tbody>\n",
       "    <tr>\n",
       "      <th>count</th>\n",
       "      <td>9826</td>\n",
       "      <td>9826</td>\n",
       "      <td>9826.000000</td>\n",
       "      <td>9826.000000</td>\n",
       "      <td>9826.000000</td>\n",
       "      <td>9826</td>\n",
       "      <td>9826</td>\n",
       "    </tr>\n",
       "    <tr>\n",
       "      <th>unique</th>\n",
       "      <td>NaN</td>\n",
       "      <td>9512</td>\n",
       "      <td>NaN</td>\n",
       "      <td>NaN</td>\n",
       "      <td>NaN</td>\n",
       "      <td>43</td>\n",
       "      <td>2337</td>\n",
       "    </tr>\n",
       "    <tr>\n",
       "      <th>top</th>\n",
       "      <td>NaN</td>\n",
       "      <td>Alice in Wonderland</td>\n",
       "      <td>NaN</td>\n",
       "      <td>NaN</td>\n",
       "      <td>NaN</td>\n",
       "      <td>en</td>\n",
       "      <td>Drama</td>\n",
       "    </tr>\n",
       "    <tr>\n",
       "      <th>freq</th>\n",
       "      <td>NaN</td>\n",
       "      <td>4</td>\n",
       "      <td>NaN</td>\n",
       "      <td>NaN</td>\n",
       "      <td>NaN</td>\n",
       "      <td>7569</td>\n",
       "      <td>466</td>\n",
       "    </tr>\n",
       "    <tr>\n",
       "      <th>mean</th>\n",
       "      <td>2006-09-23 04:47:14.276409600</td>\n",
       "      <td>NaN</td>\n",
       "      <td>39.828007</td>\n",
       "      <td>1392.943721</td>\n",
       "      <td>6.439467</td>\n",
       "      <td>NaN</td>\n",
       "      <td>NaN</td>\n",
       "    </tr>\n",
       "    <tr>\n",
       "      <th>min</th>\n",
       "      <td>1902-04-17 00:00:00</td>\n",
       "      <td>NaN</td>\n",
       "      <td>13.000000</td>\n",
       "      <td>0.000000</td>\n",
       "      <td>0.000000</td>\n",
       "      <td>NaN</td>\n",
       "      <td>NaN</td>\n",
       "    </tr>\n",
       "    <tr>\n",
       "      <th>25%</th>\n",
       "      <td>2000-10-17 12:00:00</td>\n",
       "      <td>NaN</td>\n",
       "      <td>16.000000</td>\n",
       "      <td>146.000000</td>\n",
       "      <td>5.900000</td>\n",
       "      <td>NaN</td>\n",
       "      <td>NaN</td>\n",
       "    </tr>\n",
       "    <tr>\n",
       "      <th>50%</th>\n",
       "      <td>2011-09-12 00:00:00</td>\n",
       "      <td>NaN</td>\n",
       "      <td>21.000000</td>\n",
       "      <td>444.000000</td>\n",
       "      <td>6.500000</td>\n",
       "      <td>NaN</td>\n",
       "      <td>NaN</td>\n",
       "    </tr>\n",
       "    <tr>\n",
       "      <th>75%</th>\n",
       "      <td>2017-11-22 00:00:00</td>\n",
       "      <td>NaN</td>\n",
       "      <td>35.000000</td>\n",
       "      <td>1376.000000</td>\n",
       "      <td>7.100000</td>\n",
       "      <td>NaN</td>\n",
       "      <td>NaN</td>\n",
       "    </tr>\n",
       "    <tr>\n",
       "      <th>max</th>\n",
       "      <td>2024-07-03 00:00:00</td>\n",
       "      <td>NaN</td>\n",
       "      <td>5083.000000</td>\n",
       "      <td>31077.000000</td>\n",
       "      <td>10.000000</td>\n",
       "      <td>NaN</td>\n",
       "      <td>NaN</td>\n",
       "    </tr>\n",
       "    <tr>\n",
       "      <th>std</th>\n",
       "      <td>NaN</td>\n",
       "      <td>NaN</td>\n",
       "      <td>108.879786</td>\n",
       "      <td>2611.303856</td>\n",
       "      <td>1.129797</td>\n",
       "      <td>NaN</td>\n",
       "      <td>NaN</td>\n",
       "    </tr>\n",
       "  </tbody>\n",
       "</table>\n",
       "</div>"
      ],
      "text/plain": [
       "                         Release_Date                Title   Popularity  \\\n",
       "count                            9826                 9826  9826.000000   \n",
       "unique                            NaN                 9512          NaN   \n",
       "top                               NaN  Alice in Wonderland          NaN   \n",
       "freq                              NaN                    4          NaN   \n",
       "mean    2006-09-23 04:47:14.276409600                  NaN    39.828007   \n",
       "min               1902-04-17 00:00:00                  NaN    13.000000   \n",
       "25%               2000-10-17 12:00:00                  NaN    16.000000   \n",
       "50%               2011-09-12 00:00:00                  NaN    21.000000   \n",
       "75%               2017-11-22 00:00:00                  NaN    35.000000   \n",
       "max               2024-07-03 00:00:00                  NaN  5083.000000   \n",
       "std                               NaN                  NaN   108.879786   \n",
       "\n",
       "          Vote_Count  Vote_Average Original_Language  Genre  \n",
       "count    9826.000000   9826.000000              9826   9826  \n",
       "unique           NaN           NaN                43   2337  \n",
       "top              NaN           NaN                en  Drama  \n",
       "freq             NaN           NaN              7569    466  \n",
       "mean     1392.943721      6.439467               NaN    NaN  \n",
       "min         0.000000      0.000000               NaN    NaN  \n",
       "25%       146.000000      5.900000               NaN    NaN  \n",
       "50%       444.000000      6.500000               NaN    NaN  \n",
       "75%      1376.000000      7.100000               NaN    NaN  \n",
       "max     31077.000000     10.000000               NaN    NaN  \n",
       "std      2611.303856      1.129797               NaN    NaN  "
      ]
     },
     "execution_count": 13,
     "metadata": {},
     "output_type": "execute_result"
    }
   ],
   "source": [
    "train_data_clean.describe(include='all')"
   ]
  },
  {
   "cell_type": "code",
   "execution_count": 14,
   "id": "74dde2ea",
   "metadata": {},
   "outputs": [
    {
     "data": {
      "text/html": [
       "<div>\n",
       "<style scoped>\n",
       "    .dataframe tbody tr th:only-of-type {\n",
       "        vertical-align: middle;\n",
       "    }\n",
       "\n",
       "    .dataframe tbody tr th {\n",
       "        vertical-align: top;\n",
       "    }\n",
       "\n",
       "    .dataframe thead th {\n",
       "        text-align: right;\n",
       "    }\n",
       "</style>\n",
       "<table border=\"1\" class=\"dataframe\">\n",
       "  <thead>\n",
       "    <tr style=\"text-align: right;\">\n",
       "      <th></th>\n",
       "      <th>Release_Date</th>\n",
       "      <th>Popularity</th>\n",
       "      <th>Vote_Count</th>\n",
       "      <th>Vote_Average</th>\n",
       "    </tr>\n",
       "  </thead>\n",
       "  <tbody>\n",
       "    <tr>\n",
       "      <th>count</th>\n",
       "      <td>9826</td>\n",
       "      <td>9826.000000</td>\n",
       "      <td>9826.000000</td>\n",
       "      <td>9826.000000</td>\n",
       "    </tr>\n",
       "    <tr>\n",
       "      <th>mean</th>\n",
       "      <td>2006-09-23 04:47:14.276409600</td>\n",
       "      <td>39.828007</td>\n",
       "      <td>1392.943721</td>\n",
       "      <td>6.439467</td>\n",
       "    </tr>\n",
       "    <tr>\n",
       "      <th>min</th>\n",
       "      <td>1902-04-17 00:00:00</td>\n",
       "      <td>13.000000</td>\n",
       "      <td>0.000000</td>\n",
       "      <td>0.000000</td>\n",
       "    </tr>\n",
       "    <tr>\n",
       "      <th>25%</th>\n",
       "      <td>2000-10-17 12:00:00</td>\n",
       "      <td>16.000000</td>\n",
       "      <td>146.000000</td>\n",
       "      <td>5.900000</td>\n",
       "    </tr>\n",
       "    <tr>\n",
       "      <th>50%</th>\n",
       "      <td>2011-09-12 00:00:00</td>\n",
       "      <td>21.000000</td>\n",
       "      <td>444.000000</td>\n",
       "      <td>6.500000</td>\n",
       "    </tr>\n",
       "    <tr>\n",
       "      <th>75%</th>\n",
       "      <td>2017-11-22 00:00:00</td>\n",
       "      <td>35.000000</td>\n",
       "      <td>1376.000000</td>\n",
       "      <td>7.100000</td>\n",
       "    </tr>\n",
       "    <tr>\n",
       "      <th>max</th>\n",
       "      <td>2024-07-03 00:00:00</td>\n",
       "      <td>5083.000000</td>\n",
       "      <td>31077.000000</td>\n",
       "      <td>10.000000</td>\n",
       "    </tr>\n",
       "    <tr>\n",
       "      <th>std</th>\n",
       "      <td>NaN</td>\n",
       "      <td>108.879786</td>\n",
       "      <td>2611.303856</td>\n",
       "      <td>1.129797</td>\n",
       "    </tr>\n",
       "  </tbody>\n",
       "</table>\n",
       "</div>"
      ],
      "text/plain": [
       "                        Release_Date   Popularity    Vote_Count  Vote_Average\n",
       "count                           9826  9826.000000   9826.000000   9826.000000\n",
       "mean   2006-09-23 04:47:14.276409600    39.828007   1392.943721      6.439467\n",
       "min              1902-04-17 00:00:00    13.000000      0.000000      0.000000\n",
       "25%              2000-10-17 12:00:00    16.000000    146.000000      5.900000\n",
       "50%              2011-09-12 00:00:00    21.000000    444.000000      6.500000\n",
       "75%              2017-11-22 00:00:00    35.000000   1376.000000      7.100000\n",
       "max              2024-07-03 00:00:00  5083.000000  31077.000000     10.000000\n",
       "std                              NaN   108.879786   2611.303856      1.129797"
      ]
     },
     "execution_count": 14,
     "metadata": {},
     "output_type": "execute_result"
    }
   ],
   "source": [
    "train_data_clean.describe()"
   ]
  },
  {
   "cell_type": "code",
   "execution_count": 15,
   "id": "6983d8c4",
   "metadata": {},
   "outputs": [],
   "source": [
    "train_data_clean_numeric=train_data_clean.select_dtypes(include=['number'])"
   ]
  },
  {
   "cell_type": "code",
   "execution_count": 16,
   "id": "67df5661",
   "metadata": {},
   "outputs": [
    {
     "data": {
      "text/html": [
       "<div>\n",
       "<style scoped>\n",
       "    .dataframe tbody tr th:only-of-type {\n",
       "        vertical-align: middle;\n",
       "    }\n",
       "\n",
       "    .dataframe tbody tr th {\n",
       "        vertical-align: top;\n",
       "    }\n",
       "\n",
       "    .dataframe thead th {\n",
       "        text-align: right;\n",
       "    }\n",
       "</style>\n",
       "<table border=\"1\" class=\"dataframe\">\n",
       "  <thead>\n",
       "    <tr style=\"text-align: right;\">\n",
       "      <th></th>\n",
       "      <th>Popularity</th>\n",
       "      <th>Vote_Count</th>\n",
       "      <th>Vote_Average</th>\n",
       "    </tr>\n",
       "  </thead>\n",
       "  <tbody>\n",
       "    <tr>\n",
       "      <th>0</th>\n",
       "      <td>5083</td>\n",
       "      <td>8940</td>\n",
       "      <td>8.3</td>\n",
       "    </tr>\n",
       "    <tr>\n",
       "      <th>1</th>\n",
       "      <td>3827</td>\n",
       "      <td>1151</td>\n",
       "      <td>8.1</td>\n",
       "    </tr>\n",
       "    <tr>\n",
       "      <th>2</th>\n",
       "      <td>2618</td>\n",
       "      <td>122</td>\n",
       "      <td>6.3</td>\n",
       "    </tr>\n",
       "    <tr>\n",
       "      <th>3</th>\n",
       "      <td>2402</td>\n",
       "      <td>5076</td>\n",
       "      <td>7.7</td>\n",
       "    </tr>\n",
       "    <tr>\n",
       "      <th>4</th>\n",
       "      <td>1895</td>\n",
       "      <td>1793</td>\n",
       "      <td>7.0</td>\n",
       "    </tr>\n",
       "  </tbody>\n",
       "</table>\n",
       "</div>"
      ],
      "text/plain": [
       "   Popularity  Vote_Count  Vote_Average\n",
       "0        5083        8940           8.3\n",
       "1        3827        1151           8.1\n",
       "2        2618         122           6.3\n",
       "3        2402        5076           7.7\n",
       "4        1895        1793           7.0"
      ]
     },
     "execution_count": 16,
     "metadata": {},
     "output_type": "execute_result"
    }
   ],
   "source": [
    "train_data_clean_numeric.head()"
   ]
  },
  {
   "cell_type": "markdown",
   "id": "7f8eabb3",
   "metadata": {},
   "source": [
    "# Welche Orignalsprache haben die Filme im Datensatz"
   ]
  },
  {
   "cell_type": "code",
   "execution_count": 17,
   "id": "4ddb03fc",
   "metadata": {
    "scrolled": true
   },
   "outputs": [
    {
     "data": {
      "text/plain": [
       "array(['ar', 'bn', 'ca', 'cn', 'cs', 'da', 'de', 'el', 'en', 'es', 'et',\n",
       "       'eu', 'fa', 'fi', 'fr', 'he', 'hi', 'hu', 'id', 'is', 'it', 'ja',\n",
       "       'ko', 'la', 'lv', 'ml', 'ms', 'nb', 'nl', 'no', 'pl', 'pt', 'ro',\n",
       "       'ru', 'sr', 'sv', 'ta', 'te', 'th', 'tl', 'tr', 'uk', 'zh'],\n",
       "      dtype=object)"
      ]
     },
     "execution_count": 17,
     "metadata": {},
     "output_type": "execute_result"
    }
   ],
   "source": [
    "np.unique(train_data_clean['Original_Language'])"
   ]
  },
  {
   "cell_type": "markdown",
   "id": "b1330715",
   "metadata": {},
   "source": [
    "# Genres aufgeteilt und Popularity addiert"
   ]
  },
  {
   "cell_type": "code",
   "execution_count": 18,
   "id": "2108dc46",
   "metadata": {},
   "outputs": [
    {
     "name": "stdout",
     "output_type": "stream",
     "text": [
      "Action: 135363\n",
      "Comedy: 113299\n",
      "Drama: 110739\n",
      "Thriller: 105612\n",
      "Adventure: 98687\n",
      "Animation: 74686\n",
      "Fantasy: 68794\n",
      "Family: 65208\n",
      "ScienceFiction: 62398\n",
      "Horror: 55500\n",
      "Crime: 54965\n",
      "Romance: 44818\n",
      "Mystery: 30603\n",
      "History: 11914\n",
      "War: 10724\n",
      "Music: 9809\n",
      "TVMovie: 6303\n",
      "Documentary: 6177\n",
      "Western: 4886\n"
     ]
    }
   ],
   "source": [
    "genre_popularity = {}\n",
    "\n",
    "# Durchlaufen jeder Zeile im Datensatz\n",
    "for i, row in train_data_clean.iterrows():\n",
    "    #'Genre' string nach jedem Komma aufteilen\n",
    "    genres = row['Genre'].replace(\" \", \"\").split(\",\")\n",
    "    # popularity in int casten(wir runden)\n",
    "    popularity = int(round(row[\"Popularity\"]))\n",
    "    \n",
    "    # popularity der Filme mit dem gleichen Genre wird aufsummiert\n",
    "    for genre in genres:\n",
    "        if genre in genre_popularity:\n",
    "            genre_popularity[genre] += popularity\n",
    "        else:\n",
    "            genre_popularity[genre] = popularity\n",
    "\n",
    "# Sortiere: absteigend\n",
    "sorted_genres = sorted(genre_popularity.items(), key=lambda x: x[1], reverse=True)\n",
    "\n",
    "for genre, popularity in sorted_genres:\n",
    "    print(f\"{genre}: {popularity}\")"
   ]
  },
  {
   "cell_type": "code",
   "execution_count": 19,
   "id": "159bd117",
   "metadata": {},
   "outputs": [
    {
     "data": {
      "image/png": "[encoded data removed]",
      "text/plain": [
       "<Figure size 1000x800 with 1 Axes>"
      ]
     },
     "metadata": {},
     "output_type": "display_data"
    }
   ],
   "source": [
    "import seaborn as sns\n",
    "\n",
    "genre_popularity = {\"Action\": 136663, \"Comedy\": 114795, \"Drama\": 112622, \"Thriller\": 106822, \n",
    "                    \"Adventure\": 99560, \"Animation\": 75392, \"Fantasy\": 69425, \"Family\": 65918, \n",
    "                    \"ScienceFiction\": 63019, \"Horror\": 56248, \"Crime\": 55567, \"Romance\": 45583, \n",
    "                    \"Mystery\": 30995, \"History\": 12136, \"War\": 10871, \"Music\": 9968, \n",
    "                    \"TVMovie\": 6410, \"Documentary\": 6288, \"Western\": 4960}\n",
    "\n",
    "genres = list(genre_popularity.keys())\n",
    "popularity = list(genre_popularity.values())\n",
    "\n",
    "# Bar-Chart\n",
    "plt.figure(figsize=(10, 8))\n",
    "sns.barplot(x=popularity, y=genres, palette='viridis')\n",
    "plt.xlabel('Popularität')\n",
    "plt.ylabel('Genres')\n",
    "plt.title('Popularität pro Genre')\n",
    "plt.show()"
   ]
  },
  {
   "cell_type": "markdown",
   "id": "893757df",
   "metadata": {},
   "source": [
    "# Anzahl der Filme in den jeweiligen Genres"
   ]
  },
  {
   "cell_type": "code",
   "execution_count": 20,
   "id": "4c803a3d",
   "metadata": {},
   "outputs": [
    {
     "name": "stdout",
     "output_type": "stream",
     "text": [
      "Genre\n",
      "Drama              3744\n",
      "Comedy             3031\n",
      "Action             2686\n",
      "Thriller           2488\n",
      "Adventure          1853\n",
      "Romance            1476\n",
      "Horror             1470\n",
      "Animation          1438\n",
      "Family             1414\n",
      "Fantasy            1308\n",
      "Science Fiction    1273\n",
      "Crime              1242\n",
      "Mystery             773\n",
      "History             427\n",
      "War                 308\n",
      "Music               295\n",
      "Documentary         215\n",
      "TV Movie            214\n",
      "Western             137\n",
      "Name: count, dtype: int64\n"
     ]
    }
   ],
   "source": [
    "genre_counts = train_data_clean['Genre'].str.split(', ').explode().value_counts()\n",
    "\n",
    "print(genre_counts)"
   ]
  },
  {
   "cell_type": "markdown",
   "id": "3caa0dac",
   "metadata": {},
   "source": [
    "## Absolutwerte nicht wirklich aussagekräftig, da sich die Anzahl der vertretenen Genres stark unterscheidet"
   ]
  },
  {
   "cell_type": "markdown",
   "id": "9f2798a4",
   "metadata": {},
   "source": [
    "# Durchschnittliche Beliebtheit für jedes Genre"
   ]
  },
  {
   "cell_type": "code",
   "execution_count": 21,
   "id": "c0c58899",
   "metadata": {},
   "outputs": [
    {
     "name": "stdout",
     "output_type": "stream",
     "text": [
      "Adventure: 53.25796006475985\n",
      "Fantasy: 52.59480122324159\n",
      "Animation: 51.93741307371349\n",
      "Action: 50.395755770662696\n",
      "Science Fiction: 49.016496465043204\n",
      "Family: 46.11598302687412\n",
      "Crime: 44.25523349436393\n",
      "Thriller: 42.448553054662376\n",
      "Mystery: 39.589909443725745\n",
      "Horror: 37.755102040816325\n",
      "Comedy: 37.38007258330584\n",
      "Western: 35.66423357664234\n",
      "War: 34.81818181818182\n",
      "Music: 33.25084745762712\n",
      "Romance: 30.36449864498645\n",
      "Drama: 29.577724358974358\n",
      "TV Movie: 29.453271028037385\n",
      "Documentary: 28.730232558139534\n",
      "History: 27.901639344262296\n"
     ]
    }
   ],
   "source": [
    "genre_popularity = {}\n",
    "genre_counts = {}\n",
    "\n",
    "for i, row in train_data_clean.iterrows():\n",
    "    genres = row['Genre'].split(', ')\n",
    "    \n",
    "    for genre in genres:\n",
    "        if genre in genre_popularity:\n",
    "            genre_popularity[genre] += row['Popularity']\n",
    "            genre_counts[genre] += 1\n",
    "        else:\n",
    "            genre_popularity[genre] = row['Popularity']\n",
    "            genre_counts[genre] = 1\n",
    "\n",
    "# durchschnittliche popularity für jedes Genre\n",
    "average_popularity = {genre: genre_popularity[genre] / genre_counts[genre] for genre in genre_popularity}\n",
    "\n",
    "# Sortieren nach absteigender Reihenfolge\n",
    "sorted_genres = sorted(average_popularity.items(), key=lambda x: x[1], reverse=True)\n",
    "\n",
    "for genre, popularity in sorted_genres:\n",
    "    print(f\"{genre}: {popularity}\")"
   ]
  },
  {
   "cell_type": "code",
   "execution_count": 22,
   "id": "2bc2c7cc",
   "metadata": {},
   "outputs": [
    {
     "data": {
      "image/png": "[encoded data removed]",
      "text/plain": [
       "<Figure size 1000x800 with 1 Axes>"
      ]
     },
     "metadata": {},
     "output_type": "display_data"
    }
   ],
   "source": [
    "genres = ['Adventure', 'Fantasy', 'Animation', 'Action', 'Science Fiction', 'Family', 'Crime', 'Thriller', 'Mystery',\n",
    "          'Horror', 'Comedy', 'Western', 'War', 'Music', 'Romance', 'Drama', 'TV Movie', 'Documentary', 'History']\n",
    "values = [53.74288828926054, 53.08134174311917, 52.4276627260084, 50.890132911392364, 49.511333857030685, 46.6106159830269,\n",
    "          44.74729549114323, 42.94625763665597, 40.09358990944373, 38.26449795918362, 37.87366875618602, 36.187912408759125,\n",
    "          35.29807467532467, 33.77141016949153, 30.86603048780494, 30.077651442307708,\n",
    "          29.954714953271036,29.235376744186063, 28.3958266978923]\n",
    "\n",
    "# Bar-Chart\n",
    "plt.figure(figsize=(10, 8))\n",
    "sns.barplot(x=values, y=genres, palette='viridis')\n",
    "plt.xlabel('Durchschnitt')\n",
    "plt.ylabel('Genres')\n",
    "plt.title('Durchschnittliche Beliebtheit')\n",
    "plt.show()"
   ]
  },
  {
   "cell_type": "markdown",
   "id": "5348fc67",
   "metadata": {},
   "source": [
    "### Die Frage “Was schaut die Welt am liebsten?” bezieht sich in der Regel auf das Genre, das die meisten Zuschauer oder die höchste Gesamtpopularität hat. Es geht darum, welches Genre insgesamt am meisten gesehen wird.\n",
    "\n",
    "### Die “durchschnittliche Beliebtheit” eines Genres hingegen bezieht sich auf die durchschnittliche Beliebtheit der Filme innerhalb dieses Genres. Es ist möglich, dass ein Genre nur wenige, aber sehr beliebte Filme hat und daher eine hohe durchschnittliche Beliebtheit hat. Es ist aber auch möglich, dass ein Genre viele Filme hat, die nicht so beliebt sind, und daher eine niedrigere durchschnittliche Beliebtheit hat, obwohl es insgesamt mehr gesehen wird."
   ]
  },
  {
   "cell_type": "markdown",
   "id": "158a12e7",
   "metadata": {},
   "source": [
    "# Median"
   ]
  },
  {
   "cell_type": "code",
   "execution_count": 23,
   "id": "a4d11ad2",
   "metadata": {
    "scrolled": false
   },
   "outputs": [
    {
     "name": "stdout",
     "output_type": "stream",
     "text": [
      "Genre\n",
      "Action             24.0\n",
      "Adventure          25.0\n",
      "Animation          27.0\n",
      "Comedy             20.0\n",
      "Crime              19.0\n",
      "Documentary        19.0\n",
      "Drama              19.0\n",
      "Family             24.0\n",
      "Fantasy            25.5\n",
      "History            19.0\n",
      "Horror             21.0\n",
      "Music              18.0\n",
      "Mystery            20.0\n",
      "Romance            19.0\n",
      "Science Fiction    24.0\n",
      "TV Movie           18.0\n",
      "Thriller           21.0\n",
      "War                19.0\n",
      "Western            18.0\n",
      "Name: Popularity, dtype: float64\n"
     ]
    }
   ],
   "source": [
    "genre_popularity_medians = train_data_clean.assign(Genre=train_data_clean['Genre'].str.split(', ')).explode('Genre').groupby('Genre')['Popularity'].median()\n",
    "\n",
    "print(genre_popularity_medians)"
   ]
  },
  {
   "cell_type": "code",
   "execution_count": 24,
   "id": "53c6bd17",
   "metadata": {},
   "outputs": [
    {
     "data": {
      "image/png": "[encoded data removed]",
      "text/plain": [
       "<Figure size 1000x600 with 1 Axes>"
      ]
     },
     "metadata": {},
     "output_type": "display_data"
    }
   ],
   "source": [
    "genre_popularity_medians = train_data_clean.assign(Genre=train_data_clean['Genre'].str.split(', ')).explode('Genre').groupby('Genre')['Popularity'].median()\n",
    "\n",
    "plt.figure(figsize=(10, 6))\n",
    "sns.barplot(x=genre_popularity_medians.index, y=genre_popularity_medians.values)\n",
    "plt.xlabel('Genre')\n",
    "plt.ylabel('Median Popularity')\n",
    "plt.title('Median Popularity by Genre')\n",
    "plt.xticks(rotation=90)\n",
    "plt.show()"
   ]
  },
  {
   "cell_type": "code",
   "execution_count": 25,
   "id": "dbe9a047",
   "metadata": {
    "scrolled": false
   },
   "outputs": [
    {
     "data": {
      "image/png": "[encoded data removed]",
      "text/plain": [
       "<Figure size 1000x600 with 2 Axes>"
      ]
     },
     "metadata": {},
     "output_type": "display_data"
    }
   ],
   "source": [
    "plt.figure(figsize=(10, 6))\n",
    "numeric_data = train_data_clean.select_dtypes(include=['float64', 'int32'])\n",
    "plt.matshow(numeric_data.corr(), fignum=plt.gcf().number)\n",
    "plt.xticks(range(numeric_data.shape[1]), numeric_data.columns, fontsize=14, rotation=45)\n",
    "plt.yticks(range(numeric_data.shape[1]), numeric_data.columns, fontsize=14)\n",
    "cb = plt.colorbar()\n",
    "cb.ax.tick_params(labelsize=14)\n",
    "plt.title('Correlation Matrix', fontsize=16)\n",
    "plt.show()"
   ]
  },
  {
   "cell_type": "markdown",
   "id": "5dc943ea",
   "metadata": {},
   "source": [
    "# Beziehung zwischen Beliebtheit und Bewertung"
   ]
  },
  {
   "cell_type": "code",
   "execution_count": 26,
   "id": "7f5b2a2c",
   "metadata": {},
   "outputs": [
    {
     "data": {
      "image/png": "[encoded data removed]",
      "text/plain": [
       "<Figure size 640x480 with 1 Axes>"
      ]
     },
     "metadata": {},
     "output_type": "display_data"
    }
   ],
   "source": [
    "import matplotlib.pyplot as plt\n",
    "\n",
    "sns.scatterplot(x='Popularity', y='Vote_Average', data=train_data_clean, color='indigo')\n",
    "\n",
    "plt.title('Beziehung zwischen Beliebtheit und Bewertung')\n",
    "plt.xlabel('Beliebtheit')\n",
    "plt.ylabel('Bewertung')\n",
    "\n",
    "plt.show()"
   ]
  },
  {
   "cell_type": "markdown",
   "id": "c4a22ed8",
   "metadata": {},
   "source": [
    "# Disney Datensatz"
   ]
  },
  {
   "cell_type": "code",
   "execution_count": 27,
   "id": "6d75ed7c",
   "metadata": {},
   "outputs": [],
   "source": [
    "disney_data = pd.read_csv('./disney_plus_titles.csv', engine='python')"
   ]
  },
  {
   "cell_type": "code",
   "execution_count": 28,
   "id": "da81eb0a",
   "metadata": {
    "scrolled": true
   },
   "outputs": [
    {
     "data": {
      "text/html": [
       "<div>\n",
       "<style scoped>\n",
       "    .dataframe tbody tr th:only-of-type {\n",
       "        vertical-align: middle;\n",
       "    }\n",
       "\n",
       "    .dataframe tbody tr th {\n",
       "        vertical-align: top;\n",
       "    }\n",
       "\n",
       "    .dataframe thead th {\n",
       "        text-align: right;\n",
       "    }\n",
       "</style>\n",
       "<table border=\"1\" class=\"dataframe\">\n",
       "  <thead>\n",
       "    <tr style=\"text-align: right;\">\n",
       "      <th></th>\n",
       "      <th>show_id</th>\n",
       "      <th>type</th>\n",
       "      <th>title</th>\n",
       "      <th>director</th>\n",
       "      <th>cast</th>\n",
       "      <th>country</th>\n",
       "      <th>date_added</th>\n",
       "      <th>release_year</th>\n",
       "      <th>rating</th>\n",
       "      <th>duration</th>\n",
       "      <th>listed_in</th>\n",
       "      <th>description</th>\n",
       "    </tr>\n",
       "  </thead>\n",
       "  <tbody>\n",
       "    <tr>\n",
       "      <th>0</th>\n",
       "      <td>s1</td>\n",
       "      <td>Movie</td>\n",
       "      <td>Duck the Halls: A Mickey Mouse Christmas Special</td>\n",
       "      <td>Alonso Ramirez Ramos, Dave Wasson</td>\n",
       "      <td>Chris Diamantopoulos, Tony Anselmo, Tress MacN...</td>\n",
       "      <td>NaN</td>\n",
       "      <td>November 26, 2021</td>\n",
       "      <td>2016</td>\n",
       "      <td>TV-G</td>\n",
       "      <td>23 min</td>\n",
       "      <td>Animation, Family</td>\n",
       "      <td>Join Mickey and the gang as they duck the halls!</td>\n",
       "    </tr>\n",
       "    <tr>\n",
       "      <th>1</th>\n",
       "      <td>s2</td>\n",
       "      <td>Movie</td>\n",
       "      <td>Ernest Saves Christmas</td>\n",
       "      <td>John Cherry</td>\n",
       "      <td>Jim Varney, Noelle Parker, Douglas Seale</td>\n",
       "      <td>NaN</td>\n",
       "      <td>November 26, 2021</td>\n",
       "      <td>1988</td>\n",
       "      <td>PG</td>\n",
       "      <td>91 min</td>\n",
       "      <td>Comedy</td>\n",
       "      <td>Santa Claus passes his magic bag to a new St. ...</td>\n",
       "    </tr>\n",
       "    <tr>\n",
       "      <th>2</th>\n",
       "      <td>s3</td>\n",
       "      <td>Movie</td>\n",
       "      <td>Ice Age: A Mammoth Christmas</td>\n",
       "      <td>Karen Disher</td>\n",
       "      <td>Raymond Albert Romano, John Leguizamo, Denis L...</td>\n",
       "      <td>United States</td>\n",
       "      <td>November 26, 2021</td>\n",
       "      <td>2011</td>\n",
       "      <td>TV-G</td>\n",
       "      <td>23 min</td>\n",
       "      <td>Animation, Comedy, Family</td>\n",
       "      <td>Sid the Sloth is on Santa's naughty list.</td>\n",
       "    </tr>\n",
       "    <tr>\n",
       "      <th>3</th>\n",
       "      <td>s4</td>\n",
       "      <td>Movie</td>\n",
       "      <td>The Queen Family Singalong</td>\n",
       "      <td>Hamish Hamilton</td>\n",
       "      <td>Darren Criss, Adam Lambert, Derek Hough, Alexa...</td>\n",
       "      <td>NaN</td>\n",
       "      <td>November 26, 2021</td>\n",
       "      <td>2021</td>\n",
       "      <td>TV-PG</td>\n",
       "      <td>41 min</td>\n",
       "      <td>Musical</td>\n",
       "      <td>This is real life, not just fantasy!</td>\n",
       "    </tr>\n",
       "    <tr>\n",
       "      <th>4</th>\n",
       "      <td>s5</td>\n",
       "      <td>TV Show</td>\n",
       "      <td>The Beatles: Get Back</td>\n",
       "      <td>NaN</td>\n",
       "      <td>John Lennon, Paul McCartney, George Harrison, ...</td>\n",
       "      <td>NaN</td>\n",
       "      <td>November 25, 2021</td>\n",
       "      <td>2021</td>\n",
       "      <td>NaN</td>\n",
       "      <td>1 Season</td>\n",
       "      <td>Docuseries, Historical, Music</td>\n",
       "      <td>A three-part documentary from Peter Jackson ca...</td>\n",
       "    </tr>\n",
       "  </tbody>\n",
       "</table>\n",
       "</div>"
      ],
      "text/plain": [
       "  show_id     type                                             title  \\\n",
       "0      s1    Movie  Duck the Halls: A Mickey Mouse Christmas Special   \n",
       "1      s2    Movie                            Ernest Saves Christmas   \n",
       "2      s3    Movie                      Ice Age: A Mammoth Christmas   \n",
       "3      s4    Movie                        The Queen Family Singalong   \n",
       "4      s5  TV Show                             The Beatles: Get Back   \n",
       "\n",
       "                            director  \\\n",
       "0  Alonso Ramirez Ramos, Dave Wasson   \n",
       "1                        John Cherry   \n",
       "2                       Karen Disher   \n",
       "3                    Hamish Hamilton   \n",
       "4                                NaN   \n",
       "\n",
       "                                                cast        country  \\\n",
       "0  Chris Diamantopoulos, Tony Anselmo, Tress MacN...            NaN   \n",
       "1           Jim Varney, Noelle Parker, Douglas Seale            NaN   \n",
       "2  Raymond Albert Romano, John Leguizamo, Denis L...  United States   \n",
       "3  Darren Criss, Adam Lambert, Derek Hough, Alexa...            NaN   \n",
       "4  John Lennon, Paul McCartney, George Harrison, ...            NaN   \n",
       "\n",
       "          date_added  release_year rating  duration  \\\n",
       "0  November 26, 2021          2016   TV-G    23 min   \n",
       "1  November 26, 2021          1988     PG    91 min   \n",
       "2  November 26, 2021          2011   TV-G    23 min   \n",
       "3  November 26, 2021          2021  TV-PG    41 min   \n",
       "4  November 25, 2021          2021    NaN  1 Season   \n",
       "\n",
       "                       listed_in  \\\n",
       "0              Animation, Family   \n",
       "1                         Comedy   \n",
       "2      Animation, Comedy, Family   \n",
       "3                        Musical   \n",
       "4  Docuseries, Historical, Music   \n",
       "\n",
       "                                         description  \n",
       "0   Join Mickey and the gang as they duck the halls!  \n",
       "1  Santa Claus passes his magic bag to a new St. ...  \n",
       "2          Sid the Sloth is on Santa's naughty list.  \n",
       "3               This is real life, not just fantasy!  \n",
       "4  A three-part documentary from Peter Jackson ca...  "
      ]
     },
     "execution_count": 28,
     "metadata": {},
     "output_type": "execute_result"
    }
   ],
   "source": [
    "disney_data.head()"
   ]
  },
  {
   "cell_type": "code",
   "execution_count": 29,
   "id": "f2ea41c9",
   "metadata": {
    "scrolled": false
   },
   "outputs": [
    {
     "name": "stdout",
     "output_type": "stream",
     "text": [
      "<class 'pandas.core.frame.DataFrame'>\n",
      "RangeIndex: 1450 entries, 0 to 1449\n",
      "Data columns (total 12 columns):\n",
      " #   Column        Non-Null Count  Dtype \n",
      "---  ------        --------------  ----- \n",
      " 0   show_id       1450 non-null   object\n",
      " 1   type          1450 non-null   object\n",
      " 2   title         1450 non-null   object\n",
      " 3   director      977 non-null    object\n",
      " 4   cast          1260 non-null   object\n",
      " 5   country       1231 non-null   object\n",
      " 6   date_added    1447 non-null   object\n",
      " 7   release_year  1450 non-null   int64 \n",
      " 8   rating        1447 non-null   object\n",
      " 9   duration      1450 non-null   object\n",
      " 10  listed_in     1450 non-null   object\n",
      " 11  description   1450 non-null   object\n",
      "dtypes: int64(1), object(11)\n",
      "memory usage: 136.1+ KB\n"
     ]
    }
   ],
   "source": [
    "disney_data.info()"
   ]
  },
  {
   "cell_type": "code",
   "execution_count": 30,
   "id": "9e7f6cf9",
   "metadata": {},
   "outputs": [],
   "source": [
    "disney_data = disney_data.dropna()"
   ]
  },
  {
   "cell_type": "code",
   "execution_count": 31,
   "id": "2b11a26b",
   "metadata": {},
   "outputs": [],
   "source": [
    "column_types_disney = {'title':'string', 'type':'string', 'cast':'string' , 'listed_in':'string'}\n",
    "\n",
    "disney_data = pd.read_csv('./disney_plus_titles.csv', engine='python', dtype=column_types_disney)\n",
    "disney_data = disney_data.drop(columns=['show_id', 'director', 'country', 'duration', 'description', 'date_added' , 'rating'])"
   ]
  },
  {
   "cell_type": "code",
   "execution_count": 32,
   "id": "f4636843",
   "metadata": {},
   "outputs": [],
   "source": [
    "disney_data['release_year'] = pd.to_datetime(disney_data['release_year'], format = '%Y')"
   ]
  },
  {
   "cell_type": "code",
   "execution_count": 33,
   "id": "59b934cb",
   "metadata": {},
   "outputs": [
    {
     "name": "stdout",
     "output_type": "stream",
     "text": [
      "<class 'pandas.core.frame.DataFrame'>\n",
      "RangeIndex: 1450 entries, 0 to 1449\n",
      "Data columns (total 5 columns):\n",
      " #   Column        Non-Null Count  Dtype         \n",
      "---  ------        --------------  -----         \n",
      " 0   type          1450 non-null   string        \n",
      " 1   title         1450 non-null   string        \n",
      " 2   cast          1260 non-null   string        \n",
      " 3   release_year  1450 non-null   datetime64[ns]\n",
      " 4   listed_in     1450 non-null   string        \n",
      "dtypes: datetime64[ns](1), string(4)\n",
      "memory usage: 56.8 KB\n"
     ]
    }
   ],
   "source": [
    "disney_data.info()"
   ]
  },
  {
   "cell_type": "code",
   "execution_count": 34,
   "id": "564980d5",
   "metadata": {},
   "outputs": [
    {
     "data": {
      "text/html": [
       "<div>\n",
       "<style scoped>\n",
       "    .dataframe tbody tr th:only-of-type {\n",
       "        vertical-align: middle;\n",
       "    }\n",
       "\n",
       "    .dataframe tbody tr th {\n",
       "        vertical-align: top;\n",
       "    }\n",
       "\n",
       "    .dataframe thead th {\n",
       "        text-align: right;\n",
       "    }\n",
       "</style>\n",
       "<table border=\"1\" class=\"dataframe\">\n",
       "  <thead>\n",
       "    <tr style=\"text-align: right;\">\n",
       "      <th></th>\n",
       "      <th>type</th>\n",
       "      <th>title</th>\n",
       "      <th>cast</th>\n",
       "      <th>release_year</th>\n",
       "      <th>listed_in</th>\n",
       "    </tr>\n",
       "  </thead>\n",
       "  <tbody>\n",
       "    <tr>\n",
       "      <th>0</th>\n",
       "      <td>Movie</td>\n",
       "      <td>Duck the Halls: A Mickey Mouse Christmas Special</td>\n",
       "      <td>Chris Diamantopoulos, Tony Anselmo, Tress MacN...</td>\n",
       "      <td>2016-01-01</td>\n",
       "      <td>Animation, Family</td>\n",
       "    </tr>\n",
       "    <tr>\n",
       "      <th>1</th>\n",
       "      <td>Movie</td>\n",
       "      <td>Ernest Saves Christmas</td>\n",
       "      <td>Jim Varney, Noelle Parker, Douglas Seale</td>\n",
       "      <td>1988-01-01</td>\n",
       "      <td>Comedy</td>\n",
       "    </tr>\n",
       "    <tr>\n",
       "      <th>2</th>\n",
       "      <td>Movie</td>\n",
       "      <td>Ice Age: A Mammoth Christmas</td>\n",
       "      <td>Raymond Albert Romano, John Leguizamo, Denis L...</td>\n",
       "      <td>2011-01-01</td>\n",
       "      <td>Animation, Comedy, Family</td>\n",
       "    </tr>\n",
       "    <tr>\n",
       "      <th>3</th>\n",
       "      <td>Movie</td>\n",
       "      <td>The Queen Family Singalong</td>\n",
       "      <td>Darren Criss, Adam Lambert, Derek Hough, Alexa...</td>\n",
       "      <td>2021-01-01</td>\n",
       "      <td>Musical</td>\n",
       "    </tr>\n",
       "    <tr>\n",
       "      <th>4</th>\n",
       "      <td>TV Show</td>\n",
       "      <td>The Beatles: Get Back</td>\n",
       "      <td>John Lennon, Paul McCartney, George Harrison, ...</td>\n",
       "      <td>2021-01-01</td>\n",
       "      <td>Docuseries, Historical, Music</td>\n",
       "    </tr>\n",
       "  </tbody>\n",
       "</table>\n",
       "</div>"
      ],
      "text/plain": [
       "      type                                             title  \\\n",
       "0    Movie  Duck the Halls: A Mickey Mouse Christmas Special   \n",
       "1    Movie                            Ernest Saves Christmas   \n",
       "2    Movie                      Ice Age: A Mammoth Christmas   \n",
       "3    Movie                        The Queen Family Singalong   \n",
       "4  TV Show                             The Beatles: Get Back   \n",
       "\n",
       "                                                cast release_year  \\\n",
       "0  Chris Diamantopoulos, Tony Anselmo, Tress MacN...   2016-01-01   \n",
       "1           Jim Varney, Noelle Parker, Douglas Seale   1988-01-01   \n",
       "2  Raymond Albert Romano, John Leguizamo, Denis L...   2011-01-01   \n",
       "3  Darren Criss, Adam Lambert, Derek Hough, Alexa...   2021-01-01   \n",
       "4  John Lennon, Paul McCartney, George Harrison, ...   2021-01-01   \n",
       "\n",
       "                       listed_in  \n",
       "0              Animation, Family  \n",
       "1                         Comedy  \n",
       "2      Animation, Comedy, Family  \n",
       "3                        Musical  \n",
       "4  Docuseries, Historical, Music  "
      ]
     },
     "execution_count": 34,
     "metadata": {},
     "output_type": "execute_result"
    }
   ],
   "source": [
    "disney_data.head()"
   ]
  },
  {
   "cell_type": "code",
   "execution_count": 35,
   "id": "26abbd38",
   "metadata": {},
   "outputs": [
    {
     "data": {
      "text/plain": [
       "array(['Movie', 'TV Show'], dtype=object)"
      ]
     },
     "execution_count": 35,
     "metadata": {},
     "output_type": "execute_result"
    }
   ],
   "source": [
    "np.unique(disney_data['type'])"
   ]
  },
  {
   "cell_type": "code",
   "execution_count": 36,
   "id": "fa5c23b5",
   "metadata": {},
   "outputs": [],
   "source": [
    "disney_data = disney_data[disney_data['type'] != 'TV Show']"
   ]
  },
  {
   "cell_type": "code",
   "execution_count": 37,
   "id": "8de528e1",
   "metadata": {},
   "outputs": [],
   "source": [
    "# Erstellen Sie einen neuen DataFrame, der nur die gemeinsamen Titel enthält\n",
    "disney_common_titles = pd.merge(disney_data, train_data_clean, how='inner', left_on='title', right_on='Title')\n",
    "\n",
    "# Behalten Sie nur die benötigten Spalten\n",
    "disney_common_titles = disney_common_titles[['title', 'type', 'cast', 'release_year', 'listed_in', 'Popularity', 'Vote_Count', 'Vote_Average', 'Original_Language', 'Genre']]"
   ]
  },
  {
   "cell_type": "code",
   "execution_count": 38,
   "id": "e21c8eab",
   "metadata": {
    "scrolled": true
   },
   "outputs": [
    {
     "data": {
      "text/html": [
       "<div>\n",
       "<style scoped>\n",
       "    .dataframe tbody tr th:only-of-type {\n",
       "        vertical-align: middle;\n",
       "    }\n",
       "\n",
       "    .dataframe tbody tr th {\n",
       "        vertical-align: top;\n",
       "    }\n",
       "\n",
       "    .dataframe thead th {\n",
       "        text-align: right;\n",
       "    }\n",
       "</style>\n",
       "<table border=\"1\" class=\"dataframe\">\n",
       "  <thead>\n",
       "    <tr style=\"text-align: right;\">\n",
       "      <th></th>\n",
       "      <th>title</th>\n",
       "      <th>type</th>\n",
       "      <th>cast</th>\n",
       "      <th>release_year</th>\n",
       "      <th>listed_in</th>\n",
       "      <th>Popularity</th>\n",
       "      <th>Vote_Count</th>\n",
       "      <th>Vote_Average</th>\n",
       "      <th>Original_Language</th>\n",
       "      <th>Genre</th>\n",
       "    </tr>\n",
       "  </thead>\n",
       "  <tbody>\n",
       "    <tr>\n",
       "      <th>0</th>\n",
       "      <td>Ice Age: A Mammoth Christmas</td>\n",
       "      <td>Movie</td>\n",
       "      <td>Raymond Albert Romano, John Leguizamo, Denis L...</td>\n",
       "      <td>2011-01-01</td>\n",
       "      <td>Animation, Comedy, Family</td>\n",
       "      <td>37</td>\n",
       "      <td>508</td>\n",
       "      <td>6.4</td>\n",
       "      <td>en</td>\n",
       "      <td>Animation, Family, TV Movie</td>\n",
       "    </tr>\n",
       "    <tr>\n",
       "      <th>1</th>\n",
       "      <td>Ciao Alberto</td>\n",
       "      <td>Movie</td>\n",
       "      <td>Jack Dylan Grazer, Marco Barricelli</td>\n",
       "      <td>2021-01-01</td>\n",
       "      <td>Animation, Comedy, Family</td>\n",
       "      <td>261</td>\n",
       "      <td>412</td>\n",
       "      <td>7.5</td>\n",
       "      <td>en</td>\n",
       "      <td>Animation, Comedy, Family, Fantasy</td>\n",
       "    </tr>\n",
       "    <tr>\n",
       "      <th>2</th>\n",
       "      <td>Enchanted</td>\n",
       "      <td>Movie</td>\n",
       "      <td>Amy Adams, Patrick Dempsey, James Marsden, Tim...</td>\n",
       "      <td>2007-01-01</td>\n",
       "      <td>Comedy, Family, Fantasy</td>\n",
       "      <td>54</td>\n",
       "      <td>4515</td>\n",
       "      <td>6.8</td>\n",
       "      <td>en</td>\n",
       "      <td>Comedy, Family, Fantasy, Romance</td>\n",
       "    </tr>\n",
       "    <tr>\n",
       "      <th>3</th>\n",
       "      <td>Frozen Fever</td>\n",
       "      <td>Movie</td>\n",
       "      <td>Kristen Bell, Idina Menzel, Jonathan Groff, Jo...</td>\n",
       "      <td>2015-01-01</td>\n",
       "      <td>Animation, Family, Fantasy</td>\n",
       "      <td>60</td>\n",
       "      <td>1602</td>\n",
       "      <td>6.8</td>\n",
       "      <td>en</td>\n",
       "      <td>Animation, Family, Adventure, Comedy</td>\n",
       "    </tr>\n",
       "    <tr>\n",
       "      <th>4</th>\n",
       "      <td>Home Sweet Home Alone</td>\n",
       "      <td>Movie</td>\n",
       "      <td>Ellie Kemper, Rob Delaney, Archie Yates, Aisli...</td>\n",
       "      <td>2021-01-01</td>\n",
       "      <td>Comedy, Family</td>\n",
       "      <td>143</td>\n",
       "      <td>375</td>\n",
       "      <td>5.2</td>\n",
       "      <td>en</td>\n",
       "      <td>Family, Comedy</td>\n",
       "    </tr>\n",
       "  </tbody>\n",
       "</table>\n",
       "</div>"
      ],
      "text/plain": [
       "                          title   type  \\\n",
       "0  Ice Age: A Mammoth Christmas  Movie   \n",
       "1                  Ciao Alberto  Movie   \n",
       "2                     Enchanted  Movie   \n",
       "3                  Frozen Fever  Movie   \n",
       "4         Home Sweet Home Alone  Movie   \n",
       "\n",
       "                                                cast release_year  \\\n",
       "0  Raymond Albert Romano, John Leguizamo, Denis L...   2011-01-01   \n",
       "1                Jack Dylan Grazer, Marco Barricelli   2021-01-01   \n",
       "2  Amy Adams, Patrick Dempsey, James Marsden, Tim...   2007-01-01   \n",
       "3  Kristen Bell, Idina Menzel, Jonathan Groff, Jo...   2015-01-01   \n",
       "4  Ellie Kemper, Rob Delaney, Archie Yates, Aisli...   2021-01-01   \n",
       "\n",
       "                    listed_in  Popularity  Vote_Count  Vote_Average  \\\n",
       "0   Animation, Comedy, Family          37         508           6.4   \n",
       "1   Animation, Comedy, Family         261         412           7.5   \n",
       "2     Comedy, Family, Fantasy          54        4515           6.8   \n",
       "3  Animation, Family, Fantasy          60        1602           6.8   \n",
       "4              Comedy, Family         143         375           5.2   \n",
       "\n",
       "  Original_Language                                 Genre  \n",
       "0                en           Animation, Family, TV Movie  \n",
       "1                en    Animation, Comedy, Family, Fantasy  \n",
       "2                en      Comedy, Family, Fantasy, Romance  \n",
       "3                en  Animation, Family, Adventure, Comedy  \n",
       "4                en                        Family, Comedy  "
      ]
     },
     "execution_count": 38,
     "metadata": {},
     "output_type": "execute_result"
    }
   ],
   "source": [
    "disney_common_titles.head()"
   ]
  },
  {
   "cell_type": "code",
   "execution_count": 39,
   "id": "1505f081",
   "metadata": {},
   "outputs": [
    {
     "name": "stdout",
     "output_type": "stream",
     "text": [
      "<class 'pandas.core.frame.DataFrame'>\n",
      "RangeIndex: 424 entries, 0 to 423\n",
      "Data columns (total 10 columns):\n",
      " #   Column             Non-Null Count  Dtype         \n",
      "---  ------             --------------  -----         \n",
      " 0   title              424 non-null    string        \n",
      " 1   type               424 non-null    string        \n",
      " 2   cast               418 non-null    string        \n",
      " 3   release_year       424 non-null    datetime64[ns]\n",
      " 4   listed_in          424 non-null    string        \n",
      " 5   Popularity         424 non-null    int32         \n",
      " 6   Vote_Count         424 non-null    int32         \n",
      " 7   Vote_Average       424 non-null    float64       \n",
      " 8   Original_Language  424 non-null    string        \n",
      " 9   Genre              424 non-null    string        \n",
      "dtypes: datetime64[ns](1), float64(1), int32(2), string(6)\n",
      "memory usage: 29.9 KB\n"
     ]
    }
   ],
   "source": [
    "disney_common_titles.info()"
   ]
  },
  {
   "cell_type": "code",
   "execution_count": 40,
   "id": "f7cdf34e",
   "metadata": {},
   "outputs": [
    {
     "data": {
      "text/plain": [
       "(424, 10)"
      ]
     },
     "execution_count": 40,
     "metadata": {},
     "output_type": "execute_result"
    }
   ],
   "source": [
    "disney_common_titles.shape"
   ]
  },
  {
   "cell_type": "markdown",
   "id": "032d49be",
   "metadata": {},
   "source": [
    "# Anzahl der Top 25% der populärsten Filme, die in verschiedenen Genres vertreten sind = 245"
   ]
  },
  {
   "cell_type": "code",
   "execution_count": 41,
   "id": "5ab973b5",
   "metadata": {
    "scrolled": true
   },
   "outputs": [
    {
     "name": "stdout",
     "output_type": "stream",
     "text": [
      "genres\n",
      "Animation           67\n",
      "Action-Adventure    58\n",
      "Family              57\n",
      "Comedy              39\n",
      "Fantasy             32\n",
      "Coming of Age       14\n",
      "Drama                8\n",
      "Buddy                7\n",
      "Science Fiction      6\n",
      "Musical              4\n",
      "Kids                 3\n",
      "Crime                2\n",
      "Romance              2\n",
      "Spy/Espionage        1\n",
      "Biographical         1\n",
      "Romantic Comedy      1\n",
      "Name: count, dtype: int64\n"
     ]
    }
   ],
   "source": [
    "# Teilen Sie die 'listed_in' Spalte in einzelne Genres auf\n",
    "disney_common_titles['genres'] = disney_common_titles['listed_in'].str.split(', ')\n",
    "\n",
    "# Expandieren Sie die Liste der Genres in separate Zeilen\n",
    "disney_expanded = disney_common_titles.explode('genres')\n",
    "\n",
    "# Sortieren Sie die Filme nach Popularität\n",
    "disney_sorted = disney_expanded.sort_values('Popularity', ascending=False)\n",
    "\n",
    "# Wählen Sie die Top 25% der Filme aus\n",
    "top_25_percent = disney_sorted.head(int(len(disney_sorted) * 0.25))\n",
    "\n",
    "# Zählen Sie die Anzahl der Filme in jedem Genre\n",
    "genre_counts = top_25_percent['genres'].value_counts()\n",
    "\n",
    "# Anzeigen der Ergebnisse\n",
    "print(genre_counts)"
   ]
  },
  {
   "cell_type": "code",
   "execution_count": 42,
   "id": "03f9c713",
   "metadata": {},
   "outputs": [
    {
     "data": {
      "image/png": "[encoded data removed]",
      "text/plain": [
       "<Figure size 1000x800 with 1 Axes>"
      ]
     },
     "metadata": {},
     "output_type": "display_data"
    }
   ],
   "source": [
    "genre_counts = {\"Animation\": 66, \"Action-Adventure\": 58, \"Family\": 58, \"Comedy\": 39, \n",
    "                \"Fantasy\": 32, \"Coming of Age\": 14, \"Drama\": 8, \"Buddy\": 7, \n",
    "                \"Science Fiction\": 6, \"Musical\": 4, \"Kids\": 3, \"Crime\": 2, \n",
    "                \"Romance\": 2, \"Spy/Espionage\": 1, \"Biographical\": 1, \"Romantic Comedy\": 1}\n",
    "\n",
    "# Erstellen Sie eine Liste von Genres und deren Zählungen\n",
    "genres = list(genre_counts.keys())\n",
    "counts = list(genre_counts.values())\n",
    "\n",
    "# Erstellen Sie eine Bar-Chart\n",
    "plt.figure(figsize=(10, 8))\n",
    "sns.barplot(x=counts, y=genres, palette='viridis')\n",
    "plt.xlabel('Anzahl der Filme')\n",
    "plt.ylabel('Genres')\n",
    "plt.title('Top 25% der populärsten Filme')\n",
    "plt.show()"
   ]
  },
  {
   "cell_type": "markdown",
   "id": "087c9020",
   "metadata": {},
   "source": [
    "# Amazon Prime Datensatz"
   ]
  },
  {
   "cell_type": "code",
   "execution_count": 43,
   "id": "fab1a80f",
   "metadata": {},
   "outputs": [],
   "source": [
    "amazon_data = pd.read_csv('./amazon_prime_titles.csv', engine='python')"
   ]
  },
  {
   "cell_type": "code",
   "execution_count": 44,
   "id": "a58f33b0",
   "metadata": {},
   "outputs": [
    {
     "data": {
      "text/html": [
       "<div>\n",
       "<style scoped>\n",
       "    .dataframe tbody tr th:only-of-type {\n",
       "        vertical-align: middle;\n",
       "    }\n",
       "\n",
       "    .dataframe tbody tr th {\n",
       "        vertical-align: top;\n",
       "    }\n",
       "\n",
       "    .dataframe thead th {\n",
       "        text-align: right;\n",
       "    }\n",
       "</style>\n",
       "<table border=\"1\" class=\"dataframe\">\n",
       "  <thead>\n",
       "    <tr style=\"text-align: right;\">\n",
       "      <th></th>\n",
       "      <th>type</th>\n",
       "      <th>title</th>\n",
       "      <th>cast</th>\n",
       "      <th>release_year</th>\n",
       "      <th>listed_in</th>\n",
       "    </tr>\n",
       "  </thead>\n",
       "  <tbody>\n",
       "    <tr>\n",
       "      <th>0</th>\n",
       "      <td>Movie</td>\n",
       "      <td>Duck the Halls: A Mickey Mouse Christmas Special</td>\n",
       "      <td>Chris Diamantopoulos, Tony Anselmo, Tress MacN...</td>\n",
       "      <td>2016-01-01</td>\n",
       "      <td>Animation, Family</td>\n",
       "    </tr>\n",
       "    <tr>\n",
       "      <th>1</th>\n",
       "      <td>Movie</td>\n",
       "      <td>Ernest Saves Christmas</td>\n",
       "      <td>Jim Varney, Noelle Parker, Douglas Seale</td>\n",
       "      <td>1988-01-01</td>\n",
       "      <td>Comedy</td>\n",
       "    </tr>\n",
       "    <tr>\n",
       "      <th>2</th>\n",
       "      <td>Movie</td>\n",
       "      <td>Ice Age: A Mammoth Christmas</td>\n",
       "      <td>Raymond Albert Romano, John Leguizamo, Denis L...</td>\n",
       "      <td>2011-01-01</td>\n",
       "      <td>Animation, Comedy, Family</td>\n",
       "    </tr>\n",
       "    <tr>\n",
       "      <th>3</th>\n",
       "      <td>Movie</td>\n",
       "      <td>The Queen Family Singalong</td>\n",
       "      <td>Darren Criss, Adam Lambert, Derek Hough, Alexa...</td>\n",
       "      <td>2021-01-01</td>\n",
       "      <td>Musical</td>\n",
       "    </tr>\n",
       "    <tr>\n",
       "      <th>5</th>\n",
       "      <td>Movie</td>\n",
       "      <td>Becoming Cousteau</td>\n",
       "      <td>Jacques Yves Cousteau, Vincent Cassel</td>\n",
       "      <td>2021-01-01</td>\n",
       "      <td>Biographical, Documentary</td>\n",
       "    </tr>\n",
       "  </tbody>\n",
       "</table>\n",
       "</div>"
      ],
      "text/plain": [
       "    type                                             title  \\\n",
       "0  Movie  Duck the Halls: A Mickey Mouse Christmas Special   \n",
       "1  Movie                            Ernest Saves Christmas   \n",
       "2  Movie                      Ice Age: A Mammoth Christmas   \n",
       "3  Movie                        The Queen Family Singalong   \n",
       "5  Movie                                 Becoming Cousteau   \n",
       "\n",
       "                                                cast release_year  \\\n",
       "0  Chris Diamantopoulos, Tony Anselmo, Tress MacN...   2016-01-01   \n",
       "1           Jim Varney, Noelle Parker, Douglas Seale   1988-01-01   \n",
       "2  Raymond Albert Romano, John Leguizamo, Denis L...   2011-01-01   \n",
       "3  Darren Criss, Adam Lambert, Derek Hough, Alexa...   2021-01-01   \n",
       "5              Jacques Yves Cousteau, Vincent Cassel   2021-01-01   \n",
       "\n",
       "                   listed_in  \n",
       "0          Animation, Family  \n",
       "1                     Comedy  \n",
       "2  Animation, Comedy, Family  \n",
       "3                    Musical  \n",
       "5  Biographical, Documentary  "
      ]
     },
     "execution_count": 44,
     "metadata": {},
     "output_type": "execute_result"
    }
   ],
   "source": [
    "disney_data.head()"
   ]
  },
  {
   "cell_type": "code",
   "execution_count": 45,
   "id": "c76c51d9",
   "metadata": {},
   "outputs": [
    {
     "name": "stdout",
     "output_type": "stream",
     "text": [
      "<class 'pandas.core.frame.DataFrame'>\n",
      "RangeIndex: 9668 entries, 0 to 9667\n",
      "Data columns (total 12 columns):\n",
      " #   Column        Non-Null Count  Dtype \n",
      "---  ------        --------------  ----- \n",
      " 0   show_id       9668 non-null   object\n",
      " 1   type          9668 non-null   object\n",
      " 2   title         9668 non-null   object\n",
      " 3   director      7585 non-null   object\n",
      " 4   cast          8435 non-null   object\n",
      " 5   country       672 non-null    object\n",
      " 6   date_added    155 non-null    object\n",
      " 7   release_year  9668 non-null   int64 \n",
      " 8   rating        9331 non-null   object\n",
      " 9   duration      9668 non-null   object\n",
      " 10  listed_in     9668 non-null   object\n",
      " 11  description   9668 non-null   object\n",
      "dtypes: int64(1), object(11)\n",
      "memory usage: 906.5+ KB\n"
     ]
    }
   ],
   "source": [
    "amazon_data.info()"
   ]
  },
  {
   "cell_type": "code",
   "execution_count": 46,
   "id": "20ff6ba3",
   "metadata": {},
   "outputs": [],
   "source": [
    "amazon_data = amazon_data.dropna()"
   ]
  },
  {
   "cell_type": "code",
   "execution_count": 47,
   "id": "ddaecd75",
   "metadata": {},
   "outputs": [],
   "source": [
    "column_types_amazon = {'title':'string', 'type':'string', 'cast':'string' , 'listed_in':'string'}\n",
    "\n",
    "amazon_data = pd.read_csv('./amazon_prime_titles.csv', engine='python', dtype=column_types_amazon)\n",
    "amazon_data = amazon_data.drop(columns=['show_id', 'director', 'country', 'duration', 'description', 'date_added' , 'rating'])"
   ]
  },
  {
   "cell_type": "code",
   "execution_count": 48,
   "id": "5637bf5d",
   "metadata": {},
   "outputs": [],
   "source": [
    "amazon_data['release_year'] = pd.to_datetime(amazon_data['release_year'], format = '%Y')"
   ]
  },
  {
   "cell_type": "code",
   "execution_count": 49,
   "id": "ac0d6382",
   "metadata": {},
   "outputs": [
    {
     "name": "stdout",
     "output_type": "stream",
     "text": [
      "<class 'pandas.core.frame.DataFrame'>\n",
      "RangeIndex: 9668 entries, 0 to 9667\n",
      "Data columns (total 5 columns):\n",
      " #   Column        Non-Null Count  Dtype         \n",
      "---  ------        --------------  -----         \n",
      " 0   type          9668 non-null   string        \n",
      " 1   title         9668 non-null   string        \n",
      " 2   cast          8435 non-null   string        \n",
      " 3   release_year  9668 non-null   datetime64[ns]\n",
      " 4   listed_in     9668 non-null   string        \n",
      "dtypes: datetime64[ns](1), string(4)\n",
      "memory usage: 377.8 KB\n"
     ]
    }
   ],
   "source": [
    "amazon_data.info()"
   ]
  },
  {
   "cell_type": "code",
   "execution_count": 50,
   "id": "d1a1df79",
   "metadata": {},
   "outputs": [
    {
     "data": {
      "text/html": [
       "<div>\n",
       "<style scoped>\n",
       "    .dataframe tbody tr th:only-of-type {\n",
       "        vertical-align: middle;\n",
       "    }\n",
       "\n",
       "    .dataframe tbody tr th {\n",
       "        vertical-align: top;\n",
       "    }\n",
       "\n",
       "    .dataframe thead th {\n",
       "        text-align: right;\n",
       "    }\n",
       "</style>\n",
       "<table border=\"1\" class=\"dataframe\">\n",
       "  <thead>\n",
       "    <tr style=\"text-align: right;\">\n",
       "      <th></th>\n",
       "      <th>type</th>\n",
       "      <th>title</th>\n",
       "      <th>cast</th>\n",
       "      <th>release_year</th>\n",
       "      <th>listed_in</th>\n",
       "    </tr>\n",
       "  </thead>\n",
       "  <tbody>\n",
       "    <tr>\n",
       "      <th>0</th>\n",
       "      <td>Movie</td>\n",
       "      <td>The Grand Seduction</td>\n",
       "      <td>Brendan Gleeson, Taylor Kitsch, Gordon Pinsent</td>\n",
       "      <td>2014-01-01</td>\n",
       "      <td>Comedy, Drama</td>\n",
       "    </tr>\n",
       "    <tr>\n",
       "      <th>1</th>\n",
       "      <td>Movie</td>\n",
       "      <td>Take Care Good Night</td>\n",
       "      <td>Mahesh Manjrekar, Abhay Mahajan, Sachin Khedekar</td>\n",
       "      <td>2018-01-01</td>\n",
       "      <td>Drama, International</td>\n",
       "    </tr>\n",
       "    <tr>\n",
       "      <th>2</th>\n",
       "      <td>Movie</td>\n",
       "      <td>Secrets of Deception</td>\n",
       "      <td>Tom Sizemore, Lorenzo Lamas, Robert LaSardo, R...</td>\n",
       "      <td>2017-01-01</td>\n",
       "      <td>Action, Drama, Suspense</td>\n",
       "    </tr>\n",
       "    <tr>\n",
       "      <th>3</th>\n",
       "      <td>Movie</td>\n",
       "      <td>Pink: Staying True</td>\n",
       "      <td>Interviews with: Pink, Adele, Beyoncé, Britney...</td>\n",
       "      <td>2014-01-01</td>\n",
       "      <td>Documentary</td>\n",
       "    </tr>\n",
       "    <tr>\n",
       "      <th>4</th>\n",
       "      <td>Movie</td>\n",
       "      <td>Monster Maker</td>\n",
       "      <td>Harry Dean Stanton, Kieran O'Brien, George Cos...</td>\n",
       "      <td>1989-01-01</td>\n",
       "      <td>Drama, Fantasy</td>\n",
       "    </tr>\n",
       "  </tbody>\n",
       "</table>\n",
       "</div>"
      ],
      "text/plain": [
       "    type                 title  \\\n",
       "0  Movie   The Grand Seduction   \n",
       "1  Movie  Take Care Good Night   \n",
       "2  Movie  Secrets of Deception   \n",
       "3  Movie    Pink: Staying True   \n",
       "4  Movie         Monster Maker   \n",
       "\n",
       "                                                cast release_year  \\\n",
       "0     Brendan Gleeson, Taylor Kitsch, Gordon Pinsent   2014-01-01   \n",
       "1   Mahesh Manjrekar, Abhay Mahajan, Sachin Khedekar   2018-01-01   \n",
       "2  Tom Sizemore, Lorenzo Lamas, Robert LaSardo, R...   2017-01-01   \n",
       "3  Interviews with: Pink, Adele, Beyoncé, Britney...   2014-01-01   \n",
       "4  Harry Dean Stanton, Kieran O'Brien, George Cos...   1989-01-01   \n",
       "\n",
       "                 listed_in  \n",
       "0            Comedy, Drama  \n",
       "1     Drama, International  \n",
       "2  Action, Drama, Suspense  \n",
       "3              Documentary  \n",
       "4           Drama, Fantasy  "
      ]
     },
     "execution_count": 50,
     "metadata": {},
     "output_type": "execute_result"
    }
   ],
   "source": [
    "amazon_data.head()"
   ]
  },
  {
   "cell_type": "code",
   "execution_count": 51,
   "id": "232123d6",
   "metadata": {},
   "outputs": [
    {
     "data": {
      "text/plain": [
       "array(['Movie', 'TV Show'], dtype=object)"
      ]
     },
     "execution_count": 51,
     "metadata": {},
     "output_type": "execute_result"
    }
   ],
   "source": [
    "np.unique(amazon_data['type'])"
   ]
  },
  {
   "cell_type": "code",
   "execution_count": 52,
   "id": "eefa3209",
   "metadata": {},
   "outputs": [],
   "source": [
    "amazon_data = amazon_data[amazon_data['type'] != 'TV Show']"
   ]
  },
  {
   "cell_type": "code",
   "execution_count": 53,
   "id": "18c16a19",
   "metadata": {},
   "outputs": [],
   "source": [
    "amazon_common_titles = pd.merge(amazon_data, train_data_clean, how='inner', left_on='title', right_on='Title')\n",
    "\n",
    "# Behalten Sie nur die benötigten Spalten\n",
    "amazon_common_titles = amazon_common_titles[['title', 'type', 'cast', 'release_year', 'listed_in', 'Popularity', 'Vote_Count', 'Vote_Average', 'Original_Language', 'Genre']]"
   ]
  },
  {
   "cell_type": "code",
   "execution_count": 54,
   "id": "1dc40ed0",
   "metadata": {},
   "outputs": [
    {
     "data": {
      "text/html": [
       "<div>\n",
       "<style scoped>\n",
       "    .dataframe tbody tr th:only-of-type {\n",
       "        vertical-align: middle;\n",
       "    }\n",
       "\n",
       "    .dataframe tbody tr th {\n",
       "        vertical-align: top;\n",
       "    }\n",
       "\n",
       "    .dataframe thead th {\n",
       "        text-align: right;\n",
       "    }\n",
       "</style>\n",
       "<table border=\"1\" class=\"dataframe\">\n",
       "  <thead>\n",
       "    <tr style=\"text-align: right;\">\n",
       "      <th></th>\n",
       "      <th>title</th>\n",
       "      <th>type</th>\n",
       "      <th>cast</th>\n",
       "      <th>release_year</th>\n",
       "      <th>listed_in</th>\n",
       "      <th>Popularity</th>\n",
       "      <th>Vote_Count</th>\n",
       "      <th>Vote_Average</th>\n",
       "      <th>Original_Language</th>\n",
       "      <th>Genre</th>\n",
       "    </tr>\n",
       "  </thead>\n",
       "  <tbody>\n",
       "    <tr>\n",
       "      <th>0</th>\n",
       "      <td>Where Hands Touch</td>\n",
       "      <td>Movie</td>\n",
       "      <td>Amandla Stenberg, George McKay, Abbie Cornish</td>\n",
       "      <td>2019-01-01</td>\n",
       "      <td>Drama, Young Adult Audience</td>\n",
       "      <td>14</td>\n",
       "      <td>420</td>\n",
       "      <td>8.1</td>\n",
       "      <td>en</td>\n",
       "      <td>War, Drama, Romance</td>\n",
       "    </tr>\n",
       "    <tr>\n",
       "      <th>1</th>\n",
       "      <td>We Need to Talk About Kevin</td>\n",
       "      <td>Movie</td>\n",
       "      <td>Tilda Swinton, John C. Reilly, Ezra Miller</td>\n",
       "      <td>2012-01-01</td>\n",
       "      <td>Drama, Horror, Suspense</td>\n",
       "      <td>17</td>\n",
       "      <td>2178</td>\n",
       "      <td>7.6</td>\n",
       "      <td>en</td>\n",
       "      <td>Drama, Thriller</td>\n",
       "    </tr>\n",
       "    <tr>\n",
       "      <th>2</th>\n",
       "      <td>War of Likes</td>\n",
       "      <td>Movie</td>\n",
       "      <td>Ludwika Paleta, Regina Blandón, Manolo Cardona...</td>\n",
       "      <td>2021-01-01</td>\n",
       "      <td>Comedy</td>\n",
       "      <td>53</td>\n",
       "      <td>224</td>\n",
       "      <td>7.8</td>\n",
       "      <td>es</td>\n",
       "      <td>Comedy</td>\n",
       "    </tr>\n",
       "    <tr>\n",
       "      <th>3</th>\n",
       "      <td>Virus</td>\n",
       "      <td>Movie</td>\n",
       "      <td>Revathy, Kunchako Boban, Parvathy Thiruvoth</td>\n",
       "      <td>2019-01-01</td>\n",
       "      <td>Drama, Science Fiction, Suspense</td>\n",
       "      <td>14</td>\n",
       "      <td>442</td>\n",
       "      <td>5.3</td>\n",
       "      <td>en</td>\n",
       "      <td>Horror, Action, Science Fiction</td>\n",
       "    </tr>\n",
       "    <tr>\n",
       "      <th>4</th>\n",
       "      <td>Underdogs</td>\n",
       "      <td>Movie</td>\n",
       "      <td>D. B. Sweeney, Logan Huffman, Charlie Carver, ...</td>\n",
       "      <td>2013-01-01</td>\n",
       "      <td>Sports</td>\n",
       "      <td>43</td>\n",
       "      <td>340</td>\n",
       "      <td>6.5</td>\n",
       "      <td>es</td>\n",
       "      <td>Animation, Adventure, Romance</td>\n",
       "    </tr>\n",
       "  </tbody>\n",
       "</table>\n",
       "</div>"
      ],
      "text/plain": [
       "                         title   type  \\\n",
       "0            Where Hands Touch  Movie   \n",
       "1  We Need to Talk About Kevin  Movie   \n",
       "2                 War of Likes  Movie   \n",
       "3                        Virus  Movie   \n",
       "4                    Underdogs  Movie   \n",
       "\n",
       "                                                cast release_year  \\\n",
       "0      Amandla Stenberg, George McKay, Abbie Cornish   2019-01-01   \n",
       "1         Tilda Swinton, John C. Reilly, Ezra Miller   2012-01-01   \n",
       "2  Ludwika Paleta, Regina Blandón, Manolo Cardona...   2021-01-01   \n",
       "3        Revathy, Kunchako Boban, Parvathy Thiruvoth   2019-01-01   \n",
       "4  D. B. Sweeney, Logan Huffman, Charlie Carver, ...   2013-01-01   \n",
       "\n",
       "                          listed_in  Popularity  Vote_Count  Vote_Average  \\\n",
       "0       Drama, Young Adult Audience          14         420           8.1   \n",
       "1           Drama, Horror, Suspense          17        2178           7.6   \n",
       "2                            Comedy          53         224           7.8   \n",
       "3  Drama, Science Fiction, Suspense          14         442           5.3   \n",
       "4                            Sports          43         340           6.5   \n",
       "\n",
       "  Original_Language                            Genre  \n",
       "0                en              War, Drama, Romance  \n",
       "1                en                  Drama, Thriller  \n",
       "2                es                           Comedy  \n",
       "3                en  Horror, Action, Science Fiction  \n",
       "4                es    Animation, Adventure, Romance  "
      ]
     },
     "execution_count": 54,
     "metadata": {},
     "output_type": "execute_result"
    }
   ],
   "source": [
    "amazon_common_titles.head()"
   ]
  },
  {
   "cell_type": "code",
   "execution_count": 55,
   "id": "ba02f0e1",
   "metadata": {},
   "outputs": [
    {
     "name": "stdout",
     "output_type": "stream",
     "text": [
      "<class 'pandas.core.frame.DataFrame'>\n",
      "RangeIndex: 681 entries, 0 to 680\n",
      "Data columns (total 10 columns):\n",
      " #   Column             Non-Null Count  Dtype         \n",
      "---  ------             --------------  -----         \n",
      " 0   title              681 non-null    string        \n",
      " 1   type               681 non-null    string        \n",
      " 2   cast               669 non-null    string        \n",
      " 3   release_year       681 non-null    datetime64[ns]\n",
      " 4   listed_in          681 non-null    string        \n",
      " 5   Popularity         681 non-null    int32         \n",
      " 6   Vote_Count         681 non-null    int32         \n",
      " 7   Vote_Average       681 non-null    float64       \n",
      " 8   Original_Language  681 non-null    string        \n",
      " 9   Genre              681 non-null    string        \n",
      "dtypes: datetime64[ns](1), float64(1), int32(2), string(6)\n",
      "memory usage: 48.0 KB\n"
     ]
    }
   ],
   "source": [
    "amazon_common_titles.info()"
   ]
  },
  {
   "cell_type": "code",
   "execution_count": 56,
   "id": "8c578605",
   "metadata": {},
   "outputs": [
    {
     "data": {
      "text/plain": [
       "(681, 10)"
      ]
     },
     "execution_count": 56,
     "metadata": {},
     "output_type": "execute_result"
    }
   ],
   "source": [
    "amazon_common_titles.shape"
   ]
  },
  {
   "cell_type": "markdown",
   "id": "0f442a38",
   "metadata": {},
   "source": [
    "# Anzahl der Top 25% der populärsten Filme, die in verschiedenen Genres vertreten sind = 377"
   ]
  },
  {
   "cell_type": "code",
   "execution_count": 57,
   "id": "4a404497",
   "metadata": {},
   "outputs": [
    {
     "name": "stdout",
     "output_type": "stream",
     "text": [
      "genres\n",
      "Drama                   69\n",
      "Action                  60\n",
      "Suspense                57\n",
      "Comedy                  37\n",
      "Horror                  28\n",
      "Science Fiction         19\n",
      "Kids                    13\n",
      "Adventure                8\n",
      "Romance                  7\n",
      "Fantasy                  6\n",
      "Sports                   5\n",
      "Animation                5\n",
      "International            3\n",
      "Documentary              3\n",
      "Young Adult Audience     3\n",
      "and Culture              3\n",
      "Arts                     3\n",
      "Entertainment            3\n",
      "Special Interest         2\n",
      "Arthouse                 1\n",
      "Military and War         1\n",
      "LGBTQ                    1\n",
      "Name: count, dtype: int64\n"
     ]
    }
   ],
   "source": [
    "# Teilen Sie die 'listed_in' Spalte in einzelne Genres auf\n",
    "amazon_common_titles['genres'] = amazon_common_titles['listed_in'].str.split(', ')\n",
    "\n",
    "# Expandieren Sie die Liste der Genres in separate Zeilen\n",
    "amazon_expanded = amazon_common_titles.explode('genres')\n",
    "\n",
    "# Sortieren Sie die Filme nach Popularität\n",
    "amazon_sorted = amazon_expanded.sort_values('Popularity', ascending=False)\n",
    "\n",
    "# Wählen Sie die Top 25% der Filme aus\n",
    "top_25_percent = amazon_sorted.head(int(len(amazon_sorted) * 0.25))\n",
    "\n",
    "# Zählen Sie die Anzahl der Filme in jedem Genre\n",
    "genre_counts = top_25_percent['genres'].value_counts()\n",
    "\n",
    "# Anzeigen der Ergebnisse\n",
    "print(genre_counts)"
   ]
  },
  {
   "cell_type": "code",
   "execution_count": 58,
   "id": "5e315e77",
   "metadata": {},
   "outputs": [
    {
     "data": {
      "image/png": "[encoded data removed]",
      "text/plain": [
       "<Figure size 1000x800 with 1 Axes>"
      ]
     },
     "metadata": {},
     "output_type": "display_data"
    }
   ],
   "source": [
    "import seaborn as sns\n",
    "\n",
    "# Ihre Genre-Zählungen\n",
    "genre_counts = {\"Drama\": 70, \"Action\": 60, \"Suspense\": 56, \"Comedy\": 37, \"Horror\": 28, \n",
    "                \"Science Fiction\": 19, \"Kids\": 13, \"Adventure\": 9, \"Romance\": 6, \n",
    "                \"Fantasy\": 6, \"Sports\": 5, \"Animation\": 5, \"International\": 3, \n",
    "                \"Documentary\": 3, \"Young Adult Audience\": 3, \"Entertainment\": 3, \n",
    "                \"and Culture\": 3, \"Arts\": 3, \"Special Interest\": 2, \"Arthouse\": 1, \n",
    "                \"Military and War\": 1, \"LGBTQ\": 1}\n",
    "\n",
    "# Erstellen Sie eine Liste von Genres und deren Zählungen\n",
    "genres = list(genre_counts.keys())\n",
    "counts = list(genre_counts.values())\n",
    "\n",
    "# Erstellen Sie eine Bar-Chart\n",
    "plt.figure(figsize=(10, 8))\n",
    "sns.barplot(x=counts, y=genres, palette='viridis')\n",
    "plt.xlabel('Anzahl der Filme')\n",
    "plt.ylabel('Genres')\n",
    "plt.title('Top 25% der populärsten Filme')\n",
    "plt.show()"
   ]
  },
  {
   "cell_type": "code",
   "execution_count": null,
   "id": "c64e5e4d",
   "metadata": {},
   "outputs": [],
   "source": []
  }
 ],
 "metadata": {
  "kernelspec": {
   "display_name": "Python 3 (ipykernel)",
   "language": "python",
   "name": "python3"
  },
  "language_info": {
   "codemirror_mode": {
    "name": "ipython",
    "version": 3
   },
   "file_extension": ".py",
   "mimetype": "text/x-python",
   "name": "python",
   "nbconvert_exporter": "python",
   "pygments_lexer": "ipython3",
   "version": "3.11.5"
  }
 },
 "nbformat": 4,
 "nbformat_minor": 5
}
