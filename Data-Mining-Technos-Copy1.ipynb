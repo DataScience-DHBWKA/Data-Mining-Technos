{
 "cells": [
  {
   "cell_type": "code",
   "execution_count": 30,
   "id": "5e55b200",
   "metadata": {},
   "outputs": [],
   "source": [
    "import numpy as np # linear algebra\n",
    "import pandas as pd # data processing\n",
    "import seaborn as sns # Plots\n",
    "import matplotlib.pyplot as plt # Plots "
   ]
  },
  {
   "cell_type": "code",
   "execution_count": 3,
   "id": "84b5826c",
   "metadata": {
    "scrolled": true
   },
   "outputs": [],
   "source": [
    "train_data = pd.read_csv('./mymoviedb.csv', engine='python')"
   ]
  },
  {
   "cell_type": "code",
   "execution_count": 4,
   "id": "135ff889",
   "metadata": {
    "scrolled": false
   },
   "outputs": [
    {
     "name": "stdout",
     "output_type": "stream",
     "text": [
      "<class 'pandas.core.frame.DataFrame'>\n",
      "RangeIndex: 9837 entries, 0 to 9836\n",
      "Data columns (total 9 columns):\n",
      " #   Column             Non-Null Count  Dtype  \n",
      "---  ------             --------------  -----  \n",
      " 0   Release_Date       9837 non-null   object \n",
      " 1   Title              9828 non-null   object \n",
      " 2   Overview           9828 non-null   object \n",
      " 3   Popularity         9827 non-null   float64\n",
      " 4   Vote_Count         9827 non-null   object \n",
      " 5   Vote_Average       9827 non-null   object \n",
      " 6   Original_Language  9827 non-null   object \n",
      " 7   Genre              9826 non-null   object \n",
      " 8   Poster_Url         9826 non-null   object \n",
      "dtypes: float64(1), object(8)\n",
      "memory usage: 691.8+ KB\n"
     ]
    }
   ],
   "source": [
    "train_data.info()"
   ]
  },
  {
   "cell_type": "code",
   "execution_count": 5,
   "id": "53ce3551",
   "metadata": {},
   "outputs": [
    {
     "data": {
      "text/plain": [
       "(9837, 9)"
      ]
     },
     "execution_count": 5,
     "metadata": {},
     "output_type": "execute_result"
    }
   ],
   "source": [
    "train_data.shape"
   ]
  },
  {
   "cell_type": "code",
   "execution_count": 6,
   "id": "fe0682eb",
   "metadata": {},
   "outputs": [],
   "source": [
    "column_types = {'Title':'string', 'Overview':'string', 'Original_Language':'string'}\n",
    "\n",
    "train_data_clean = pd.read_csv('./mymoviedb.csv', engine='python', dtype=column_types)"
   ]
  },
  {
   "cell_type": "code",
   "execution_count": 7,
   "id": "58b065ca",
   "metadata": {
    "scrolled": false
   },
   "outputs": [
    {
     "name": "stdout",
     "output_type": "stream",
     "text": [
      "<class 'pandas.core.frame.DataFrame'>\n",
      "RangeIndex: 9837 entries, 0 to 9836\n",
      "Data columns (total 9 columns):\n",
      " #   Column             Non-Null Count  Dtype  \n",
      "---  ------             --------------  -----  \n",
      " 0   Release_Date       9837 non-null   object \n",
      " 1   Title              9828 non-null   object \n",
      " 2   Overview           9828 non-null   object \n",
      " 3   Popularity         9827 non-null   float64\n",
      " 4   Vote_Count         9827 non-null   object \n",
      " 5   Vote_Average       9827 non-null   object \n",
      " 6   Original_Language  9827 non-null   object \n",
      " 7   Genre              9826 non-null   object \n",
      " 8   Poster_Url         9826 non-null   object \n",
      "dtypes: float64(1), object(8)\n",
      "memory usage: 691.8+ KB\n"
     ]
    }
   ],
   "source": [
    "train_data.info()"
   ]
  },
  {
   "cell_type": "code",
   "execution_count": 8,
   "id": "46875c2f",
   "metadata": {},
   "outputs": [],
   "source": [
    "train_data_clean = train_data_clean.drop(columns=['Poster_Url'])"
   ]
  },
  {
   "cell_type": "code",
   "execution_count": 9,
   "id": "dc63dd3d",
   "metadata": {},
   "outputs": [],
   "source": [
    "train_data_clean = train_data_clean.drop(columns=['Overview'])"
   ]
  },
  {
   "cell_type": "code",
   "execution_count": 10,
   "id": "7edda4ff",
   "metadata": {},
   "outputs": [],
   "source": [
    "train_data_clean = train_data_clean.dropna()"
   ]
  },
  {
   "cell_type": "code",
   "execution_count": 32,
   "id": "b7aebf0f",
   "metadata": {},
   "outputs": [],
   "source": [
    "train_data_clean[\"Popularity_Voting\"] = train_data_clean[\"Popularity\"] * (train_data_clean[\"Vote_Average\"] * train_data_clean[\"Vote_Average\"])"
   ]
  },
  {
   "cell_type": "code",
   "execution_count": 33,
   "id": "4e4e6ba6",
   "metadata": {
    "scrolled": false
   },
   "outputs": [
    {
     "data": {
      "text/html": [
       "<div>\n",
       "<style scoped>\n",
       "    .dataframe tbody tr th:only-of-type {\n",
       "        vertical-align: middle;\n",
       "    }\n",
       "\n",
       "    .dataframe tbody tr th {\n",
       "        vertical-align: top;\n",
       "    }\n",
       "\n",
       "    .dataframe thead th {\n",
       "        text-align: right;\n",
       "    }\n",
       "</style>\n",
       "<table border=\"1\" class=\"dataframe\">\n",
       "  <thead>\n",
       "    <tr style=\"text-align: right;\">\n",
       "      <th></th>\n",
       "      <th>Release_Date</th>\n",
       "      <th>Title</th>\n",
       "      <th>Popularity</th>\n",
       "      <th>Vote_Count</th>\n",
       "      <th>Vote_Average</th>\n",
       "      <th>Original_Language</th>\n",
       "      <th>Genre</th>\n",
       "      <th>Popularity_Voting</th>\n",
       "    </tr>\n",
       "  </thead>\n",
       "  <tbody>\n",
       "    <tr>\n",
       "      <th>0</th>\n",
       "      <td>2021-12-15</td>\n",
       "      <td>Spider-Man: No Way Home</td>\n",
       "      <td>5083.954</td>\n",
       "      <td>8940</td>\n",
       "      <td>8.3</td>\n",
       "      <td>en</td>\n",
       "      <td>Action, Adventure, Science Fiction</td>\n",
       "      <td>350233.59106</td>\n",
       "    </tr>\n",
       "    <tr>\n",
       "      <th>1</th>\n",
       "      <td>2022-03-01</td>\n",
       "      <td>The Batman</td>\n",
       "      <td>3827.658</td>\n",
       "      <td>1151</td>\n",
       "      <td>8.1</td>\n",
       "      <td>en</td>\n",
       "      <td>Crime, Mystery, Thriller</td>\n",
       "      <td>251132.64138</td>\n",
       "    </tr>\n",
       "    <tr>\n",
       "      <th>2</th>\n",
       "      <td>2022-02-25</td>\n",
       "      <td>No Exit</td>\n",
       "      <td>2618.087</td>\n",
       "      <td>122</td>\n",
       "      <td>6.3</td>\n",
       "      <td>en</td>\n",
       "      <td>Thriller</td>\n",
       "      <td>103911.87303</td>\n",
       "    </tr>\n",
       "    <tr>\n",
       "      <th>3</th>\n",
       "      <td>2021-11-24</td>\n",
       "      <td>Encanto</td>\n",
       "      <td>2402.201</td>\n",
       "      <td>5076</td>\n",
       "      <td>7.7</td>\n",
       "      <td>en</td>\n",
       "      <td>Animation, Comedy, Family, Fantasy</td>\n",
       "      <td>142426.49729</td>\n",
       "    </tr>\n",
       "    <tr>\n",
       "      <th>4</th>\n",
       "      <td>2021-12-22</td>\n",
       "      <td>The King's Man</td>\n",
       "      <td>1895.511</td>\n",
       "      <td>1793</td>\n",
       "      <td>7.0</td>\n",
       "      <td>en</td>\n",
       "      <td>Action, Adventure, Thriller, War</td>\n",
       "      <td>92880.03900</td>\n",
       "    </tr>\n",
       "  </tbody>\n",
       "</table>\n",
       "</div>"
      ],
      "text/plain": [
       "  Release_Date                    Title  Popularity  Vote_Count  Vote_Average  \\\n",
       "0   2021-12-15  Spider-Man: No Way Home    5083.954        8940           8.3   \n",
       "1   2022-03-01               The Batman    3827.658        1151           8.1   \n",
       "2   2022-02-25                  No Exit    2618.087         122           6.3   \n",
       "3   2021-11-24                  Encanto    2402.201        5076           7.7   \n",
       "4   2021-12-22           The King's Man    1895.511        1793           7.0   \n",
       "\n",
       "  Original_Language                               Genre  Popularity_Voting  \n",
       "0                en  Action, Adventure, Science Fiction       350233.59106  \n",
       "1                en            Crime, Mystery, Thriller       251132.64138  \n",
       "2                en                            Thriller       103911.87303  \n",
       "3                en  Animation, Comedy, Family, Fantasy       142426.49729  \n",
       "4                en    Action, Adventure, Thriller, War        92880.03900  "
      ]
     },
     "execution_count": 33,
     "metadata": {},
     "output_type": "execute_result"
    }
   ],
   "source": [
    "train_data_clean.head()"
   ]
  },
  {
   "cell_type": "markdown",
   "id": "6ccc22e5",
   "metadata": {},
   "source": [
    "# Output Variable\n",
    "    Genre\n",
    "# Inputvariable\n",
    "    Rest"
   ]
  },
  {
   "cell_type": "code",
   "execution_count": 12,
   "id": "f82d3d84",
   "metadata": {},
   "outputs": [
    {
     "data": {
      "text/plain": [
       "(9826, 7)"
      ]
     },
     "execution_count": 12,
     "metadata": {},
     "output_type": "execute_result"
    }
   ],
   "source": [
    "train_data_clean.shape"
   ]
  },
  {
   "cell_type": "code",
   "execution_count": 13,
   "id": "ebf6949c",
   "metadata": {
    "scrolled": true
   },
   "outputs": [
    {
     "name": "stdout",
     "output_type": "stream",
     "text": [
      "Release_Date          0\n",
      "Title                 9\n",
      "Overview              9\n",
      "Popularity           10\n",
      "Vote_Count           10\n",
      "Vote_Average         10\n",
      "Original_Language    10\n",
      "Genre                11\n",
      "Poster_Url           11\n",
      "dtype: int64\n"
     ]
    }
   ],
   "source": [
    "print(train_data.isnull().sum())"
   ]
  },
  {
   "cell_type": "code",
   "execution_count": 14,
   "id": "1a143f3c",
   "metadata": {},
   "outputs": [
    {
     "name": "stdout",
     "output_type": "stream",
     "text": [
      "Release_Date         0\n",
      "Title                0\n",
      "Popularity           0\n",
      "Vote_Count           0\n",
      "Vote_Average         0\n",
      "Original_Language    0\n",
      "Genre                0\n",
      "dtype: int64\n"
     ]
    }
   ],
   "source": [
    "print(train_data_clean.isnull().sum())"
   ]
  },
  {
   "cell_type": "code",
   "execution_count": 15,
   "id": "728952ec",
   "metadata": {
    "scrolled": false
   },
   "outputs": [
    {
     "data": {
      "text/html": [
       "<div>\n",
       "<style scoped>\n",
       "    .dataframe tbody tr th:only-of-type {\n",
       "        vertical-align: middle;\n",
       "    }\n",
       "\n",
       "    .dataframe tbody tr th {\n",
       "        vertical-align: top;\n",
       "    }\n",
       "\n",
       "    .dataframe thead th {\n",
       "        text-align: right;\n",
       "    }\n",
       "</style>\n",
       "<table border=\"1\" class=\"dataframe\">\n",
       "  <thead>\n",
       "    <tr style=\"text-align: right;\">\n",
       "      <th></th>\n",
       "      <th>Release_Date</th>\n",
       "      <th>Title</th>\n",
       "      <th>Overview</th>\n",
       "      <th>Popularity</th>\n",
       "      <th>Vote_Count</th>\n",
       "      <th>Vote_Average</th>\n",
       "      <th>Original_Language</th>\n",
       "      <th>Genre</th>\n",
       "      <th>Poster_Url</th>\n",
       "    </tr>\n",
       "  </thead>\n",
       "  <tbody>\n",
       "    <tr>\n",
       "      <th>count</th>\n",
       "      <td>9837</td>\n",
       "      <td>9828</td>\n",
       "      <td>9828</td>\n",
       "      <td>9827.000000</td>\n",
       "      <td>9827</td>\n",
       "      <td>9827</td>\n",
       "      <td>9827</td>\n",
       "      <td>9826</td>\n",
       "      <td>9826</td>\n",
       "    </tr>\n",
       "    <tr>\n",
       "      <th>unique</th>\n",
       "      <td>5903</td>\n",
       "      <td>9514</td>\n",
       "      <td>9823</td>\n",
       "      <td>NaN</td>\n",
       "      <td>3267</td>\n",
       "      <td>75</td>\n",
       "      <td>44</td>\n",
       "      <td>2337</td>\n",
       "      <td>9826</td>\n",
       "    </tr>\n",
       "    <tr>\n",
       "      <th>top</th>\n",
       "      <td>2022-03-10</td>\n",
       "      <td>Beauty and the Beast</td>\n",
       "      <td>Dr. Raichi is one of the only survivors of the...</td>\n",
       "      <td>NaN</td>\n",
       "      <td>0</td>\n",
       "      <td>6.4</td>\n",
       "      <td>en</td>\n",
       "      <td>Drama</td>\n",
       "      <td>https://image.tmdb.org/t/p/original/1g0dhYtq4i...</td>\n",
       "    </tr>\n",
       "    <tr>\n",
       "      <th>freq</th>\n",
       "      <td>16</td>\n",
       "      <td>4</td>\n",
       "      <td>2</td>\n",
       "      <td>NaN</td>\n",
       "      <td>100</td>\n",
       "      <td>435</td>\n",
       "      <td>7569</td>\n",
       "      <td>466</td>\n",
       "      <td>1</td>\n",
       "    </tr>\n",
       "    <tr>\n",
       "      <th>mean</th>\n",
       "      <td>NaN</td>\n",
       "      <td>NaN</td>\n",
       "      <td>NaN</td>\n",
       "      <td>40.320570</td>\n",
       "      <td>NaN</td>\n",
       "      <td>NaN</td>\n",
       "      <td>NaN</td>\n",
       "      <td>NaN</td>\n",
       "      <td>NaN</td>\n",
       "    </tr>\n",
       "    <tr>\n",
       "      <th>std</th>\n",
       "      <td>NaN</td>\n",
       "      <td>NaN</td>\n",
       "      <td>NaN</td>\n",
       "      <td>108.874308</td>\n",
       "      <td>NaN</td>\n",
       "      <td>NaN</td>\n",
       "      <td>NaN</td>\n",
       "      <td>NaN</td>\n",
       "      <td>NaN</td>\n",
       "    </tr>\n",
       "    <tr>\n",
       "      <th>min</th>\n",
       "      <td>NaN</td>\n",
       "      <td>NaN</td>\n",
       "      <td>NaN</td>\n",
       "      <td>7.100000</td>\n",
       "      <td>NaN</td>\n",
       "      <td>NaN</td>\n",
       "      <td>NaN</td>\n",
       "      <td>NaN</td>\n",
       "      <td>NaN</td>\n",
       "    </tr>\n",
       "    <tr>\n",
       "      <th>25%</th>\n",
       "      <td>NaN</td>\n",
       "      <td>NaN</td>\n",
       "      <td>NaN</td>\n",
       "      <td>16.127500</td>\n",
       "      <td>NaN</td>\n",
       "      <td>NaN</td>\n",
       "      <td>NaN</td>\n",
       "      <td>NaN</td>\n",
       "      <td>NaN</td>\n",
       "    </tr>\n",
       "    <tr>\n",
       "      <th>50%</th>\n",
       "      <td>NaN</td>\n",
       "      <td>NaN</td>\n",
       "      <td>NaN</td>\n",
       "      <td>21.191000</td>\n",
       "      <td>NaN</td>\n",
       "      <td>NaN</td>\n",
       "      <td>NaN</td>\n",
       "      <td>NaN</td>\n",
       "      <td>NaN</td>\n",
       "    </tr>\n",
       "    <tr>\n",
       "      <th>75%</th>\n",
       "      <td>NaN</td>\n",
       "      <td>NaN</td>\n",
       "      <td>NaN</td>\n",
       "      <td>35.174500</td>\n",
       "      <td>NaN</td>\n",
       "      <td>NaN</td>\n",
       "      <td>NaN</td>\n",
       "      <td>NaN</td>\n",
       "      <td>NaN</td>\n",
       "    </tr>\n",
       "    <tr>\n",
       "      <th>max</th>\n",
       "      <td>NaN</td>\n",
       "      <td>NaN</td>\n",
       "      <td>NaN</td>\n",
       "      <td>5083.954000</td>\n",
       "      <td>NaN</td>\n",
       "      <td>NaN</td>\n",
       "      <td>NaN</td>\n",
       "      <td>NaN</td>\n",
       "      <td>NaN</td>\n",
       "    </tr>\n",
       "  </tbody>\n",
       "</table>\n",
       "</div>"
      ],
      "text/plain": [
       "       Release_Date                 Title  \\\n",
       "count          9837                  9828   \n",
       "unique         5903                  9514   \n",
       "top      2022-03-10  Beauty and the Beast   \n",
       "freq             16                     4   \n",
       "mean            NaN                   NaN   \n",
       "std             NaN                   NaN   \n",
       "min             NaN                   NaN   \n",
       "25%             NaN                   NaN   \n",
       "50%             NaN                   NaN   \n",
       "75%             NaN                   NaN   \n",
       "max             NaN                   NaN   \n",
       "\n",
       "                                                 Overview   Popularity  \\\n",
       "count                                                9828  9827.000000   \n",
       "unique                                               9823          NaN   \n",
       "top     Dr. Raichi is one of the only survivors of the...          NaN   \n",
       "freq                                                    2          NaN   \n",
       "mean                                                  NaN    40.320570   \n",
       "std                                                   NaN   108.874308   \n",
       "min                                                   NaN     7.100000   \n",
       "25%                                                   NaN    16.127500   \n",
       "50%                                                   NaN    21.191000   \n",
       "75%                                                   NaN    35.174500   \n",
       "max                                                   NaN  5083.954000   \n",
       "\n",
       "       Vote_Count Vote_Average Original_Language  Genre  \\\n",
       "count        9827         9827              9827   9826   \n",
       "unique       3267           75                44   2337   \n",
       "top             0          6.4                en  Drama   \n",
       "freq          100          435              7569    466   \n",
       "mean          NaN          NaN               NaN    NaN   \n",
       "std           NaN          NaN               NaN    NaN   \n",
       "min           NaN          NaN               NaN    NaN   \n",
       "25%           NaN          NaN               NaN    NaN   \n",
       "50%           NaN          NaN               NaN    NaN   \n",
       "75%           NaN          NaN               NaN    NaN   \n",
       "max           NaN          NaN               NaN    NaN   \n",
       "\n",
       "                                               Poster_Url  \n",
       "count                                                9826  \n",
       "unique                                               9826  \n",
       "top     https://image.tmdb.org/t/p/original/1g0dhYtq4i...  \n",
       "freq                                                    1  \n",
       "mean                                                  NaN  \n",
       "std                                                   NaN  \n",
       "min                                                   NaN  \n",
       "25%                                                   NaN  \n",
       "50%                                                   NaN  \n",
       "75%                                                   NaN  \n",
       "max                                                   NaN  "
      ]
     },
     "execution_count": 15,
     "metadata": {},
     "output_type": "execute_result"
    }
   ],
   "source": [
    "train_data.describe(include='all')"
   ]
  },
  {
   "cell_type": "code",
   "execution_count": 16,
   "id": "7ade65a6",
   "metadata": {},
   "outputs": [
    {
     "data": {
      "text/html": [
       "<div>\n",
       "<style scoped>\n",
       "    .dataframe tbody tr th:only-of-type {\n",
       "        vertical-align: middle;\n",
       "    }\n",
       "\n",
       "    .dataframe tbody tr th {\n",
       "        vertical-align: top;\n",
       "    }\n",
       "\n",
       "    .dataframe thead th {\n",
       "        text-align: right;\n",
       "    }\n",
       "</style>\n",
       "<table border=\"1\" class=\"dataframe\">\n",
       "  <thead>\n",
       "    <tr style=\"text-align: right;\">\n",
       "      <th></th>\n",
       "      <th>Release_Date</th>\n",
       "      <th>Title</th>\n",
       "      <th>Popularity</th>\n",
       "      <th>Vote_Count</th>\n",
       "      <th>Vote_Average</th>\n",
       "      <th>Original_Language</th>\n",
       "      <th>Genre</th>\n",
       "    </tr>\n",
       "  </thead>\n",
       "  <tbody>\n",
       "    <tr>\n",
       "      <th>count</th>\n",
       "      <td>9826</td>\n",
       "      <td>9826</td>\n",
       "      <td>9826.000000</td>\n",
       "      <td>9826</td>\n",
       "      <td>9826</td>\n",
       "      <td>9826</td>\n",
       "      <td>9826</td>\n",
       "    </tr>\n",
       "    <tr>\n",
       "      <th>unique</th>\n",
       "      <td>5892</td>\n",
       "      <td>9512</td>\n",
       "      <td>NaN</td>\n",
       "      <td>3266</td>\n",
       "      <td>74</td>\n",
       "      <td>43</td>\n",
       "      <td>2337</td>\n",
       "    </tr>\n",
       "    <tr>\n",
       "      <th>top</th>\n",
       "      <td>2022-03-10</td>\n",
       "      <td>Alice in Wonderland</td>\n",
       "      <td>NaN</td>\n",
       "      <td>0</td>\n",
       "      <td>6.4</td>\n",
       "      <td>en</td>\n",
       "      <td>Drama</td>\n",
       "    </tr>\n",
       "    <tr>\n",
       "      <th>freq</th>\n",
       "      <td>16</td>\n",
       "      <td>4</td>\n",
       "      <td>NaN</td>\n",
       "      <td>100</td>\n",
       "      <td>435</td>\n",
       "      <td>7569</td>\n",
       "      <td>466</td>\n",
       "    </tr>\n",
       "    <tr>\n",
       "      <th>mean</th>\n",
       "      <td>NaN</td>\n",
       "      <td>NaN</td>\n",
       "      <td>40.323951</td>\n",
       "      <td>NaN</td>\n",
       "      <td>NaN</td>\n",
       "      <td>NaN</td>\n",
       "      <td>NaN</td>\n",
       "    </tr>\n",
       "    <tr>\n",
       "      <th>std</th>\n",
       "      <td>NaN</td>\n",
       "      <td>NaN</td>\n",
       "      <td>108.879332</td>\n",
       "      <td>NaN</td>\n",
       "      <td>NaN</td>\n",
       "      <td>NaN</td>\n",
       "      <td>NaN</td>\n",
       "    </tr>\n",
       "    <tr>\n",
       "      <th>min</th>\n",
       "      <td>NaN</td>\n",
       "      <td>NaN</td>\n",
       "      <td>13.354000</td>\n",
       "      <td>NaN</td>\n",
       "      <td>NaN</td>\n",
       "      <td>NaN</td>\n",
       "      <td>NaN</td>\n",
       "    </tr>\n",
       "    <tr>\n",
       "      <th>25%</th>\n",
       "      <td>NaN</td>\n",
       "      <td>NaN</td>\n",
       "      <td>16.128250</td>\n",
       "      <td>NaN</td>\n",
       "      <td>NaN</td>\n",
       "      <td>NaN</td>\n",
       "      <td>NaN</td>\n",
       "    </tr>\n",
       "    <tr>\n",
       "      <th>50%</th>\n",
       "      <td>NaN</td>\n",
       "      <td>NaN</td>\n",
       "      <td>21.195000</td>\n",
       "      <td>NaN</td>\n",
       "      <td>NaN</td>\n",
       "      <td>NaN</td>\n",
       "      <td>NaN</td>\n",
       "    </tr>\n",
       "    <tr>\n",
       "      <th>75%</th>\n",
       "      <td>NaN</td>\n",
       "      <td>NaN</td>\n",
       "      <td>35.179250</td>\n",
       "      <td>NaN</td>\n",
       "      <td>NaN</td>\n",
       "      <td>NaN</td>\n",
       "      <td>NaN</td>\n",
       "    </tr>\n",
       "    <tr>\n",
       "      <th>max</th>\n",
       "      <td>NaN</td>\n",
       "      <td>NaN</td>\n",
       "      <td>5083.954000</td>\n",
       "      <td>NaN</td>\n",
       "      <td>NaN</td>\n",
       "      <td>NaN</td>\n",
       "      <td>NaN</td>\n",
       "    </tr>\n",
       "  </tbody>\n",
       "</table>\n",
       "</div>"
      ],
      "text/plain": [
       "       Release_Date                Title   Popularity Vote_Count Vote_Average  \\\n",
       "count          9826                 9826  9826.000000       9826         9826   \n",
       "unique         5892                 9512          NaN       3266           74   \n",
       "top      2022-03-10  Alice in Wonderland          NaN          0          6.4   \n",
       "freq             16                    4          NaN        100          435   \n",
       "mean            NaN                  NaN    40.323951        NaN          NaN   \n",
       "std             NaN                  NaN   108.879332        NaN          NaN   \n",
       "min             NaN                  NaN    13.354000        NaN          NaN   \n",
       "25%             NaN                  NaN    16.128250        NaN          NaN   \n",
       "50%             NaN                  NaN    21.195000        NaN          NaN   \n",
       "75%             NaN                  NaN    35.179250        NaN          NaN   \n",
       "max             NaN                  NaN  5083.954000        NaN          NaN   \n",
       "\n",
       "       Original_Language  Genre  \n",
       "count               9826   9826  \n",
       "unique                43   2337  \n",
       "top                   en  Drama  \n",
       "freq                7569    466  \n",
       "mean                 NaN    NaN  \n",
       "std                  NaN    NaN  \n",
       "min                  NaN    NaN  \n",
       "25%                  NaN    NaN  \n",
       "50%                  NaN    NaN  \n",
       "75%                  NaN    NaN  \n",
       "max                  NaN    NaN  "
      ]
     },
     "execution_count": 16,
     "metadata": {},
     "output_type": "execute_result"
    }
   ],
   "source": [
    "train_data_clean.describe(include='all')"
   ]
  },
  {
   "cell_type": "code",
   "execution_count": 17,
   "id": "c57b4439",
   "metadata": {},
   "outputs": [],
   "source": [
    "train_data_clean['Vote_Count'] = train_data_clean['Vote_Count'].astype(int)"
   ]
  },
  {
   "cell_type": "code",
   "execution_count": 18,
   "id": "74f258e0",
   "metadata": {},
   "outputs": [],
   "source": [
    "train_data_clean['Release_Date'] = pd.to_datetime(train_data_clean['Release_Date'])"
   ]
  },
  {
   "cell_type": "code",
   "execution_count": 19,
   "id": "bd37a35d",
   "metadata": {},
   "outputs": [],
   "source": [
    "train_data_clean['Vote_Average'] = train_data_clean['Vote_Average'].astype(float)"
   ]
  },
  {
   "cell_type": "code",
   "execution_count": 20,
   "id": "8ce5f952",
   "metadata": {},
   "outputs": [],
   "source": [
    "train_data_clean['Genre'] = train_data_clean['Genre'].astype('string')"
   ]
  },
  {
   "cell_type": "code",
   "execution_count": 21,
   "id": "829046e9",
   "metadata": {},
   "outputs": [
    {
     "name": "stdout",
     "output_type": "stream",
     "text": [
      "<class 'pandas.core.frame.DataFrame'>\n",
      "Index: 9826 entries, 0 to 9836\n",
      "Data columns (total 7 columns):\n",
      " #   Column             Non-Null Count  Dtype         \n",
      "---  ------             --------------  -----         \n",
      " 0   Release_Date       9826 non-null   datetime64[ns]\n",
      " 1   Title              9826 non-null   string        \n",
      " 2   Popularity         9826 non-null   float64       \n",
      " 3   Vote_Count         9826 non-null   int32         \n",
      " 4   Vote_Average       9826 non-null   float64       \n",
      " 5   Original_Language  9826 non-null   string        \n",
      " 6   Genre              9826 non-null   string        \n",
      "dtypes: datetime64[ns](1), float64(2), int32(1), string(3)\n",
      "memory usage: 575.7 KB\n"
     ]
    }
   ],
   "source": [
    "train_data_clean.info()\n"
   ]
  },
  {
   "cell_type": "code",
   "execution_count": 22,
   "id": "74dde2ea",
   "metadata": {},
   "outputs": [
    {
     "data": {
      "text/html": [
       "<div>\n",
       "<style scoped>\n",
       "    .dataframe tbody tr th:only-of-type {\n",
       "        vertical-align: middle;\n",
       "    }\n",
       "\n",
       "    .dataframe tbody tr th {\n",
       "        vertical-align: top;\n",
       "    }\n",
       "\n",
       "    .dataframe thead th {\n",
       "        text-align: right;\n",
       "    }\n",
       "</style>\n",
       "<table border=\"1\" class=\"dataframe\">\n",
       "  <thead>\n",
       "    <tr style=\"text-align: right;\">\n",
       "      <th></th>\n",
       "      <th>Release_Date</th>\n",
       "      <th>Popularity</th>\n",
       "      <th>Vote_Count</th>\n",
       "      <th>Vote_Average</th>\n",
       "    </tr>\n",
       "  </thead>\n",
       "  <tbody>\n",
       "    <tr>\n",
       "      <th>count</th>\n",
       "      <td>9826</td>\n",
       "      <td>9826.000000</td>\n",
       "      <td>9826.000000</td>\n",
       "      <td>9826.000000</td>\n",
       "    </tr>\n",
       "    <tr>\n",
       "      <th>mean</th>\n",
       "      <td>2006-09-23 04:47:14.276409600</td>\n",
       "      <td>40.323951</td>\n",
       "      <td>1392.943721</td>\n",
       "      <td>6.439467</td>\n",
       "    </tr>\n",
       "    <tr>\n",
       "      <th>min</th>\n",
       "      <td>1902-04-17 00:00:00</td>\n",
       "      <td>13.354000</td>\n",
       "      <td>0.000000</td>\n",
       "      <td>0.000000</td>\n",
       "    </tr>\n",
       "    <tr>\n",
       "      <th>25%</th>\n",
       "      <td>2000-10-17 12:00:00</td>\n",
       "      <td>16.128250</td>\n",
       "      <td>146.000000</td>\n",
       "      <td>5.900000</td>\n",
       "    </tr>\n",
       "    <tr>\n",
       "      <th>50%</th>\n",
       "      <td>2011-09-12 00:00:00</td>\n",
       "      <td>21.195000</td>\n",
       "      <td>444.000000</td>\n",
       "      <td>6.500000</td>\n",
       "    </tr>\n",
       "    <tr>\n",
       "      <th>75%</th>\n",
       "      <td>2017-11-22 00:00:00</td>\n",
       "      <td>35.179250</td>\n",
       "      <td>1376.000000</td>\n",
       "      <td>7.100000</td>\n",
       "    </tr>\n",
       "    <tr>\n",
       "      <th>max</th>\n",
       "      <td>2024-07-03 00:00:00</td>\n",
       "      <td>5083.954000</td>\n",
       "      <td>31077.000000</td>\n",
       "      <td>10.000000</td>\n",
       "    </tr>\n",
       "    <tr>\n",
       "      <th>std</th>\n",
       "      <td>NaN</td>\n",
       "      <td>108.879332</td>\n",
       "      <td>2611.303856</td>\n",
       "      <td>1.129797</td>\n",
       "    </tr>\n",
       "  </tbody>\n",
       "</table>\n",
       "</div>"
      ],
      "text/plain": [
       "                        Release_Date   Popularity    Vote_Count  Vote_Average\n",
       "count                           9826  9826.000000   9826.000000   9826.000000\n",
       "mean   2006-09-23 04:47:14.276409600    40.323951   1392.943721      6.439467\n",
       "min              1902-04-17 00:00:00    13.354000      0.000000      0.000000\n",
       "25%              2000-10-17 12:00:00    16.128250    146.000000      5.900000\n",
       "50%              2011-09-12 00:00:00    21.195000    444.000000      6.500000\n",
       "75%              2017-11-22 00:00:00    35.179250   1376.000000      7.100000\n",
       "max              2024-07-03 00:00:00  5083.954000  31077.000000     10.000000\n",
       "std                              NaN   108.879332   2611.303856      1.129797"
      ]
     },
     "execution_count": 22,
     "metadata": {},
     "output_type": "execute_result"
    }
   ],
   "source": [
    "train_data_clean.describe()"
   ]
  },
  {
   "cell_type": "code",
   "execution_count": 23,
   "id": "6983d8c4",
   "metadata": {},
   "outputs": [],
   "source": [
    "train_data_clean_numeric=train_data_clean.select_dtypes(include=['number'])"
   ]
  },
  {
   "cell_type": "code",
   "execution_count": 24,
   "id": "67df5661",
   "metadata": {},
   "outputs": [
    {
     "data": {
      "text/html": [
       "<div>\n",
       "<style scoped>\n",
       "    .dataframe tbody tr th:only-of-type {\n",
       "        vertical-align: middle;\n",
       "    }\n",
       "\n",
       "    .dataframe tbody tr th {\n",
       "        vertical-align: top;\n",
       "    }\n",
       "\n",
       "    .dataframe thead th {\n",
       "        text-align: right;\n",
       "    }\n",
       "</style>\n",
       "<table border=\"1\" class=\"dataframe\">\n",
       "  <thead>\n",
       "    <tr style=\"text-align: right;\">\n",
       "      <th></th>\n",
       "      <th>Popularity</th>\n",
       "      <th>Vote_Count</th>\n",
       "      <th>Vote_Average</th>\n",
       "    </tr>\n",
       "  </thead>\n",
       "  <tbody>\n",
       "    <tr>\n",
       "      <th>0</th>\n",
       "      <td>5083.954</td>\n",
       "      <td>8940</td>\n",
       "      <td>8.3</td>\n",
       "    </tr>\n",
       "    <tr>\n",
       "      <th>1</th>\n",
       "      <td>3827.658</td>\n",
       "      <td>1151</td>\n",
       "      <td>8.1</td>\n",
       "    </tr>\n",
       "    <tr>\n",
       "      <th>2</th>\n",
       "      <td>2618.087</td>\n",
       "      <td>122</td>\n",
       "      <td>6.3</td>\n",
       "    </tr>\n",
       "    <tr>\n",
       "      <th>3</th>\n",
       "      <td>2402.201</td>\n",
       "      <td>5076</td>\n",
       "      <td>7.7</td>\n",
       "    </tr>\n",
       "    <tr>\n",
       "      <th>4</th>\n",
       "      <td>1895.511</td>\n",
       "      <td>1793</td>\n",
       "      <td>7.0</td>\n",
       "    </tr>\n",
       "  </tbody>\n",
       "</table>\n",
       "</div>"
      ],
      "text/plain": [
       "   Popularity  Vote_Count  Vote_Average\n",
       "0    5083.954        8940           8.3\n",
       "1    3827.658        1151           8.1\n",
       "2    2618.087         122           6.3\n",
       "3    2402.201        5076           7.7\n",
       "4    1895.511        1793           7.0"
      ]
     },
     "execution_count": 24,
     "metadata": {},
     "output_type": "execute_result"
    }
   ],
   "source": [
    "train_data_clean_numeric.head()"
   ]
  },
  {
   "cell_type": "markdown",
   "id": "70620433",
   "metadata": {},
   "source": [
    "# Welche Orignalsprache haben die Filme im Datensatz"
   ]
  },
  {
   "cell_type": "code",
   "execution_count": 25,
   "id": "4ddb03fc",
   "metadata": {
    "scrolled": false
   },
   "outputs": [
    {
     "data": {
      "text/plain": [
       "array(['ar', 'bn', 'ca', 'cn', 'cs', 'da', 'de', 'el', 'en', 'es', 'et',\n",
       "       'eu', 'fa', 'fi', 'fr', 'he', 'hi', 'hu', 'id', 'is', 'it', 'ja',\n",
       "       'ko', 'la', 'lv', 'ml', 'ms', 'nb', 'nl', 'no', 'pl', 'pt', 'ro',\n",
       "       'ru', 'sr', 'sv', 'ta', 'te', 'th', 'tl', 'tr', 'uk', 'zh'],\n",
       "      dtype=object)"
      ]
     },
     "execution_count": 25,
     "metadata": {},
     "output_type": "execute_result"
    }
   ],
   "source": [
    "np.unique(train_data_clean['Original_Language'])"
   ]
  },
  {
   "cell_type": "markdown",
   "id": "90e49078",
   "metadata": {},
   "source": [
    "# Die Sprachen\n",
    "    ## Die einzigartigen Originalsprachen in Ihrem DataFrame sind:\n",
    "\n",
    "1. Arabisch (ar)\n",
    "2. Bengalisch (bn)\n",
    "3. Katalanisch (ca)\n",
    "4. Chinesisch (cn)\n",
    "5. Tschechisch (cs)\n",
    "6. Dänisch (da)\n",
    "7. Deutsch (de)\n",
    "8. Griechisch (el)\n",
    "9. Englisch (en)\n",
    "10. Spanisch (es)\n",
    "11. Estnisch (et)\n",
    "12. Baskisch (eu)\n",
    "13. Persisch (fa)\n",
    "14. Finnisch (fi)\n",
    "15. Französisch (fr)\n",
    "16. Hebräisch (he)\n",
    "17. Hindi (hi)\n",
    "18. Ungarisch (hu)\n",
    "19. Indonesisch (id)\n",
    "20. Isländisch (is)\n",
    "21. Italienisch (it)\n",
    "22. Japanisch (ja)\n",
    "23. Koreanisch (ko)\n",
    "24. Latein (la)\n",
    "25. Lettisch (lv)\n",
    "26. Malayalam (ml)\n",
    "27. Malaiisch (ms)\n",
    "28. Norwegisch Bokmål (nb)\n",
    "29. Niederländisch (nl)\n",
    "30. Norwegisch (no)\n",
    "31. Polnisch (pl)\n",
    "32. Portugiesisch (pt)\n",
    "33. Rumänisch (ro)\n",
    "34. Russisch (ru)\n",
    "35. Serbisch (sr)\n",
    "36. Schwedisch (sv)\n",
    "37. Tamil (ta)\n",
    "38. Telugu (te)\n",
    "39. Thailändisch (th)\n",
    "40. Tagalog (tl)\n",
    "41. Türkisch (tr)\n",
    "42. Ukrainisch (uk)\n",
    "43. Chinesisch (zh)\n"
   ]
  },
  {
   "cell_type": "markdown",
   "id": "e7d34011",
   "metadata": {},
   "source": [
    "# % der Sprachen im Datensatz"
   ]
  },
  {
   "cell_type": "code",
   "execution_count": 26,
   "id": "798c2f9c",
   "metadata": {
    "scrolled": true
   },
   "outputs": [
    {
     "name": "stdout",
     "output_type": "stream",
     "text": [
      "Original_Language\n",
      "en    77.030328\n",
      "ja     6.564217\n",
      "es     3.450031\n",
      "fr     2.971708\n",
      "ko     1.730104\n",
      "zh     1.312843\n",
      "it     1.251781\n",
      "cn     1.109302\n",
      "ru     0.844698\n",
      "de     0.834521\n",
      "pt     0.376552\n",
      "da     0.284958\n",
      "no     0.264604\n",
      "hi     0.264604\n",
      "sv     0.234073\n",
      "nl     0.213719\n",
      "pl      0.17301\n",
      "th      0.17301\n",
      "id     0.152656\n",
      "tr     0.152656\n",
      "tl     0.081417\n",
      "te     0.061062\n",
      "el     0.050885\n",
      "sr     0.050885\n",
      "fi     0.050885\n",
      "cs     0.040708\n",
      "fa     0.030531\n",
      "hu     0.030531\n",
      "ta     0.020354\n",
      "he     0.020354\n",
      "ar     0.020354\n",
      "uk     0.020354\n",
      "ro     0.020354\n",
      "is     0.020354\n",
      "ca     0.010177\n",
      "la     0.010177\n",
      "nb     0.010177\n",
      "bn     0.010177\n",
      "ms     0.010177\n",
      "lv     0.010177\n",
      "eu     0.010177\n",
      "ml     0.010177\n",
      "et     0.010177\n",
      "Name: count, dtype: Float64\n"
     ]
    }
   ],
   "source": [
    "language_counts = train_data_clean['Original_Language'].value_counts()\n",
    "percentage = (language_counts / train_data_clean['Original_Language'].size) * 100\n",
    "print(percentage)"
   ]
  },
  {
   "cell_type": "markdown",
   "id": "0827e55e",
   "metadata": {},
   "source": [
    "# Genres aufgeteilt und Popularity addiert \n",
    "## z.B. Action ist das beliebteste Genre mit Popularity 125.823.226"
   ]
  },
  {
   "cell_type": "code",
   "execution_count": 27,
   "id": "b59dcbc3",
   "metadata": {},
   "outputs": [
    {
     "name": "stdout",
     "output_type": "stream",
     "text": [
      "Action: 136663\n",
      "Comedy: 114795\n",
      "Drama: 112622\n",
      "Thriller: 106822\n",
      "Adventure: 99560\n",
      "Animation: 75392\n",
      "Fantasy: 69425\n",
      "Family: 65918\n",
      "ScienceFiction: 63019\n",
      "Horror: 56248\n",
      "Crime: 55567\n",
      "Romance: 45583\n",
      "Mystery: 30995\n",
      "History: 12136\n",
      "War: 10871\n",
      "Music: 9968\n",
      "TVMovie: 6410\n",
      "Documentary: 6288\n",
      "Western: 4960\n"
     ]
    }
   ],
   "source": [
    "genre_popularity = {}\n",
    "\n",
    "# Durchlaufen Sie jede Zeile in Ihrem DataFrame\n",
    "for i, row in train_data_clean.iterrows():\n",
    "    # Split the 'Genre' string into a list of genres\n",
    "    genres = row['Genre'].replace(\" \", \"\").split(\",\")\n",
    "    # popularity in int casten\n",
    "    popularity = int(round(row[\"Popularity\"]))\n",
    "    \n",
    "    # Add the popularity of the current movie to each of its genres\n",
    "    for genre in genres:\n",
    "        if genre in genre_popularity:\n",
    "            genre_popularity[genre] += popularity\n",
    "        else:\n",
    "            genre_popularity[genre] = popularity\n",
    "\n",
    "# Sortieren Sie das Dictionary nach Popularität in absteigender Reihenfolge\n",
    "sorted_genres = sorted(genre_popularity.items(), key=lambda x: x[1], reverse=True)\n",
    "\n",
    "# Drucken Sie das sortierte Dictionary aus\n",
    "for genre, popularity in sorted_genres:\n",
    "    print(f\"{genre}: {popularity}\")"
   ]
  },
  {
   "cell_type": "markdown",
   "id": "b81d0de5",
   "metadata": {},
   "source": [
    "# durchschnittliche Beliebtheit für jedes Genre python"
   ]
  },
  {
   "cell_type": "code",
   "execution_count": 28,
   "id": "604ff52b",
   "metadata": {},
   "outputs": [
    {
     "name": "stdout",
     "output_type": "stream",
     "text": [
      "Adventure: 53.74288828926054\n",
      "Fantasy: 53.08134174311917\n",
      "Animation: 52.4276627260084\n",
      "Action: 50.890132911392364\n",
      "Science Fiction: 49.511333857030685\n",
      "Family: 46.6106159830269\n",
      "Crime: 44.74729549114323\n",
      "Thriller: 42.94625763665597\n",
      "Mystery: 40.09358990944373\n",
      "Horror: 38.26449795918362\n",
      "Comedy: 37.87366875618602\n",
      "Western: 36.187912408759125\n",
      "War: 35.29807467532467\n",
      "Music: 33.77141016949153\n",
      "Romance: 30.86603048780494\n",
      "Drama: 30.077651442307708\n",
      "TV Movie: 29.954714953271036\n",
      "Documentary: 29.235376744186063\n",
      "History: 28.3958266978923\n"
     ]
    }
   ],
   "source": [
    "# Erstellen Sie ein leeres Dictionary, um die Gesamtpopularität und die Anzahl der Filme für jedes Genre zu speichern\n",
    "genre_popularity = {}\n",
    "genre_counts = {}\n",
    "\n",
    "# Durchlaufen Sie jede Zeile in Ihrem DataFrame\n",
    "for i, row in train_data_clean.iterrows():\n",
    "    # Teilen Sie den 'Genre'-String in eine Liste von Genres auf\n",
    "    genres = row['Genre'].split(', ')\n",
    "    \n",
    "    # Fügen Sie die Beliebtheit des aktuellen Films zu jedem seiner Genres hinzu und zählen Sie die Anzahl der Filme\n",
    "    for genre in genres:\n",
    "        if genre in genre_popularity:\n",
    "            genre_popularity[genre] += row['Popularity']\n",
    "            genre_counts[genre] += 1\n",
    "        else:\n",
    "            genre_popularity[genre] = row['Popularity']\n",
    "            genre_counts[genre] = 1\n",
    "\n",
    "# Berechnen Sie die durchschnittliche Beliebtheit für jedes Genre\n",
    "average_popularity = {genre: genre_popularity[genre] / genre_counts[genre] for genre in genre_popularity}\n",
    "\n",
    "# Sortieren Sie das Dictionary nach durchschnittlicher Beliebtheit in absteigender Reihenfolge\n",
    "sorted_genres = sorted(average_popularity.items(), key=lambda x: x[1], reverse=True)\n",
    "\n",
    "# Drucken Sie das sortierte Dictionary aus\n",
    "for genre, popularity in sorted_genres:\n",
    "    print(f\"{genre}: {popularity}\")"
   ]
  },
  {
   "cell_type": "markdown",
   "id": "2a44f0f1",
   "metadata": {},
   "source": [
    "### Die Frage “Was schaut die Welt am liebsten?” bezieht sich in der Regel auf das Genre, das die meisten Zuschauer oder die höchste Gesamtpopularität hat. Es geht darum, welches Genre insgesamt am meisten gesehen wird.\n",
    "\n",
    "### Die “durchschnittliche Beliebtheit” eines Genres hingegen bezieht sich auf die durchschnittliche Beliebtheit der Filme innerhalb dieses Genres. Es ist möglich, dass ein Genre nur wenige, aber sehr beliebte Filme hat und daher eine hohe durchschnittliche Beliebtheit hat. Es ist aber auch möglich, dass ein Genre viele Filme hat, die nicht so beliebt sind, und daher eine niedrigere durchschnittliche Beliebtheit hat, obwohl es insgesamt mehr gesehen wird."
   ]
  },
  {
   "cell_type": "markdown",
   "id": "be407e59",
   "metadata": {},
   "source": [
    "#  beliebtester film von jedem genre"
   ]
  },
  {
   "cell_type": "code",
   "execution_count": 145,
   "id": "3969c8a2",
   "metadata": {},
   "outputs": [
    {
     "name": "stdout",
     "output_type": "stream",
     "text": [
      "Action: Spider-Man: No Way Home (5083.954)\n",
      "Adventure: Spider-Man: No Way Home (5083.954)\n",
      "Science Fiction: Spider-Man: No Way Home (5083.954)\n",
      "Crime: The Batman (3827.658)\n",
      "Mystery: The Batman (3827.658)\n",
      "Thriller: The Batman (3827.658)\n",
      "Animation: Encanto (2402.201)\n",
      "Comedy: Encanto (2402.201)\n",
      "Family: Encanto (2402.201)\n",
      "Fantasy: Encanto (2402.201)\n",
      "War: The King's Man (1895.511)\n",
      "Horror: Scream (1675.161)\n",
      "Drama: Nightmare Alley (1455.144)\n",
      "Music: Sing 2 (1112.9)\n",
      "Romance: Marry Me (761.793)\n",
      "Western: Tom and Jerry: Cowboy Up! (614.11)\n",
      "History: Chernobyl: Abyss (601.958)\n",
      "TV Movie: Laura y el misterio del asesino inesperado (266.754)\n",
      "Documentary: The Tinder Swindler (246.652)\n"
     ]
    }
   ],
   "source": [
    "# Erstellen Sie ein leeres Dictionary, um den beliebtesten Film jedes Genres zu speichern\n",
    "most_popular_movies = {}\n",
    "\n",
    "# Durchlaufen Sie jede Zeile in Ihrem DataFrame\n",
    "for i, row in train_data_clean.iterrows():\n",
    "    # Teilen Sie den 'Genre'-String in eine Liste von Genres auf\n",
    "    genres = row['Genre'].split(', ')\n",
    "    \n",
    "    # Überprüfen Sie für jedes Genre, ob der aktuelle Film beliebter ist als der bisher gespeicherte Film\n",
    "    for genre in genres:\n",
    "        if genre not in most_popular_movies or row['Popularity'] > most_popular_movies[genre]['Popularity']:\n",
    "            most_popular_movies[genre] = row\n",
    "\n",
    "# Drucken Sie den beliebtesten Film jedes Genres aus\n",
    "for genre, movie in most_popular_movies.items():\n",
    "    print(f\"{genre}: {movie['Title']} ({movie['Popularity']})\")"
   ]
  },
  {
   "cell_type": "markdown",
   "id": "3cf7bac9",
   "metadata": {},
   "source": [
    "# Beziehung zwischen Beliebtheit und Bewertung"
   ]
  },
  {
   "cell_type": "code",
   "execution_count": 147,
   "id": "d5f7cc0e",
   "metadata": {},
   "outputs": [
    {
     "data": {
      "image/png": "[encoded data removed]",
      "text/plain": [
       "<Figure size 640x480 with 1 Axes>"
      ]
     },
     "metadata": {},
     "output_type": "display_data"
    }
   ],
   "source": [
    "import matplotlib.pyplot as plt\n",
    "\n",
    "# Erstellen Sie das Streudiagramm\n",
    "sns.scatterplot(x='Popularity', y='Vote_Average', data=train_data_clean, color='blue')\n",
    "\n",
    "# Fügen Sie Titel und Achsenbeschriftungen hinzu\n",
    "plt.title('Beziehung zwischen Beliebtheit und Bewertung')\n",
    "plt.xlabel('Beliebtheit')\n",
    "plt.ylabel('Bewertung')\n",
    "\n",
    "# Zeigen Sie das Diagramm an\n",
    "plt.show()"
   ]
  },
  {
   "cell_type": "markdown",
   "id": "67f825ee",
   "metadata": {},
   "source": [
    "# Beliebtheit im Laufe der Zeit"
   ]
  },
  {
   "cell_type": "code",
   "execution_count": 149,
   "id": "86fd2953",
   "metadata": {},
   "outputs": [
    {
     "data": {
      "image/png": "[encoded data removed]",
      "text/plain": [
       "<Figure size 640x480 with 1 Axes>"
      ]
     },
     "metadata": {},
     "output_type": "display_data"
    }
   ],
   "source": [
    "# Sortieren Sie das DataFrame nach dem Veröffentlichungsdatum\n",
    "train_data_clean_sorted = train_data_clean.sort_values('Release_Date')\n",
    "\n",
    "# Erstellen Sie das Liniendiagramm\n",
    "plt.plot(train_data_clean_sorted['Release_Date'], train_data_clean_sorted['Popularity'])\n",
    "\n",
    "# Fügen Sie Titel und Achsenbeschriftungen hinzu\n",
    "plt.title('Beliebtheit von Filmen im Laufe der Zeit')\n",
    "plt.xlabel('Veröffentlichungsdatum')\n",
    "plt.ylabel('Beliebtheit')\n",
    "\n",
    "# Zeigen Sie das Diagramm an\n",
    "plt.show()"
   ]
  },
  {
   "cell_type": "code",
   "execution_count": null,
   "id": "24f1830f",
   "metadata": {},
   "outputs": [],
   "source": []
  }
 ],
 "metadata": {
  "kernelspec": {
   "display_name": "Python 3 (ipykernel)",
   "language": "python",
   "name": "python3"
  },
  "language_info": {
   "codemirror_mode": {
    "name": "ipython",
    "version": 3
   },
   "file_extension": ".py",
   "mimetype": "text/x-python",
   "name": "python",
   "nbconvert_exporter": "python",
   "pygments_lexer": "ipython3",
   "version": "3.11.5"
  }
 },
 "nbformat": 4,
 "nbformat_minor": 5
}
